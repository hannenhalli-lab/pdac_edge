{
 "cells": [
  {
   "cell_type": "code",
   "execution_count": null,
   "metadata": {},
   "outputs": [],
   "source": [
    "library(data.table)\n",
    "library(Seurat)\n",
    "library(ggplot2)\n",
    "library(grid)\n",
    "library(dplyr)\n",
    "library(pheatmap)\n",
    "# library(DoubletFinder)\n",
    "library(ggpubr)\n",
    "library(TxDb.Hsapiens.UCSC.hg19.knownGene)\n",
    "library(org.Hs.eg.db)\n",
    "# library(BSgenome.Hsapiens.UCSC.hg19)\n",
    "library(robustbase)\n",
    "library(gridExtra)\n",
    "library(RColorBrewer)\n",
    "library(stringr)\n",
    "library(MAST)\n",
    "library(tibble)\n",
    "library(fgsea)\n",
    "library(ggpubr)\n",
    "library(GEOquery)\n",
    "library(AUCell)\n",
    "library(stringr)\n",
    "library(circlize)\n",
    "library(ComplexHeatmap)\n",
    "# library(monocle3)\n",
    "library(fgsea)\n",
    "library(stringr)\n",
    "library(extraDistr)\n",
    "library(entropy)\n",
    "# library(writexl)\n",
    "library(doRNG)\n",
    "library(doParallel)\n",
    "\n",
    "# source(\"../src/motif_analysis.R\")\n",
    "source(\"../src/process_pdac.R\")\n",
    "source(\"../src/pdac_plots.R\")\n",
    "base_path <- file.path(\"..\",\"data\")\n",
    "\n",
    "s.genes <- c(\"MCM5\",\"PCNA\",\"TYMS\",\"FEN1\",\"MCM2\",\"MCM4\",\"RRM1\",\"UNG\",\"GINS2\",\"MCM6\",\"CDCA7\",\"DTL\",\"PRIM1\",\"UHRF1\",\"MLF1IP\",\"HELLS\",\"RFC2\",\"RPA2\",\"NASP\",\"RAD51AP1\",\"GMNN\",\"WDR76\",\"SLBP\",\"CCNE2\",\"UBR7\",\"POLD3\",\"MSH2\",\"ATAD2\",\"RAD51\",\"RRM2\",\"CDC45\",\"CDC6\",\"EXO1\",\"TIPIN\",\"DSCC1\",\"BLM\",\"CASP8AP2\",\"USP1\",\"CLSPN\",\"POLA1\",\"CHAF1B\",\"BRIP1\",\"E2F8\")\n",
    "g2m.genes <- c(\"HMGB2\",\"CDK1\",\"NUSAP1\",\"UBE2C\",\"BIRC5\",\"TPX2\",\"TOP2A\",\"NDC80\",\"CKS2\",\"NUF2\",\"CKS1B\",\"MKI67\",\"TMPO\",\"CENPF\",\"TACC3\",\"FAM64A\",\"SMC4\",\"CCNB2\",\"CKAP2L\",\"CKAP2\",\"AURKB\",\"BUB1\",\"KIF11\",\"ANP32E\",\"TUBB4B\",\"GTSE1\",\"KIF20B\",\"HJURP\",\"CDCA3\",\"HN1\",\"CDC20\",\"TTK\",\"CDC25C\",\"KIF2C\",\"RANGAP1\",\"NCAPD2\",\"DLGAP5\",\"CDCA2\",\"CDCA8\",\"ECT2\",\"KIF23\",\"HMMR\",\"AURKA\",\"PSRC1\",\"ANLN\",\"LBR\",\"CKAP5\",\"CENPE\",\"CTCF\",\"NEK2\",\"G2E3\",\"GAS2L3\",\"CBX5\",\"CENPA\")\n"
   ]
  },
  {
   "cell_type": "markdown",
   "metadata": {},
   "source": [
    "The cell below loads the cell annotations and creates a Seurat object from the publicly available read count matrix. \n",
    "\n",
    "Two files --- cell_doublets.tsv and edge_info_all_doublet_filtered_celltypes.rds --- which contain (a) the list of doublet cells to be removed from the Seurat object, and (b) the edge/non-edge annotations for each cell. "
   ]
  },
  {
   "cell_type": "code",
   "execution_count": null,
   "metadata": {},
   "outputs": [],
   "source": [
    "base_path <- file.path(\"..\",\"data\")\n",
    "pdac_matrix_file_name <- \"CRA001160.matrix\"\n",
    "pdac_anno_file_name <- \"CRA001160.celltypes.tsv\"\n",
    "pdac_matrix_path <- file.path( base_path, pdac_matrix_file_name )\n",
    "pdac_annotation_path <- file.path( base_path, pdac_anno_file_name )\n",
    "\n",
    "pdac_anno_dt <- process_annotations( pdac_annotation_path )\n",
    "seurat_obj <- create_full_seurat_object( read_gene_exp_mat( \n",
    "    pdac_matrix_path ), pdac_anno_dt )\n",
    "meta_data_dt <- data.table( seurat_obj@meta.data, keep.rownames = T ) %>% setnames(.,\"rn\",\"cell.name\")\n",
    "\n",
    "doublet_cells <- fread( file.path( base_path, \"cell_doublets.tsv\" ),header=F) %>% .$V1\n",
    "\n",
    "filtered_cells <- meta_data_dt[!cell.name %in% doublet_cells,cell.name]\n",
    "pdac_anno_dt <- pdac_anno_dt[cell.name %in% filtered_cells,]\n",
    "\n",
    "seurat_obj <- subset( seurat_obj, cells=filtered_cells )\n",
    "seurat_obj <- NormalizeData( seurat_obj )\n",
    "meta_data_dt <- data.table( seurat_obj@meta.data, keep.rownames = T ) %>% setnames(.,\"rn\",\"cell.name\")\n",
    "\n",
    "edge_info_all <- readRDS( file.path( base_path, \"edge_info_all_doublet_filtered_celltypes.rds\" ) )\n",
    "\n"
   ]
  },
  {
   "cell_type": "markdown",
   "metadata": {},
   "source": [
    "Run edge pipeline on all non-malignant cell types"
   ]
  },
  {
   "cell_type": "code",
   "execution_count": null,
   "metadata": {},
   "outputs": [],
   "source": [
    "all_cell_types <- unique(pdac_anno_dt$cluster)\n",
    "data_gene_exp_dt <- data.table(gene_name=rownames(seurat_obj))\n",
    "lognorm_gene_exp_dt <- data.table(gene_name=rownames(seurat_obj))\n",
    "data_mat <- seurat_obj[[\"RNA\"]]@data\n",
    "for (cell_type in all_cell_types) {\n",
    "    if (cell_type == \"Ductal cell type 2\")\n",
    "        next\n",
    "    print(cell_type)\n",
    "    flush.console()\n",
    "    if (cell_type == \"Acinar cell\") {\n",
    "        for (cell_category in c(\"edge\",\"center\")) {\n",
    "            cells <- edge_info_all$edge_center_dt %>% dplyr::filter(cell_category == cell_category &\n",
    "                                                                   normal_cell_type == \"Acinar cell\") %>% \n",
    "            pull(cell.name)\n",
    "            data_gene_exp_dt <- count_gene_exp_dt %>% mutate(!!sym(paste(cell_category,\"Acinar cell\")):=\n",
    "            rowMeans(data_mat[,cells]))\n",
    "        }\n",
    "    } else {\n",
    "        cells <- WhichCells(seurat_obj,expression = cluster == cell_type)\n",
    "        data_gene_exp_dt <- count_gene_exp_dt %>% mutate(!!sym(cell_type):=rowMeans(data_mat[,cells]))\n",
    "    }\n",
    "}\n",
    "fwrite(data_gene_exp_dt,\"Profiles_For_Deconvolution.tsv.gz\",sep=\"\\t\")"
   ]
  },
  {
   "cell_type": "code",
   "execution_count": null,
   "metadata": {},
   "outputs": [],
   "source": [
    "all_cell_types <- unique(pdac_anno_dt$cluster)\n",
    "across_refs_edge_center_dt <- data.table()\n",
    "num_pcs = 50\n",
    "\n",
    "source(\"../src/process_pdac.R\")\n",
    "malignant_cell_types <- c(\"Ductal cell type 2\")\n",
    "normal_cell_types <- setdiff( unique(pdac_anno_dt$cluster), malignant_cell_types)\n",
    "edge_info_all <- add_edge_center_annotation_classic( seurat_obj, malignant_cell_types=malignant_cell_types, \n",
    "                                  normal_cell_types=normal_cell_types, num_pcs=num_pcs, \n",
    "                                  perform_control=T, no_tumour_adjacent=F, sample_info_column=\"orig.ident\" )\n",
    "\n",
    "saveRDS(edge_info_all,\"edge_info_all_doublet_filtered_celltypes.rds\")\n"
   ]
  },
  {
   "cell_type": "markdown",
   "metadata": {},
   "source": [
    "## Figure S1\n",
    "\n",
    "This is a heatmap showing the distribution of the fraction of cells that each type that are contributed by each sample."
   ]
  },
  {
   "cell_type": "code",
   "execution_count": null,
   "metadata": {},
   "outputs": [],
   "source": [
    "seurat_obj <- FindVariableFeatures(seurat_obj) %>% ScaleData %>% RunPCA(npcs=50,verbose=F) %>% RunUMAP(dims=1:50,verbose=F)\n",
    "fig_s1_umap <- DimPlot( seurat_obj, group.by=\"cluster\", label=T ) + theme(legend.position=\"none\")\n",
    "\n",
    "sample_info_df <- seurat_obj@meta.data %>% dplyr::select(orig.ident,cluster)\n",
    "per_sample_count_df <- group_by(sample_info_df,cluster,orig.ident) %>% dplyr::count() %>% ungroup  \n",
    "total_cell_count_df <- group_by(per_sample_count_df,cluster) %>% summarize(n_total=sum(n)) %>%\n",
    "merge(.,per_sample_count_df,by=\"cluster\") %>% mutate(cell_frac=n/n_total) %>% \n",
    "dplyr::select(cluster,orig.ident,cell_frac,n)\n",
    "\n",
    "\n",
    "total_cell_frac_mat <- tidyr::pivot_wider(total_cell_count_df %>% dplyr::select(-n),names_from=\"orig.ident\",\n",
    "                                          values_from=\"cell_frac\") %>% tibble::column_to_rownames(\"cluster\") %>% as.matrix\n",
    "total_cell_frac_mat <- total_cell_frac_mat[,c(paste0(\"N\",1:11),paste0(\"T\",1:24))]\n",
    "\n",
    "options(repr.plot.width=6,repr.plot.height=12)\n",
    "#Since the cell type fractions vary in a very short range, we need to log-scale them in order to get a usable\n",
    "#heatmap for display.\n",
    "max_frac <- max(apply(log(total_cell_frac_mat),1,function(x){return(max(na.omit(x)))}))\n",
    "min_frac <- min(apply(log(total_cell_frac_mat),1,function(x){return(min(na.omit(x)))}))\n",
    "colors <- colorRamp2(c(min_frac,max_frac),c(\"#87ceeb\",\"#ffa500\"))\n",
    "values <- c(-10,-8,-6,-4,-2,0)\n",
    "\n",
    "p_heatmap <- Heatmap(log(total_cell_frac_mat),cluster_rows=F,cluster_columns=F,name=\"fraction\",col=colors,\n",
    "                     na_col=\"black\",\n",
    "       rect_gp = gpar(col = \"black\", lwd = 2),\n",
    "    top_annotation = HeatmapAnnotation(\n",
    "        Fraction = 1:35,\n",
    "        annotation_legend_param = list(col_fun = colors, title = \"Fraction\", at = values,\n",
    "           labels=formatC(exp(values),format=\"e\"))))\n",
    "\n",
    "fig_S1_umap_heatmap <- grid.arrange(\n",
    "    arrangeGrob(fig_s1_umap,\n",
    "    grid.grabExpr(draw(p_heatmap)),\n",
    "     widths=c(1,2),\n",
    "    ncol=2\n",
    "))\n",
    "ggsave(\"Fig-supplement-umap.svg\",fig_S1_umap_heatmap,height=6,width=24)"
   ]
  },
  {
   "cell_type": "markdown",
   "metadata": {},
   "source": [
    "## Figures 1,C,D\n",
    "\n",
    "These are UMAP plots of acinar cells colored by edge/non-edge labels (Figure 1C) and by sample of origin (Figure 1D). Given the large number of samples from which the cells come from, we don't display the sample labels. "
   ]
  },
  {
   "cell_type": "code",
   "execution_count": null,
   "metadata": {},
   "outputs": [],
   "source": [
    "umap_plots <- list()\n",
    "umap_plots2 <- list()\n",
    "names_vec <- c(\"Acinar cell\"=\"Acinar\",\"Ductal cell type 1\"=\"Ductal\")\n",
    "for (cell_type in c(\"Acinar cell\",\"Ductal cell type 1\")) {\n",
    "        subset_obj <- subset( seurat_obj, cells=WhichCells(seurat_obj,expression=cluster == cell_type) )\n",
    "    subset_obj <- AddMetaData(subset_obj,\n",
    "                             merge(tibble::rownames_to_column(subset_obj@meta.data,\"cell.name\"),\n",
    "                                  edge_info_all$edge_center_dt[,.(cell.name,cell_category)],by=\"cell.name\") %>%\n",
    "                             tibble::column_to_rownames(\"cell.name\"))\n",
    "\n",
    "    subset_obj <- FindVariableFeatures(subset_obj,nfeatures=1000) %>% ScaleData %>% RunPCA(.,npcs=50) %>%\n",
    "    RunUMAP(.,dims=1:50)\n",
    "    umap_plots[[cell_type]] <- DimPlot( subset_obj, group.by=\"cell_category\" ) + \n",
    "    theme_pubr(base_size=13.33) + theme(legend.position=\"none\") + ggtitle(names_vec[cell_type])\n",
    "    if (cell_type == \"Acinar cell\") {\n",
    "        umap_plots2[[cell_type]] <- DimPlot( subset_obj, group.by=\"orig.ident\" ) + \n",
    "    theme_pubr(base_size=13.33) + ggtitle(names_vec[cell_type]) + theme(legend.position=\"none\")\n",
    "    }\n",
    "\n",
    "}\n",
    "rm(subset_obj)\n",
    "ggsave( \"Fig1-UMAPs.svg\", ggarrange( plotlist=umap_plots, nrow=1, ncol=2, common.legend=F ), \n",
    "       width=5,height=2.5)\n",
    "ggsave( \"Fig1-UMAPs-by-sample.svg\", ggarrange( plotlist=umap_plots2, nrow=1, ncol=1, common.legend=F ), \n",
    "       width=2.5,height=2.5)"
   ]
  },
  {
   "cell_type": "markdown",
   "metadata": {},
   "source": [
    "## Figure 1A \n",
    "\n",
    "Example density plots of heterogeneity and proximity ratio tests"
   ]
  },
  {
   "cell_type": "code",
   "execution_count": null,
   "metadata": {},
   "outputs": [],
   "source": [
    "skewness_dt <- compute_skewness( edge_info_all$control_dist_dt[cell_type %in% c(\"Acinar cell\",\"Ductal cell type 1\"),] )\n",
    "edge_distance_dt <- compute_edge_distance_significance( edge_info_all$edge_malignant_dist_dt[normal_cell_type %in% c(\"Acinar cell\",\"Ductal cell type 1\"),] )\n",
    "\n",
    "p_skew <- ggplot( skewness_dt[column_type != \"actual\",] ) + \n",
    "geom_density(aes(x=skewness,color=cell_type),linetype=\"dashed\") + \n",
    "geom_vline(data=skewness_dt[column_type == \"actual\",],aes(xintercept=skewness,color=cell_type)) +\n",
    "theme_pubr(base_size=13.33) + xlab(\"Skewness (s)\") + ylab(\"Density\") + theme(legend.position=\"none\")\n",
    "p_edge <- ggplot( edge_distance_dt[dist_type != \"actual\",] ) + \n",
    "geom_density(aes(x=edge_center_dist_ratio,color=normal_cell_type),linetype=\"dashed\") + \n",
    "geom_vline(data=edge_distance_dt[dist_type == \"actual\",],aes(xintercept=edge_center_dist_ratio,color=normal_cell_type)) +\n",
    "theme_pubr(base_size=13.33) + xlab(\"Proximity Ratio (R)\") + ylab(\"Density\") + theme(legend.position=\"none\")\n",
    "\n",
    "ggsave(\"Fig1B.svg\",ggarrange(p_skew,p_edge,nrow=2,ncol=1),height=3.5,width=2.5)"
   ]
  },
  {
   "cell_type": "markdown",
   "metadata": {},
   "source": [
    "## Derive marker genes for outlier populations in each cell type\n",
    "\n",
    "Prior to marker gene derivation, cells are scored for cell cycle activity using the cell cycle genes provided on the Seurat website. The p-values for each marker gene in the edge vs non-edge comparison is computed by accounting for the covariates of cell cycle score, sample identity and the number of expressed genes.\n",
    "\n",
    "Note that sample identity and the number of expressed genes do tend to highly co-vary, so omitting one of these two factors does not affect the p-values much."
   ]
  },
  {
   "cell_type": "code",
   "execution_count": null,
   "metadata": {},
   "outputs": [],
   "source": [
    "lr_markers_df_list <- list()\n",
    "normal_cell_types <- setdiff(seurat_obj$cluster,c(\"Ductal cell type 2\"))\n",
    "for (cell_type in normal_cell_types) {\n",
    "    subset_obj <- subset( seurat_obj, cells=WhichCells(seurat_obj,expression=cluster == cell_type) )\n",
    "    subset_obj <- AddMetaData(subset_obj,\n",
    "                             merge(tibble::rownames_to_column(subset_obj@meta.data,\"cell.name\"),\n",
    "                                  edge_info_all$edge_center_dt[,.(cell.name,cell_category)],by=\"cell.name\") %>%\n",
    "                             tibble::column_to_rownames(\"cell.name\"))\n",
    "\n",
    "    subset_obj <- CellCycleScoring(subset_obj,s.genes,g2m.genes)\n",
    "    lr_markers_df_list[[cell_type]] <- FindMarkers(subset_obj,ident.1=\"edge\",ident.2=\"center\",group.by=\"cell_category\",\n",
    "                                test.use=\"LR\",latent.vars=c(\"nFeature_RNA\",\"G2M.Score\",\"S.Score\",\"orig.ident\")) %>%\n",
    "    tibble::rownames_to_column(\"gene\")\n",
    "}\n",
    "\n",
    "saveRDS(lr_markers_df_list,\"all_outlier_markers.rds\")\n",
    "\n",
    "fwrite( lr_markers_df_list[[\"Acinar cell\"]] %>% dplyr::filter(p_val_adj < 0.1 & avg_logFC > 0),\n",
    "       \"acinar_alt_edge_up_markers.tsv\", sep=\"\\t\" )\n",
    "fwrite( lr_markers_df_list[[\"Acinar cell\"]] %>% dplyr::filter(p_val_adj < 0.1 & avg_logFC < 0),\n",
    "       \"acinar_alt_edge_down_markers.tsv\", sep=\"\\t\" )\n",
    "fwrite( lr_markers_df_list[[\"Ductal cell type 1\"]] %>% dplyr::filter(p_val_adj < 0.1 & avg_logFC > 0),\n",
    "       \"ductal_alt_edge_up_markers.tsv\", sep=\"\\t\" )\n",
    "fwrite( lr_markers_df_list[[\"Ductal cell type 1\"]] %>% dplyr::filter(p_val_adj < 0.1 & avg_logFC < 0),\n",
    "       \"ductal_alt_edge_down_markers.tsv\", sep=\"\\t\" )\n",
    "\n",
    "writexl::write_xlsx( lr_markers_df_list[[\"Acinar cell\"]] %>% dplyr::filter(p_val_adj < 0.1) %>% \n",
    "mutate(gene_type=ifelse(avg_logFC < 0,\"Edge-Down\",\"Edge-Up\")), \"TableS3.xlsx\" )"
   ]
  },
  {
   "cell_type": "markdown",
   "metadata": {},
   "source": [
    "## Using pseudotime to define edge cells\n",
    "\n",
    "Here, we explore how Monocle3's pseudotime values could be used to carry out the skewness and heterogeneity tests, instead of the Normal PC and Pooled PC-based calculations.\n"
   ]
  },
  {
   "cell_type": "code",
   "execution_count": null,
   "metadata": {},
   "outputs": [],
   "source": [
    "subset_cells <- WhichCells(seurat_obj,expression=cluster %in% c(\"Acinar cell\",\"Ductal cell type 2\",\"Ductal cell type 1\"))\n",
    "subset_obj <- subset( seurat_obj, cells=subset_cells ) %>% NormalizeData %>% \n",
    "FindVariableFeatures \n",
    "s.genes <- c(\"MCM5\",\"PCNA\",\"TYMS\",\"FEN1\",\"MCM2\",\"MCM4\",\"RRM1\",\"UNG\",\"GINS2\",\"MCM6\",\"CDCA7\",\"DTL\",\"PRIM1\",\"UHRF1\",\"MLF1IP\",\"HELLS\",\"RFC2\",\"RPA2\",\"NASP\",\"RAD51AP1\",\"GMNN\",\"WDR76\",\"SLBP\",\"CCNE2\",\"UBR7\",\"POLD3\",\"MSH2\",\"ATAD2\",\"RAD51\",\"RRM2\",\"CDC45\",\"CDC6\",\"EXO1\",\"TIPIN\",\"DSCC1\",\"BLM\",\"CASP8AP2\",\"USP1\",\"CLSPN\",\"POLA1\",\"CHAF1B\",\"BRIP1\",\"E2F8\")\n",
    "g2m.genes <- c(\"HMGB2\",\"CDK1\",\"NUSAP1\",\"UBE2C\",\"BIRC5\",\"TPX2\",\"TOP2A\",\"NDC80\",\"CKS2\",\"NUF2\",\"CKS1B\",\"MKI67\",\"TMPO\",\"CENPF\",\"TACC3\",\"FAM64A\",\"SMC4\",\"CCNB2\",\"CKAP2L\",\"CKAP2\",\"AURKB\",\"BUB1\",\"KIF11\",\"ANP32E\",\"TUBB4B\",\"GTSE1\",\"KIF20B\",\"HJURP\",\"CDCA3\",\"HN1\",\"CDC20\",\"TTK\",\"CDC25C\",\"KIF2C\",\"RANGAP1\",\"NCAPD2\",\"DLGAP5\",\"CDCA2\",\"CDCA8\",\"ECT2\",\"KIF23\",\"HMMR\",\"AURKA\",\"PSRC1\",\"ANLN\",\"LBR\",\"CKAP5\",\"CENPE\",\"CTCF\",\"NEK2\",\"G2E3\",\"GAS2L3\",\"CBX5\",\"CENPA\")\n",
    "subset_obj <- CellCycleScoring(subset_obj,s.genes,g2m.genes)\n",
    "\n",
    "expr_mat <- subset_obj[[\"RNA\"]]@data\n",
    "all_genes <- rownames(expr_mat)\n",
    "gene_meta_data <- data.frame( gene_short_name=all_genes, row.names=all_genes )\n",
    "\n",
    "cds_obj <- new_cell_data_set( expr_mat, cell_metadata=subset_obj@meta.data %>% dplyr::rename(cell.type=cluster),\n",
    "                             gene_metadata = gene_meta_data)\n",
    " \n",
    "\n",
    "# flush.console()"
   ]
  },
  {
   "cell_type": "markdown",
   "metadata": {},
   "source": [
    "### Pseudotime-based heterogeneity test\n",
    "\n",
    "The pseudotime values of all cells are computed using the normal Monocle3 pipeline (with G2M.Score, S.Score, and batch information) regressed out. \n",
    "\n",
    "100 sets of shuffled cells are generated by permuting the PCA coordinates of cells amongst each other, and the skewness from running Monocle3 after each shuffle is computed."
   ]
  },
  {
   "cell_type": "code",
   "execution_count": null,
   "metadata": {},
   "outputs": [],
   "source": [
    "num_pca_shuffles <- 100\n",
    "shuffle_random_seed <- 10\n",
    "control_skewness_df <- data.frame()\n",
    "pt_edge_cells_list <- list()\n",
    "edge_cell_frac <- 0.1\n",
    "\n",
    "cell_types <- c(\"Acinar cell\",\"Ductal cell type 1\")\n",
    "\n",
    "for (normal_cell_type in cell_types) {\n",
    "    subset_cells <- WhichCells(subset_obj,expression = cluster == normal_cell_type )\n",
    "    subset_pseudotime_obj <- subset( subset_obj, cells=subset_cells ) %>% FindVariableFeatures\n",
    " \n",
    "    skewness_df <- data.frame(cell_type=normal_cell_type,skewness=-1,skewness_type=-1,shuffle_num=0:num_pca_shuffles)\n",
    "    skewness_vals <- c()\n",
    "    skewness_type <- c()\n",
    "    for (idx in 0:num_pca_shuffles) {\n",
    "        if (idx == 0) {\n",
    "            shuffle_pca <- F\n",
    "            skewness_type <- c(skewness_type,\"actual\")\n",
    "        } else {\n",
    "            shuffle_pca <- T\n",
    "            skewness_type <- c(skewness_type,\"control\")\n",
    "        }\n",
    "        subset_cds_obj <- compute_pseudotime( cds_obj[,subset_cells], VariableFeatures(subset_pseudotime_obj), \n",
    "                                         shuffle_pca=shuffle_pca, random.seed=idx )\n",
    "\n",
    "        root_candidates <- WhichCells(subset_pseudotime_obj,expression = cluster == normal_cell_type )\n",
    "        subset_cds_obj <- set_root(subset_cds_obj,root_candidates)\n",
    "        umap_obj <- subset_cds_obj@principal_graph_aux$UMAP\n",
    "        pseudotime_dt <- tibble::enframe(umap_obj$pseudotime,name=\"cell.name\",value=\"pseudotime\")\n",
    "        \n",
    "        if (idx == 0) {\n",
    "            print(paste(\"Storing edge cells for\",normal_cell_type))\n",
    "            pt_edge_cells_list[[normal_cell_type]] <- pseudotime_dt %>% dplyr::filter(pseudotime > quantile(pseudotime,1-edge_cell_frac)) %>% pull(cell.name)\n",
    "        }\n",
    "\n",
    "        skewness_vals <- c(skewness_vals,mc(pseudotime_dt$pseudotime))\n",
    "    }\n",
    "    skewness_df$skewness <- skewness_vals\n",
    "    skewness_df$skewness_type <- skewness_type\n",
    "    control_skewness_df <- rbind(control_skewness_df,skewness_df)\n",
    "}\n",
    "fwrite(control_skewness_df,\"trajectory_skewness_values.tsv\",sep=\"\\t\")"
   ]
  },
  {
   "cell_type": "markdown",
   "metadata": {},
   "source": [
    "Running the cell below outputs the p-values of the skewness test for acinar and ductal cells"
   ]
  },
  {
   "cell_type": "code",
   "execution_count": null,
   "metadata": {},
   "outputs": [],
   "source": [
    "control_skewness_mat <- control_skewness_df %>% dplyr::filter(skewness_type == \"control\") %>% group_by(cell_type) %>%\n",
    "summarize(m=mean(skewness),s=sd(skewness)) %>% tibble::column_to_rownames(\"cell_type\") %>% as.matrix\n",
    "\n",
    "skewness_p_values <- c()\n",
    "for (cell_type_ in cell_types) {\n",
    "    actual_skewness <- control_skewness_df %>% dplyr::filter(cell_type == cell_type_ & \n",
    "                                                               skewness_type == \"actual\") %>% pull(skewness)\n",
    "     skewness_p_values <- c(skewness_p_values,1-pnorm(actual_skewness,\n",
    "                                                    control_skewness_mat[cell_type_,\"m\"],\n",
    "                                                    control_skewness_mat[cell_type_,\"s\"]))\n",
    "}\n",
    "names(skewness_p_values) <- cell_types\n",
    "skewness_p_values"
   ]
  },
  {
   "cell_type": "markdown",
   "metadata": {},
   "source": [
    "### Pseudotime-based proximity ratio test\n"
   ]
  },
  {
   "cell_type": "code",
   "execution_count": null,
   "metadata": {},
   "outputs": [],
   "source": [
    "control_edge_distance_df <- data.frame()\n",
    "num_label_shuffles <- 100\n",
    "for (normal_cell_type in cell_types) {\n",
    "    subset_cells <- WhichCells(subset_obj,expression = cluster %in% c(normal_cell_type,\"Ductal cell type 2\") )\n",
    "    subset_pseudotime_obj <- subset( subset_obj, cells=subset_cells ) %>% FindVariableFeatures\n",
    "    subset_cds_obj <- compute_pseudotime( cds_obj[,subset_cells], VariableFeatures(subset_pseudotime_obj), \n",
    "                                     shuffle_pca=F )\n",
    "\n",
    "    root_candidates <- WhichCells(subset_pseudotime_obj,expression = cluster == normal_cell_type )\n",
    "    subset_cds_obj <- set_root(subset_cds_obj,root_candidates)\n",
    "    umap_obj <- subset_cds_obj@principal_graph_aux$UMAP\n",
    "    pseudotime_dt <- tibble::enframe(umap_obj$pseudotime,name=\"cell.name\",value=\"pseudotime\")\n",
    "\n",
    "    merged_df <- merge( pseudotime_dt, meta_data_dt[,.(cell.name,cluster)], by=\"cell.name\" )\n",
    "    median_pseudotimes <- merged_df %>% group_by(cluster) %>% \n",
    "    summarize(median_pseudotime=median(pseudotime)) %>% ungroup %>% tibble::deframe(.)\n",
    "    normal_df <- merged_df %>% dplyr::filter(cluster==normal_cell_type) %>%\n",
    "    mutate(cell_category=ifelse(cell.name %in% pt_edge_cells_list[[normal_cell_type]],\"edge\",\"center\"))\n",
    "    malignant_df <- merged_df %>% dplyr::filter(cluster!=normal_cell_type)\n",
    "\n",
    "\n",
    "    ratio_vals <- c()\n",
    "    edge_distance_df <- data.frame(cell_type=normal_cell_type,distance_type=\"control\",\n",
    "                                   edge_distance_ratio=-1,shuffle_num=0:num_label_shuffles)\n",
    "    distance_types <- c()\n",
    "    for (label_shuffle in 0:num_label_shuffles) {\n",
    "        if (label_shuffle == 0) {\n",
    "            ratio <- compute_pseudotime_distance_ratio(normal_df,malignant_df)\n",
    "            distance_types <- c(distance_types,\"actual\")\n",
    "        } else {\n",
    "            normal_df_copy <- copy(normal_df) %>% mutate(cell_category=sample(cell_category))\n",
    "            ratio <- compute_pseudotime_distance_ratio(normal_df_copy,malignant_df)\n",
    "            distance_types <- c(distance_types,\"control\")\n",
    "        }\n",
    "        ratio_vals <- c(ratio_vals,ratio)\n",
    "    }\n",
    "    edge_distance_df$edge_distance_ratio <- ratio_vals\n",
    "    edge_distance_df$distance_type <- distance_types\n",
    "    control_edge_distance_df <- rbind(control_edge_distance_df,edge_distance_df)\n",
    "}\n",
    "fwrite(control_edge_distance_df,\"trajectory_edge_distance_values.tsv\",sep=\"\\t\")\n",
    "control_edge_distance_mat <- control_edge_distance_df %>% dplyr::filter(distance_type == \"control\") %>% group_by(cell_type) %>%\n",
    "summarize(m=mean(edge_distance_ratio),s=sd(edge_distance_ratio)) %>% tibble::column_to_rownames(\"cell_type\") %>% as.matrix\n",
    "\n",
    "edge_distance_p_values <- c()\n",
    "for (cell_type_ in c(\"Acinar cell\",\"Ductal cell type 1\")) {\n",
    "    actual_edge_distance <- control_edge_distance_df %>% dplyr::filter(cell_type == cell_type_ & \n",
    "                                                             distance_type == \"actual\") %>% pull(edge_distance_ratio)\n",
    "    edge_distance_p_values <- c(edge_distance_p_values,pnorm(actual_edge_distance,\n",
    "                                                    control_edge_distance_mat[cell_type_,\"m\"],\n",
    "                                                    control_edge_distance_mat[cell_type_,\"s\"]))\n",
    "}\n",
    "names(edge_distance_p_values) <- cell_types\n",
    "edge_distance_p_values"
   ]
  },
  {
   "cell_type": "markdown",
   "metadata": {},
   "source": [
    "### Figure S2D\n",
    "\n",
    "The null distributions of heterogeneity and proximity ratio tests for acinar and ductal cells based on pseudotime values."
   ]
  },
  {
   "cell_type": "code",
   "execution_count": null,
   "metadata": {},
   "outputs": [],
   "source": [
    "p_pseudotime_ratio <- ggplot( control_edge_distance_df %>% dplyr::filter(distance_type == \"control\") ) + \n",
    "geom_density(aes(x=edge_distance_ratio,color=cell_type),linetype=\"dashed\") + \n",
    "geom_vline(data = control_edge_distance_df %>% dplyr::filter(distance_type == \"actual\"),\n",
    "           aes(xintercept=edge_distance_ratio,color=cell_type) ) + xlab(\"Proximity Ratio\") +\n",
    "ylab(\"Density\") + theme_pubr(base_size=10) + theme(legend.position=\"bottom\")\n",
    "\n",
    "p_pseudotime_skew <- ggplot( control_skewness_df %>% dplyr::filter(skewness_type == \"control\") ) + \n",
    "geom_density(aes(x=skewness,color=cell_type),linetype=\"dashed\") + \n",
    "geom_vline(data = control_skewness_df %>% dplyr::filter(skewness_type == \"actual\"),\n",
    "           aes(xintercept=skewness,color=cell_type) ) + xlab(\"Skewness\") +\n",
    "ylab(\"Density\") + theme_pubr(base_size=10) + theme(legend.position=\"bottom\")\n",
    "\n",
    "ggsave( \"supplementary-trajectory-edge-analysis.svg\", \n",
    "       ggarrange( plotlist=list(p_pseudotime_skew, p_pseudotime_ratio), nrow=1,ncol=2),width=5,height=2.5 )"
   ]
  },
  {
   "cell_type": "markdown",
   "metadata": {},
   "source": [
    "## Figure S1B\n",
    "\n",
    "This is a check on the expression of markers genes in acinar, ductal and malignant cells"
   ]
  },
  {
   "cell_type": "code",
   "execution_count": null,
   "metadata": {},
   "outputs": [],
   "source": [
    "seurat_obj <- SetIdent( seurat_obj, value=\"cluster\")\n",
    "acinar_malignant_obj <- subset( seurat_obj, idents=c(\"Acinar cell\",\"Ductal cell type 2\"\n",
    "                                                    )) %>% NormalizeData\n",
    "\n",
    "#The first four markers are malignant ductal markers, while the latter four are acinar markers.\n",
    "markers <- c(\"KRT19\",\"KRT7\",\"TSPAN8\",\"SLPI\",\"PRSS1\", \"CTRB1\", \"CTRB2\", \"REG1B\")\n",
    "marker_dt <- data.table( FetchData( acinar_malignant_obj, vars=c(markers,\"cluster\")), keep.rownames=T ) %>% \n",
    "                        setnames(.,\"rn\",\"cell.name\")\n",
    "rm(acinar_malignant_obj)\n",
    "\n",
    "options(repr.plot.width=12,repr.plot.height=7)\n",
    "temp_df <- merge( marker_dt, edge_info_all$edge_center_dt[,.(cell.name,cell_category)], by=\"cell.name\", all.x=T ) %>%\n",
    "mutate(cell_category=ifelse(is.na(cell_category),\"malignant\",cell_category)) %>%\n",
    "data.table %>% melt(id.vars=c(\"cell.name\",\"cluster\",\"cell_category\"))\n",
    "p <- ggviolin( temp_df, x=\"cell_category\", y=\"value\", fill=\"cell_category\") + \n",
    "stat_compare_means(comparisons=list(c(\"edge\",\"center\"),c(\"malignant\",\"edge\")),aes(label=..p.signif..),size=5) + \n",
    "theme_pubr(base_size=12) + facet_wrap(~variable,nrow=2) + ylim(0,10) + scale_fill_manual(values=c(\"edge\"=\"orange\",\n",
    "                                                                                            \"center\"=\"blue\",\n",
    "                                                                                            \"malignant\"=\"red\")) +\n",
    "scale_x_discrete(labels=c(\"center\"=\"Non-Edge\",\"edge\"=\"Edge\",\"malignant\"=\"Malignant\")) + xlab(NULL) + ylab(\"Norm. expression\") +\n",
    "theme(axis.text.x=element_text(angle=90,hjust=1,vjust=0.5),legend.position=\"none\")# +\n",
    "ggsave(\"supplement-marker-expression.svg\",p,height=5,width=10)\n"
   ]
  },
  {
   "cell_type": "markdown",
   "metadata": {},
   "source": [
    "## Figure 1B\n",
    "\n",
    "Skewness and heterogeneity test plots for all cell types\n",
    "\n",
    "Violin plot of the null distributions corresponding to the heterogeneity and proximity ratio tests (in gray). The actual heterogeneity and proximity ratio values are plotted as a point which is colored as blue/red depending on whether the p-values are significant."
   ]
  },
  {
   "cell_type": "code",
   "execution_count": null,
   "metadata": {},
   "outputs": [],
   "source": [
    "skewness_dt <- compute_skewness(edge_info_all$control_dist_dt)\n",
    "skewness_dt[column_type == \"actual\",p_adj:=p.adjust(p_value,method=\"bonferroni\")]\n",
    "skewness_dt[column_type == \"actual\",significant:=fifelse(p_adj <= 0.05,TRUE,FALSE)]\n",
    "\n",
    "p_skew <- ggplot( skewness_dt[column_type == \"control\",] ) + geom_violin(aes(x=cell_type,y=skewness),\n",
    "                                                                         color=\"gray\",fill=\"gray\",width=0.5) + \n",
    "theme_pubr(base_size=5) + theme(axis.text.x=element_text(angle=90,hjust=1,vjust=0.5),\n",
    "                                panel.grid.major=element_line(color=\"gray\",size=0.1),\n",
    "                                legend.position=\"none\",\n",
    "                               axis.line=element_line(size=0.2)) + \n",
    "ylab(\"Skewness\") + xlab(NULL) + \n",
    "geom_point(data=skewness_dt[column_type == \"actual\",],\n",
    "           aes(x=cell_type,y=skewness,color=significant),size=0.5 )\n",
    "\n",
    "edge_distance_dt <- compute_edge_distance_significance(edge_info_all$edge_malignant_dist_dt)\n",
    "edge_distance_dt[dist_type == \"actual\",p_adj:=p.adjust(p_value,method=\"bonferroni\")]\n",
    "edge_distance_dt[dist_type == \"actual\",significant:=fifelse(p_adj <= 0.05,TRUE,FALSE)]\n",
    "\n",
    "p_distance <- ggplot( edge_distance_dt[dist_type == \"control\",] ) + geom_violin(aes(x=normal_cell_type,y=edge_center_dist_ratio),\n",
    "                                                                  color=\"gray\",fill=\"gray\") + \n",
    "theme_pubr(base_size=5) + theme(axis.text.x=element_text(angle=90,hjust=1,vjust=0.5),\n",
    "                                panel.grid.major=element_line(color=\"gray\",size=0.1),\n",
    "                                legend.position=\"none\",\n",
    "                               axis.line=element_line(size=0.2)) + \n",
    "ylab(\"Edge distance ratio\") + xlab(NULL) + \n",
    "geom_point(data=edge_distance_dt[dist_type == \"actual\",],\n",
    "           aes(x=normal_cell_type,edge_center_dist_ratio,color=significant),size=0.5)\n",
    "\n",
    "p_final <- ggarrange(plotlist=list(p_skew,p_distance),ncol=1)\n",
    "ggsave(\"fig1-fingerprints.svg\",p_final,width=2,height=3)"
   ]
  },
  {
   "cell_type": "markdown",
   "metadata": {},
   "source": [
    "## Figure S1C\n",
    "\n",
    "Sub-sampling reads and genes from edge cells to check if the differences in library sizes between edge and non-edge cells is the sole reason for the appearance of edge acinar cells in skewness and heterogeneity tests."
   ]
  },
  {
   "cell_type": "code",
   "execution_count": null,
   "metadata": {},
   "outputs": [],
   "source": [
    "norm_type <- \"Acinar cell\"\n",
    "\n",
    "options(repr.plot.width=8, repr.plot.height=3)\n",
    "num_reps <- 100\n",
    "for (resampling_type in c(\"reads\",\"genes\")) {\n",
    "    skewness_p_values <- c()\n",
    "    edge_distance_p_values <- c()\n",
    "    for (rep in 1:num_reps){\n",
    "        print(rep)\n",
    "        flush.console()\n",
    "        set.seed(rep)\n",
    "        resample_info_list <- resample_edge_cells( seurat_obj, pdac_anno_dt, edge_info_all$edge_center_dt, \n",
    "                                                  c(\"Acinar cell\"), c(\"Ductal cell type 2\"), resampling_type,\n",
    "                                              no_tumour_adjacent=F)\n",
    "        ret <- plot_skewness(resample_info_list$edge_info$control_dist_dt)\n",
    "        skewness_p_value <- ret$skewness_dt[1,p_value]\n",
    "        ret <- plot_edge_distance_ratio(resample_info_list$edge_info$edge_malignant_dist_dt)\n",
    "        edge_distance_p_value <- ret$edge_distance_dt[1,p_value]\n",
    "        edge_distance_p_values <- c(edge_distance_p_values,edge_distance_p_value)\n",
    "        skewness_p_values <- c(skewness_p_values,skewness_p_value)\n",
    "    }\n",
    "    saveRDS(list(\"edge-distance\"=edge_distance_p_values,\"skewness\"=skewness_p_values),\n",
    "            paste(resampling_type,\"resampling.rds\",sep=\"_\"))\n",
    "}\n",
    "\n",
    "dt_list <- list()\n",
    "idx <- 1\n",
    "for (resampling_type in c(\"reads\",\"genes\")) {\n",
    "    resampling_info <- readRDS(paste(resampling_type,\"resampling.rds\",sep=\"_\"))\n",
    "    for (test_type in c(\"skewness\",\"edge-distance\")) {\n",
    "        dt_list[[idx]] <- data.table(p_value=resampling_info[[test_type]],resample_type=resampling_type,\n",
    "                  test_type=test_type)\n",
    "        idx <- idx + 1\n",
    "    }\n",
    "}\n",
    "resample_info_dt <- rbindlist(dt_list)\n",
    "\n",
    "p <- ggplot( resample_info_dt ) + geom_boxplot(aes(x=test_type,y=log10(p_value),color=resample_type),width=0.5) + \n",
    "geom_hline(yintercept = -1,color=\"red\",linetype=\"dashed\") +\n",
    "theme_pubr(base_size=10) + xlab(NULL) + ylab(\"Log10(q-value)\") + labs(color=\"Quantity resampled\")\n",
    "ggsave(\"supplement-resampling.svg\",p,width=2.5,height=2.5)"
   ]
  },
  {
   "cell_type": "markdown",
   "metadata": {},
   "source": [
    "## Figure S1A\n",
    "\n",
    "Justifying merging normal and tumour-adjacent acinar cells. We carry out three tests (corresponding to the three panels in Figure S1A) to check if tumor-adjacent cells have a propensity to be more edge-like in their behaviour. "
   ]
  },
  {
   "cell_type": "code",
   "execution_count": null,
   "metadata": {},
   "outputs": [],
   "source": [
    "norm_type <- \"Acinar cell\"\n",
    "tumour_adjacent_cells <- meta_data_dt[cluster == norm_type & sample_type == \"tumour\",cell.name]\n",
    "num_pcs <- 50\n",
    "\n",
    "acinar_edge_info <- add_edge_center_annotation_classic( seurat_obj, \n",
    "                                                       malignant_cell_types=c(\"Ductal cell type 2\"), \n",
    "                                   normal_cell_types=c(norm_type), num_pcs=num_pcs, \n",
    "                                   perform_control=T, no_tumour_adjacent=T )\n",
    "\n",
    "normal_acinar_obj <- subset( seurat_obj, subset = sample_type == \"normal\" & cluster == \"Acinar cell\")\n",
    "normal_acinar_obj <- AddMetaData( normal_acinar_obj, \n",
    "                                tibble::column_to_rownames(acinar_edge_info$edge_center_dt[,.(cell.name,cell_category)],\n",
    "                                                          \"cell.name\")) %>% SetIdent(value=\"cell_category\") %>%\n",
    "CellCycleScoring(.,s.features=s.genes,g2m.features=g2m.genes)\n",
    "\n",
    "normal_only_edge_markers_df <- FindMarkers(normal_acinar_obj,ident.1=\"edge\",test.use=\"LR\",\n",
    "                                          latent.vars=c(\"G2M.Score\",\"S.Score\",\"nFeature_RNA\")) %>%\n",
    "tibble::rownames_to_column(\"gene\")\n",
    "acinar_edge_cells <- WhichCells(normal_acinar_obj,idents=\"edge\")\n",
    "non_acinar_edge_cells <- WhichCells(normal_acinar_obj,idents=\"center\")\n",
    "rm(normal_acinar_obj)\n",
    "\n",
    "\n",
    "#This displays the proximity ratio and heterogeneity test p-values after tumor-adjacent cells are excluded.\n",
    "plot_edge_distance_ratio(acinar_edge_info$edge_malignant_dist_dt,plot_facets=T)$plot_obj\n",
    "plot_skewness(acinar_edge_info$control_dist_dt,plot_facets=T)$plot_obj"
   ]
  },
  {
   "cell_type": "code",
   "execution_count": null,
   "metadata": {},
   "outputs": [],
   "source": [
    "options(repr.plot.width=8, repr.plot.height=3)\n",
    "theme_set(theme_classic())\n",
    "\n",
    "merged_diff_exp_dt <- merge( lr_markers_df_list[[\"Acinar cell\"]], \n",
    "                            normal_only_edge_markers_df,\n",
    "                            by=\"gene\",\n",
    "                           suffixes=c(\".adj_vs_center\",\".edge_vs_center\")) %>% data.table\n",
    "p1 <- ggplot( merged_diff_exp_dt ) + geom_point(aes(x=avg_logFC.edge_vs_center,y=avg_logFC.adj_vs_center)) + \n",
    "geom_line(aes(x=avg_logFC.edge_vs_center,y=avg_logFC.edge_vs_center),color=\"gray\") + theme_pubr(base_size=8) +\n",
    "geom_hline(aes(yintercept=0)) + geom_vline(aes(xintercept=0)) + xlab(\"Average Log FC\\n(Edge vs Non-Edge)\") +\n",
    "ylab(\"Average Log FC\\n(Tumor-adjacent vs Non-Edge)\")\n",
    "print(paste(\"R^2\"=cor.test(merged_diff_exp_dt$avg_logFC.edge_vs_center,merged_diff_exp_dt$avg_logFC.adj_vs_center)))\n",
    "\n",
    "plot_dt <- melt( merged_diff_exp_dt[,.(gene,avg_logFC.edge_vs_center,avg_logFC.adj_vs_center)],\n",
    "                id.vars=\"gene\", value.name=\"Average Log FC\")\n",
    "p2 <- ggplot( plot_dt ) + #geom_point(aes(x=variable,y=`Average Log FC`,color=variable),position=\"jitter\") +\n",
    "geom_boxplot(aes(x=variable,y=`Average Log FC`),fill=NA,width=0.4) + theme_pubr(base_size=8) +\n",
    "scale_x_discrete(\"\",labels=c(\"avg_logFC.edge_vs_center\" = \"Edge vs\\n Non-Edge\",\n",
    "                          \"avg_logFC.adj_vs_center\" = \"Tumor-Adjacent vs\\n Non-Edge\")) + \n",
    "stat_compare_means(aes(x=variable,y=`Average Log FC`),label.x=1.5,label=\"p.signif\",hjust=0.5)\n",
    "\n",
    "acinar_edge_center_dt <- edge_info_all$edge_center_dt[normal_cell_type == \"Acinar cell\",.(cell.name,dist_from_normal_medoid,dist_from_malignant_medoid)]\n",
    "acinar_edge_center_dt <- merge( acinar_edge_center_dt, meta_data_dt[,.(cell.name,sample_type)] )\n",
    "melted_dt <- melt(acinar_edge_center_dt[sample_type==\"tumour\",][,!c(\"sample_type\")],id.vars=c(\"cell.name\"))\n",
    "p3 <- ggplot( melted_dt ) + stat_compare_means(aes(x=variable,y=value),label=\"..p.signif..\",\n",
    "                                               method.args=list(\"alternative\"=\"g\"),label.x=1.5,hjust=0.5) +\n",
    " geom_boxplot(aes(x=variable,y=value)) + theme_pubr(base_size=8) + scale_x_discrete(c(\"variable\"=\"\"), labels=c(\"dist_from_normal_medoid\"=\"From\\nacinar medoid\",\n",
    "                                                           \"dist_from_malignant_medoid\"=\"From\\nmalignant medoid\")) + ylab(\"Distance in PC space\")\n",
    "p <- ggarrange(p1,p2,p3,ncol=3,nrow=1)\n",
    "ggsave(\"supplement-tumor-adjacent.svg\",p,width=6,height=2)"
   ]
  },
  {
   "cell_type": "markdown",
   "metadata": {},
   "source": [
    "### Evaluate relative proportions of cell cycle phases amongst edge and non-edge acinar cells"
   ]
  },
  {
   "cell_type": "code",
   "execution_count": null,
   "metadata": {},
   "outputs": [],
   "source": [
    "acinar_obj <- subset( seurat_obj, subset=cluster==\"Acinar cell\") %>% CellCycleScoring(s.features=s.genes,g2m.features=g2m.genes)\n",
    "acinar_obj <- AddMetaData( acinar_obj, \n",
    "                                tibble::column_to_rownames(edge_info_all$edge_center_dt[,.(cell.name,cell_category)],\n",
    "                                                          \"cell.name\")) %>% SetIdent(value=\"cell_category\")\n",
    "\n",
    "\n",
    "acinar_obj@meta.data %>% dplyr::select(cell_category,Phase) %>% group_by(cell_category,Phase) %>% dplyr::count()\n",
    "acinar_obj@meta.data %>% group_by(cell_category) %>% dplyr::count()"
   ]
  },
  {
   "cell_type": "code",
   "execution_count": null,
   "metadata": {},
   "outputs": [],
   "source": [
    "acinar_obj@meta.data %>% dplyr::select(cell_category,Phase) %>% group_by(cell_category,Phase) %>% dplyr::count()\n",
    "acinar_obj@meta.data %>% group_by(cell_category) %>% dplyr::count()"
   ]
  },
  {
   "cell_type": "code",
   "execution_count": null,
   "metadata": {},
   "outputs": [],
   "source": [
    "#Proportions test for G1 phase\n",
    "binom.test(610,1657,82/184 ) #p=0.36"
   ]
  },
  {
   "cell_type": "code",
   "execution_count": null,
   "metadata": {},
   "outputs": [],
   "source": [
    "#Proportions test for G2 phase\n",
    "binom.test(548,1657,72/184) #p=0.33"
   ]
  },
  {
   "cell_type": "code",
   "execution_count": null,
   "metadata": {},
   "outputs": [],
   "source": [
    "#Proportions test for S phase\n",
    "binom.test(499,1657,30/184) #p = 0.30"
   ]
  },
  {
   "cell_type": "markdown",
   "metadata": {},
   "source": [
    "## Figure S2E"
   ]
  },
  {
   "cell_type": "code",
   "execution_count": null,
   "metadata": {},
   "outputs": [],
   "source": [
    "n_total_dt <- edge_info_all_merged[normal_cell_type == \"Acinar cell\",] %>%\n",
    "group_by(sample) %>% dplyr::count()\n",
    "n_edge_dt <- edge_info_all_merged[normal_cell_type == \"Acinar cell\" & cell_category==\"edge\",] %>%\n",
    "group_by(sample) %>% dplyr::count()\n",
    "sample_edge_info_dt <- merge( n_edge_dt, n_total_dt, by=\"sample\", suffixes=c(\"_edge\",\"_total\"), all.y=T ) %>%\n",
    "tidyr::replace_na(list(\"n_edge\"=0))\n",
    "\n",
    "num_edge_cells <- sum(sample_edge_info_dt$n_edge)\n",
    "num_draws <- 10000\n",
    "\n",
    "#We draw N edge cells at random from all the acinar cells, and compute the fraction of acinar cells that\n",
    "#come from each sample. We then compute the entropy of the distribution of fractions for a given draw.\n",
    "#We carry out 10,000 draws, and compute a distribution of entropies, and compare it with the entropy\n",
    "#of the fraction distribution of actual edge cells.\n",
    "random_draws_mat <- rmvhyper( num_draws, sample_edge_info_dt$n_total, num_edge_cells )\n",
    "random_draws_mat <- apply(random_draws_mat,2,function(x){return(x/num_edge_cells)})\n",
    "colnames(random_draws_mat) <- sample_edge_info_dt$sample\n",
    "\n",
    "random_entropy_vec <- apply(random_draws_mat,1,entropy)\n",
    "actual_entropy <- entropy(sample_edge_info_dt$n_edge/num_edge_cells)\n",
    "m <- mean(random_entropy_vec)\n",
    "s <- sd(random_entropy_vec)\n",
    "\n",
    "print(\"p-value of entropy of observed distribution of edge cell fractions from samples\")\n",
    "pnorm( actual_entropy, m, s)\n"
   ]
  },
  {
   "cell_type": "code",
   "execution_count": null,
   "metadata": {},
   "outputs": [],
   "source": [
    "p_entropy <- ggplot( data.table(x=random_entropy_vec) ) + geom_density(aes(x=x)) + theme_pubr(base_size=13.33) +\n",
    "xlab(\"Entropy of random draws\") + ylab(\"Density\")\n",
    "ggsave(\"Fig-S2-entropy.svg\",p_entropy,width=6,height=3)"
   ]
  },
  {
   "cell_type": "markdown",
   "metadata": {},
   "source": [
    "## Finding doublets in reference PDAC data\n",
    "\n",
    "The code below is largely boiler-plate code for running the doubletFinder pipeline. We assume a much higher doublet rate here than necessary to err on the side of caution. "
   ]
  },
  {
   "cell_type": "code",
   "execution_count": null,
   "metadata": {},
   "outputs": [],
   "source": [
    "doublet_info_list <- list()\n",
    "samples <- unique( meta_data_dt$sample )\n",
    "for (sample_id in samples) {\n",
    "    sample_seurat_obj <- subset( seurat_obj, cells=meta_data_dt[sample == sample_id,cell.name])\n",
    "    sample_seurat_obj <- NormalizeData(sample_seurat_obj) %>% FindVariableFeatures(.,nfeatures=1000) %>% \n",
    "    ScaleData(.) %>% RunPCA(.,npcs=50,verbose=F)  %>% RunUMAP(.,dims=1:50,verbose=F)\n",
    "    \n",
    "    homotypic.prop <- modelHomotypic(sample_seurat_obj@meta.data$cluster)\n",
    "    nExp_poi <- round(0.05*nrow(sample_seurat_obj@meta.data))    #This is the expected doublet rate that we fix given ~3,000 cells per extraction.\n",
    "    \n",
    "    sample_param_sweep <- paramSweep_v3(sample_seurat_obj, PCs = 1:50, sct = FALSE)\n",
    "    sample_param_sweep_summary <- summarizeSweep(sample_param_sweep, GT = FALSE)\n",
    "    sweep_dt <- data.table( find.pK( sample_param_sweep_summary ) )\n",
    "    optimal_pK <- as.double(as.vector(sweep_dt[order(-BCmetric),][1]$pK))\n",
    "    sample_seurat_obj <- doubletFinder_v3(sample_seurat_obj, \n",
    "                               PCs = 1:50, pN = 0.25, pK = optimal_pK, nExp = nExp_poi, \n",
    "                                          reuse.pANN = FALSE, sct = FALSE)\n",
    "    \n",
    "    sample_meta_data_dt <- data.table( sample_seurat_obj@meta.data, keep.rownames = T ) %>% setnames(.,\"rn\",\"cell.name\")\n",
    "    doublet_class_col <- paste(\"DF.classifications_0.25\",optimal_pK,nExp_poi,sep=\"_\")\n",
    "    doublet_info_list[[sample_id]] <- sample_meta_data_dt[,c(\"cell.name\",doublet_class_col),with=F] %>%  setnames(.,doublet_class_col,\"doublet_class\")\n",
    "}\n",
    "\n",
    "merged_doublet_dt <- rbindlist(doublet_info_list)\n",
    "cell_doublets <- meta_data_dt[cell.name %in% merged_doublet_dt[doublet_class == \"Doublet\",cell.name],cell.name]\n",
    "fwrite( data.table(cell.name=cell_doublets), \"cell_doublets.tsv\", sep=\"\\t\", col.names=F, quote=F)"
   ]
  },
  {
   "cell_type": "markdown",
   "metadata": {},
   "source": [
    "## TCGA methylation and RNA-seq"
   ]
  },
  {
   "cell_type": "code",
   "execution_count": null,
   "metadata": {},
   "outputs": [],
   "source": [
    "library(ggplot2)\n",
    "library(ggpubr)\n",
    "ggTest <- list( c(\"EdgeUp\", \"RestOfGenome\"), c(\"EdgeDown\", \"RestOfGenome\"))\n",
    "\n",
    "edge_acinar_markers_df <- lr_markers_df_list[[\"Acinar cell\"]] %>% dplyr::filter(p_val_adj < 0.1)\n",
    "edge_acinar_up_genes <- edge_acinar_markers_df %>% dplyr::filter(avg_logFC > 0) %>% pull(gene)\n",
    "edge_acinar_down_genes <- edge_acinar_markers_df %>% dplyr::filter(avg_logFC < 0) %>% pull(gene)\n",
    "\n",
    "outlier_ductal_markers_df <- lr_markers_df_list[[\"Ductal cell type 1\"]] %>% dplyr::filter(p_val_adj < 0.1)\n",
    "outlier_ductal_up_genes <- outlier_ductal_markers_df %>% dplyr::filter(avg_logFC > 0) %>% pull(gene)\n",
    "outlier_ductal_down_genes <- outlier_ductal_markers_df %>% dplyr::filter(avg_logFC < 0) %>% pull(gene)\n",
    "\n",
    "\n",
    "########################Expression@##########################\n",
    "medianTumorZscores <- read.table(\"../data/MedianZscoreOfTumorSamplesForEdgeCellGenes.txt\", sep = \"\\t\", header = T)\n",
    "medianTumorZscores <- medianTumorZscores %>% mutate(GeneType=\"RestOfGenome\") %>%\n",
    "mutate(GeneType=ifelse(Gene %in% edge_acinar_up_genes & CellType == \"Acinar\",\"EdgeUp\",\n",
    "                       GeneType)) %>%\n",
    "mutate(GeneType=ifelse(Gene %in% edge_acinar_down_genes & CellType == \"Acinar\",\"EdgeDown\",\n",
    "                       GeneType)) %>%\n",
    "mutate(GeneType=ifelse(Gene %in% outlier_ductal_up_genes & CellType == \"Ductal\",\"EdgeUp\",\n",
    "                       GeneType)) %>%\n",
    "mutate(GeneType=ifelse(Gene %in% outlier_ductal_down_genes & CellType == \"Ductal\",\"EdgeDown\",\n",
    "                       GeneType))\n",
    "\n",
    "medianTumorZscores$GeneType <- factor(medianTumorZscores$GeneType, levels = c(\"EdgeUp\", \"RestOfGenome\", \"EdgeDown\"))\n",
    "maxLimit <- boxplot.stats(medianTumorZscores$Zscore)$stats[c(1, 5)]\t\n",
    "\n",
    "bpG <- ggboxplot(na.omit(medianTumorZscores), \n",
    "\t\t\t\tx=\"GeneType\", y=\"Zscore\",\n",
    "\t\t\t\tylab=(\"Tumor Z-score\"),\n",
    "\t\t\t\tcolor = \"GeneType\", lwd = 0.5, outlier.shape = NA, facet.by = \"CellType\") +\n",
    "                theme_pubr() +\n",
    "\t\t\ttheme(axis.text.y = element_text(size = 10),\n",
    "\t\t\t\taxis.title.x = element_blank(),\n",
    "\t\t\t\taxis.title.y = element_text(size = 10),\n",
    "                 legend.position=\"none\") + \n",
    "stat_compare_means(comparisons = ggTest, label = \"p.format\", size = 3)\n",
    "\n",
    "# ggsave( \"TumorZscoresForEdgeCellGenesFromGtex.svg\", width = 5, height = 3, pointsize = 10, units = 'in' )\n",
    "\n",
    "\n",
    "##############################Methylation################################\n",
    "methylationDf <- fread(\"../data/TumorAndNoralSamplesMethylationForEdgeCellGenes.txt\", sep = \"\\t\", header = T) %>%\n",
    "dplyr::rename(Gene=GeneName)\n",
    "\n",
    "methylationDf <- methylationDf %>% mutate(GeneType=\"RestOfGenome\") %>%\n",
    "mutate(GeneType=ifelse(Gene %in% edge_acinar_up_genes & CellType == \"Acinar\",\"EdgeUp\",\n",
    "                       GeneType)) %>%\n",
    "mutate(GeneType=ifelse(Gene %in% edge_acinar_down_genes & CellType == \"Acinar\",\"EdgeDown\",\n",
    "                       GeneType)) %>%\n",
    "mutate(GeneType=ifelse(Gene %in% outlier_ductal_up_genes & CellType == \"Ductal\",\"EdgeUp\",\n",
    "                       GeneType)) %>%\n",
    "mutate(GeneType=ifelse(Gene %in% outlier_ductal_down_genes & CellType == \"Ductal\",\"EdgeDown\",\n",
    "                       GeneType))\n",
    "\n",
    "\n",
    "methylationDf$GeneType <- factor(methylationDf$GeneType, levels = c(\"EdgeUp\", \"RestOfGenome\", \"EdgeDown\"))\n",
    "\n",
    "\n",
    "\n",
    "#############Plot delta##############\n",
    "maxLimit <- boxplot.stats(methylationDf$deltaMethylation)$stats[c(1, 5)]\t\n",
    "bpG <- ggboxplot(na.omit(methylationDf), \n",
    "\t\t\t\tx=\"GeneType\", y=\"deltaMethylation\",\n",
    "\t\t\t\tylab=(\"Delta (Tumor - Normal)\"),\n",
    "\t\t\t\tcolor = \"GeneType\", lwd = 0.5, outlier.shape = NA, facet.by = \"CellType\") + theme_pubr() +\n",
    "\t\t\ttheme(axis.text.y = element_text(size = 10),\n",
    "\t\t\t\taxis.title.x = element_blank(),\n",
    "\t\t\t\taxis.title.y = element_text(size = 10),\n",
    "                 legend.position=\"none\") +\n",
    "coord_cartesian(ylim = (maxLimit + c(-0.2, 0.3))) + \n",
    "stat_compare_means(method = \"wilcox.test\", comparisons = ggTest, label = \"p.format\", size = 3, label.y =\n",
    "    c(0.3,0.35))\n",
    "\n",
    "ggsave(\"MethylationDeltaAmongGeneCategoriesFromArrayExpress.svg\", bpG, width = 5, height = 3, pointsize = 10, units = 'in')\n"
   ]
  },
  {
   "cell_type": "code",
   "execution_count": null,
   "metadata": {},
   "outputs": [],
   "source": [
    "lr_markers_df_list <- readRDS(\"all_outlier_markers.rds\")\n",
    "outlier_up_list <- lapply(lr_markers_df_list,function(x){\n",
    "    return(x %>% dplyr::filter(avg_logFC > 0 & p_val_adj < 0.1) %>% pull(gene))\n",
    "})\n",
    "\n",
    "outlier_down_list <- lapply(lr_markers_df_list,function(x){\n",
    "    return(x %>% dplyr::filter(avg_logFC < 0 & p_val_adj < 0.1) %>% pull(gene))\n",
    "})\n",
    "\n",
    "seurat_obj <- NormalizeData( seurat_obj ) %>% ScaleData\n",
    "scaled_mat <- seurat_obj[[\"RNA\"]]@scale.data\n",
    "clusters <- unique(seurat_obj$cluster)\n",
    "mean_scaled_mat <- matrix(0,nrow=nrow(scaled_mat),ncol=length(unique(clusters)),\n",
    "                         dimnames=list(rownames(scaled_mat),clusters))\n",
    "\n",
    "for (cluster_ in clusters) {\n",
    "    mean_scaled_mat[,cluster_] <- rowMeans(scaled_mat[,WhichCells(seurat_obj,expression = cluster == cluster_)])\n",
    "}\n",
    "rm(scaled_mat)\n",
    "\n",
    "filtered_outlier_up_list <- list()\n",
    "filtered_outlier_down_list <- list()\n",
    "z_score_diff_thresh <- 0.1\n",
    "\n",
    "for (cluster_ in clusters) {\n",
    "    up_genes <- outlier_up_list[[cluster_]]\n",
    "    down_genes <- outlier_down_list[[cluster_]]\n",
    "    up_diff_vec <- vector(mode=\"logical\",length=length(up_genes))  | TRUE\n",
    "    down_diff_vec <- vector(mode=\"logical\",length=length(down_genes)) | TRUE\n",
    "    for (other_cluster in setdiff(clusters,cluster_)) {\n",
    "        up_diff_vec <- up_diff_vec & mean_scaled_mat[up_genes,cluster_] - mean_scaled_mat[up_genes,other_cluster] > z_score_diff_thresh\n",
    "        down_diff_vec <- down_diff_vec & mean_scaled_mat[down_genes,cluster_] - mean_scaled_mat[down_genes,other_cluster] > z_score_diff_thresh\n",
    "    }\n",
    "    filtered_outlier_up_list[[cluster_]] <- names(which(up_diff_vec == TRUE))\n",
    "    filtered_outlier_down_list[[cluster_]] <- names(which(down_diff_vec == TRUE))\n",
    "\n",
    "}"
   ]
  },
  {
   "cell_type": "code",
   "execution_count": null,
   "metadata": {},
   "outputs": [],
   "source": [
    "z_score_diff_thresh <- 0.1\n",
    "\n",
    "for (cluster_ in clusters) {\n",
    "    up_genes <- outlier_up_list[[cluster_]]\n",
    "    down_genes <- outlier_down_list[[cluster_]]\n",
    "    up_diff_vec <- vector(mode=\"logical\",length=length(up_genes))  | TRUE\n",
    "    down_diff_vec <- vector(mode=\"logical\",length=length(down_genes)) | TRUE\n",
    "    for (other_cluster in setdiff(clusters,cluster_)) {\n",
    "        up_diff_vec <- up_diff_vec & mean_scaled_mat[up_genes,cluster_] - mean_scaled_mat[up_genes,other_cluster] > z_score_diff_thresh\n",
    "        down_diff_vec <- down_diff_vec & mean_scaled_mat[down_genes,cluster_] - mean_scaled_mat[down_genes,other_cluster] > z_score_diff_thresh\n",
    "    }\n",
    "    filtered_outlier_up_list[[cluster_]] <- names(which(up_diff_vec == TRUE))\n",
    "    filtered_outlier_down_list[[cluster_]] <- names(which(down_diff_vec == TRUE))\n",
    "\n",
    "}"
   ]
  },
  {
   "cell_type": "code",
   "execution_count": null,
   "metadata": {},
   "outputs": [],
   "source": [
    "fwrite( tibble::enframe(filtered_outlier_up_list[[\"Ductal cell type 1\"]],name=\"idx\",value=\"gene\"),\n",
    "       \"ductal_filtered_up_markers.tsv\",sep=\"\\t\")\n",
    "fwrite( tibble::enframe(filtered_outlier_down_list[[\"Ductal cell type 1\"]],name=\"idx\",value=\"gene\"),\n",
    "       \"ductal_filtered_down_markers.tsv\",sep=\"\\t\")"
   ]
  },
  {
   "cell_type": "code",
   "execution_count": null,
   "metadata": {},
   "outputs": [],
   "source": [
    "outlier_up_list <- lapply(lr_markers_df_list,function(x){\n",
    "    return(x %>% dplyr::filter(avg_logFC > 0 & p_val_adj < 0.1) %>% pull(gene))\n",
    "})\n",
    "\n",
    "outlier_down_list <- lapply(lr_markers_df_list,function(x){\n",
    "    return(x %>% dplyr::filter(avg_logFC < 0 & p_val_adj < 0.1) %>% pull(gene))\n",
    "})\n",
    "\n",
    "ggTest <- list( c(\"Outlier_Up\", \"RestOfGenome\"), c(\"Outlier_Down\", \"RestOfGenome\"))\n",
    "cell_type <- \"Ductal cell type 1\"\n",
    "outlier_up_genes <- filtered_outlier_up_list[[cell_type]]#which(rowSums(exp_frac_mat[outlier_up_list[[cell_type]],other_types] > exp_thresh) <= 0) %>% names\n",
    "outlier_down_genes <- filtered_outlier_down_list[[cell_type]]#which(rowSums(exp_frac_mat[outlier_down_list[[cell_type]],other_types] > exp_thresh) <= 0) %>% names\n",
    "\n",
    "medianTumorZscores %>% dplyr::select(Gene,Zscore) %>% unique %>% mutate(GeneType=\"RestOfGenome\") %>%\n",
    "mutate(GeneType=ifelse(Gene %in% outlier_up_genes,\"Outlier_Up\",GeneType)) %>%\n",
    "mutate(GeneType=ifelse(Gene %in% outlier_down_genes,\"Outlier_Down\",GeneType)) -> temp_df\n",
    "temp_df$GeneType <- factor(temp_df$GeneType,levels=c(\"Outlier_Up\",\"RestOfGenome\",\"Outlier_Down\"))\n",
    "\n",
    "# temp_df %>% group_by(GeneType) %>% dplyr::count()\n",
    "# ggplot( temp_df, aes(x=GeneType,y=Zscore) ) + geom_boxplot() + \n",
    "# theme_pubr(base_size=15) + stat_compare_means(comparisons=list(c(\"RestOfGenome\",\"Outlier_Up\"),\n",
    "#                                                               c(\"RestOfGenome\",\"Outlier_Down\"),\n",
    "#                                                               c(\"Outlier_Up\",\"Outlier_Down\"))) +\n",
    "# ggtitle(paste(cell_type,\"TCGA RNA-seq\"))\n",
    "\n",
    "bpG <- ggboxplot(na.omit(temp_df), \n",
    "\t\t\t\tx=\"GeneType\", y=\"Zscore\",\n",
    "\t\t\t\tylab=(\"Tumor Z-score\"),\n",
    "\t\t\t\tcolor = \"GeneType\", lwd = 0.5, outlier.shape = NA) +\n",
    "                theme_pubr() +\n",
    "\t\t\ttheme(axis.text.y = element_text(size = 10),\n",
    "\t\t\t\taxis.title.x = element_blank(),\n",
    "\t\t\t\taxis.title.y = element_text(size = 10),\n",
    "                 legend.position=\"none\") + \n",
    "stat_compare_means(comparisons = ggTest, label = \"p.format\", size = 3)\n",
    "ggsave( \"TumorZscoresForEdgeCellGenesFromGtex_filtered.svg\", width = 2.8, height = 2.7, pointsize = 10, units = 'in' )\n",
    "\n",
    "methylationDf %>% dplyr::select(Gene,deltaMethylation) %>% unique %>% mutate(GeneType=\"RestOfGenome\") %>%\n",
    "mutate(GeneType=ifelse(Gene %in% outlier_up_genes,\"Outlier_Up\",GeneType)) %>%\n",
    "mutate(GeneType=ifelse(Gene %in% outlier_down_genes,\"Outlier_Down\",GeneType)) -> temp_df\n",
    "temp_df$GeneType <- factor(temp_df$GeneType,levels=c(\"Outlier_Up\",\"RestOfGenome\",\"Outlier_Down\"))\n",
    "\n",
    "bpG <- ggboxplot(na.omit(temp_df), \n",
    "\t\t\t\tx=\"GeneType\", y=\"deltaMethylation\",\n",
    "\t\t\t\tylab=(\"Delta (Tumor - Normal)\"),\n",
    "\t\t\t\tcolor = \"GeneType\", lwd = 0.5, outlier.shape = NA) + theme_pubr() +\n",
    "\t\t\ttheme(axis.text.y = element_text(size = 10),\n",
    "\t\t\t\taxis.title.x = element_blank(),\n",
    "\t\t\t\taxis.title.y = element_text(size = 10),\n",
    "                 legend.position=\"none\") +\n",
    "coord_cartesian(ylim = (maxLimit + c(-0.2, 0.3))) + \n",
    "stat_compare_means(method = \"wilcox.test\", comparisons = ggTest, label = \"p.format\", size = 3, label.y =\n",
    "    c(0.3,0.35))\n",
    "\n",
    "ggsave(\"MethylationDeltaAmongGeneCategoriesFromArrayExpress_filtered.svg\", bpG, width = 2.7, height = 2.8, pointsize = 10, units = 'in')\n",
    "\n",
    "ggtitle(paste(cell_type,\"TCGA methylation\"))"
   ]
  },
  {
   "cell_type": "markdown",
   "metadata": {},
   "source": [
    "## Comparison with markers of ADM and acinar dedifferentiation"
   ]
  },
  {
   "cell_type": "markdown",
   "metadata": {},
   "source": [
    "We isolate two sets of marker genes, one for acinar-ductal metaplasia (ADM) and acinar de-differentiation. \n",
    "We subset out only these marker genes in the Seurat object for computing Log-FC values and their corresponding p-values. Note that we do not rely on adjusted p-values for determining which markers are significant, since we do not use these results for any downstream analyses."
   ]
  },
  {
   "cell_type": "markdown",
   "metadata": {},
   "source": [
    "### Figure 2A"
   ]
  },
  {
   "cell_type": "code",
   "execution_count": null,
   "metadata": {},
   "outputs": [],
   "source": [
    "marker_table <- fread(\"../data/progenitor_marker_table.tsv\")[,!c(\"Stainings\\ and\\ References\")]\n",
    "set(marker_table,NULL,\"Acinar -> Progenitor\",paste(marker_table$`Acinar cell`, marker_table$`Embryonic progenitor`,sep=\" to \"))\n",
    "set(marker_table,NULL,\"Ductal -> Progenitor\",paste(marker_table$`Duct cell`, marker_table$`Embryonic progenitor`,sep=\" to \"))\n",
    "marker_table <- marker_table[,!c(\"Acinar cell\",\"Duct cell\",\"Embryonic progenitor\",\"\")]\n",
    "marker_genes <- marker_table$Marker\n",
    "\n",
    "new_markers <- c(\"STAT3\",\"SEL1L\",\"CBL\",\"KLF4\",\"CTNND1\",\"LKB1\",\"ICAM1\",\"DCLK1\",\"CDKN1A\") #Markers of ADM\n",
    "marker_genes <- c(marker_genes,new_markers) %>% setdiff(.,c(\"KRT19\",\"PARM1\",\"GP2\")) #These markers in Baldan et. al pertain to ductal cells and not acinar cells\n",
    "\n",
    "sub_meta_data_dt <- meta_data_dt[cluster %in% c(\"Acinar cell\"),.(cell.name,cluster)]\n",
    "sub_meta_data_dt <- merge( sub_meta_data_dt, edge_info_all$edge_center_dt[,.(cell.name,cell_category)], by=\"cell.name\")\n",
    "sub_meta_data_dt[cluster == \"Acinar cell\",cell_type:=fifelse(cell_category == \"edge\",\"Edge Acinar\",\"Non-Edge Acinar\")]\n",
    "sub_meta_data <- as.data.frame(sub_meta_data_dt[,list(cell_type)])\n",
    "rownames(sub_meta_data) <- sub_meta_data_dt$cell.name\n",
    "subset_seurat_obj <- subset( seurat_obj,\n",
    "                            cells=sub_meta_data_dt$cell.name,\n",
    "                            features=marker_genes)\n",
    "subset_seurat_obj <- AddMetaData( subset_seurat_obj, sub_meta_data ) %>% SetIdent( ., value=\"cell_type\")\n",
    "\n",
    "#Setting min.pct = 0 and logfc.threshold = -Inf is the only way to force Seurat to compute LogFC values\n",
    "#of all genes.\n",
    "prog_markers_df <- FindMarkers( subset_seurat_obj, ident.1=\"Edge Acinar\", min.pct = 0, logfc.threshold=-Inf) %>% \n",
    "tibble::rownames_to_column(\"gene\") %>%  mutate(significant=ifelse(p_val < 0.01,TRUE,FALSE),\n",
    "                                              regulation_type=ifelse(avg_logFC < 0,\"Down\",\"Up\")) %>%\n",
    "mutate(display_gene=ifelse(significant,paste0(\"*\",gene),gene)) %>% merge( marker_table[,.(Marker,`Acinar -> Progenitor`)], by.x=\"gene\", by.y=\"Marker\",all.x=T)\n",
    "for (gene in marker_genes) {\n",
    "    if (!gene %in% marker_table$Marker){\n",
    "        marker_table <- rbind( marker_table, list(gene,\"- to +\",\"- to +\"))\n",
    "    }\n",
    "}\n",
    "\n",
    "options(repr.plot.height=6,repr.plot.width=3)\n",
    "prog_markers_df$gene <- factor(prog_markers_df$gene, marker_genes )\n",
    "p <- ggplot( prog_markers_df ) + geom_bar(aes(x=gene,y=abs(avg_logFC),fill=regulation_type),\n",
    "                                     stat=\"identity\") + coord_flip() +\n",
    " geom_text(data = prog_markers_df %>% dplyr::filter(significant), aes(x=gene,y=abs(avg_logFC)),label=\"*\", \n",
    "           hjust=-0.2, vjust=0.75, size=8) +\n",
    "theme_pubr(base_size=10) + theme(legend.position=\"none\",axis.text.x=element_text(size=10)) + \n",
    "scale_fill_manual(values=c(\"Down\"=\"blue\",\"Up\"=\"red\")) + xlab(NULL) + ylab(\"|Log-FC|\") + ylim(0,4)\n",
    "print(p)\n",
    "ggsave(\"Fig2-markers.svg\",p,width=3,height=6.5)\n",
    "rm(subset_seurat_obj)"
   ]
  },
  {
   "cell_type": "markdown",
   "metadata": {},
   "source": [
    "### Find marker genes of MPC and MPC-like cells in Vilani et. al"
   ]
  },
  {
   "cell_type": "code",
   "execution_count": null,
   "metadata": {},
   "outputs": [],
   "source": [
    "if (!file.exists(file.path(base_path,\"progenitor_annotation.tsv\"))) {\n",
    "    progenitor_seurat_obj <- process_progenitor_data()\n",
    " } else {\n",
    "    progenitor_count_mat <- read_gene_exp_mat( file.path(base_path,\"GSM4194789_TMM_counts_CPM.csv.gz\"))\n",
    "    progenitor_meta_data_dt <- fread(file.path(base_path,\"progenitor_annotation.tsv\"))\n",
    "    progenitor_seurat_obj <- create_full_seurat_object( progenitor_count_mat, progenitor_meta_data_dt )\n",
    "}\n",
    "\n",
    "progenitor_seurat_obj <- SetIdent( progenitor_seurat_obj, value=\"seurat_clusters\" )\n",
    "marker_lists <- list(\"Multipotent\"=c(\"SOX9\",\"PTF1A\",\"PDX1\",\"NKX6-1\"))\n",
    "\n",
    "df <- FetchData( progenitor_seurat_obj, vars=unique(unlist(marker_lists)) )\n",
    "mpc_cells <- df %>% dplyr::filter(SOX9 > 0 & PTF1A > 0 & PDX1 > 0 & `NKX6-1` > 0) %>% rownames\n",
    "\n",
    "meta_data_df <- data.frame(cell.name=Cells(progenitor_seurat_obj),seurat_clusters=progenitor_seurat_obj$seurat_clusters) %>% \n",
    "mutate(seurat_clusters=ifelse(seurat_clusters == 5,\"MPC-like\",seurat_clusters)) %>%\n",
    "mutate(seurat_clusters=ifelse(cell.name %in% mpc_cells,\"MPC\",seurat_clusters)) %>% \n",
    "tibble::column_to_rownames(\"cell.name\")\n",
    "progenitor_seurat_obj <- AddMetaData( progenitor_seurat_obj, meta_data_df ) %>% SetIdent(value=\"seurat_clusters\")\n",
    "progenitor_seurat_obj <- SetIdent( progenitor_seurat_obj, value=\"seurat_clusters\" ) %>% NormalizeData\n",
    "mpc_markers_df <- FindMarkers( progenitor_seurat_obj, \n",
    "                                          ident.1=\"MPC\")\n",
    "mpc_like_markers_df <- FindMarkers( progenitor_seurat_obj, \n",
    "                                       ident.1=\"MPC-like\" )"
   ]
  },
  {
   "cell_type": "markdown",
   "metadata": {},
   "source": [
    "### Figure S3B\n",
    "\n",
    "Violin plots of multipotent and bipotent marker genes in each of the clusters in embryonic pancreas data."
   ]
  },
  {
   "cell_type": "code",
   "execution_count": null,
   "metadata": {},
   "outputs": [],
   "source": [
    "options(repr.plot.height=6,repr.plot.width=6)\n",
    "plot_list <- VlnPlot( progenitor_seurat_obj, features=marker_lists[[\"Multipotent\"]], \n",
    "        group.by=\"seurat_clusters\",pt.size=0.1, combine=F )\n",
    "plot_list <- lapply(plot_list,function(p){return(p+theme(legend.position=\"none\",title=element_text(size=7)))})\n",
    "p_markers <- ggarrange(plotlist=plot_list,nrow=2,ncol=2)\n",
    "ggsave(\"progenitor_markers.svg\",p_markers,width=6,height=4)"
   ]
  },
  {
   "cell_type": "markdown",
   "metadata": {},
   "source": [
    "### Figure S3A"
   ]
  },
  {
   "cell_type": "code",
   "execution_count": null,
   "metadata": {},
   "outputs": [],
   "source": [
    "progenitor_seurat_obj <- NormalizeData(progenitor_seurat_obj) %>% ScaleData(.) %>% \n",
    "FindVariableFeatures(.,nfeatures = 1000) %>% RunPCA(.,dims=50) %>% RunUMAP(.,dims=1:50)\n",
    "\n",
    "options(repr.plot.height=6,repr.plot.width=6)\n",
    "p_umap <- DimPlot( progenitor_seurat_obj, group.by=\"seurat_clusters\",label=T,label.size=4) + \n",
    "theme(legend.position=\"none\")\n",
    "ggsave(\"progenitors_umap.svg\",p_umap,width=6,height=6)"
   ]
  },
  {
   "cell_type": "code",
   "execution_count": null,
   "metadata": {},
   "outputs": [],
   "source": [
    "DimPlot( progenitor_seurat_obj, group.by=\"seurat_clusters\" )"
   ]
  },
  {
   "cell_type": "code",
   "execution_count": null,
   "metadata": {},
   "outputs": [],
   "source": [
    "options(repr.plot.height=12,repr.plot.width=12)\n",
    "FeaturePlot( progenitor_seurat_obj, features=c(\"SOX9\",\"NKX6-1\",\"PTF1A\",\"PDX1\"))"
   ]
  },
  {
   "cell_type": "markdown",
   "metadata": {},
   "source": [
    "### Figure 2B"
   ]
  },
  {
   "cell_type": "code",
   "execution_count": null,
   "metadata": {},
   "outputs": [],
   "source": [
    "#This tells us the number of cells in each cluster.\n",
    "progenitor_seurat_obj@meta.data %>% group_by(seurat_clusters) %>% dplyr::count()"
   ]
  },
  {
   "cell_type": "code",
   "execution_count": null,
   "metadata": {},
   "outputs": [],
   "source": [
    "mpc_like_genes <- mpc_like_markers_df %>% dplyr::filter(p_val_adj < 0.1 & avg_logFC > 0) %>% rownames\n",
    "mpc_genes <- mpc_markers_df %>% dplyr::filter(p_val_adj < 0.1 & avg_logFC > 0) %>% rownames\n",
    "\n",
    "gene_sets <- list(\"Multipotent\"=mpc_genes,\n",
    "                  \"MPC-like\"=mpc_like_genes)\n",
    "\n",
    "acinar_and_ductal_cells <- meta_data_dt %>% dplyr::filter(cluster %in% c(\"Ductal cell type 1\",\"Acinar cell\")) %>% pull(cell.name)\n",
    "acinar_mat <- seurat_obj[[\"RNA\"]]@counts[,acinar_and_ductal_cells]\n",
    "cells_rankings <- AUCell_buildRankings( acinar_mat, nCores=6, plotStats = F )\n",
    "auc_obj <- AUCell_calcAUC( gene_sets, cells_rankings, nCores=6 )\n",
    "auc_df <- getAUC(auc_obj) %>% t %>% as.data.frame %>% tibble::rownames_to_column(\"cell.name\") %>% \n",
    "merge(.,edge_info_all$edge_center_dt[,.(cell.name,cell_category,normal_cell_type)],by=\"cell.name\")\n",
    "\n",
    "melted_auc_df <- auc_df %>% dplyr::select(-cell.name) %>% tidyr::pivot_longer(cols=c(\"Multipotent\",\"MPC-like\"),\n",
    "                                                      values_to=\"AUC_score\",names_to=\"Signature\") %>% \n",
    "mutate( cell_category=ifelse(cell_category == \"center\",\"Non-Edge\",\"Edge\"))\n",
    "melted_auc_df$cell_category <- factor(melted_auc_df$cell_category,levels=c(\"Edge\",\"Non-Edge\"))\n",
    "\n",
    "options(repr.plot.width=4,repr.plot.height=3)\n",
    "p <- ggviolin( melted_auc_df, x=\"cell_category\",y=\"AUC_score\",fill=\"cell_category\",\n",
    "                                    size=0.2,width=0.5,color=\"cell_category\" ) + \n",
    "facet_wrap(vars(Signature,normal_cell_type),nrow=1) + theme_pubr(base_size=10) + \n",
    "xlab(NULL) + theme(panel.grid.major=element_line(color=\"gray\",linetype=\"dotted\"),legend.position=\"none\") +\n",
    "stat_compare_means(comparisons=list(c(\"Edge\",\"Non-Edge\")),\n",
    "                   label.x=1.5,hjust=0.5,label=\"p.signif\",\n",
    "                   size=6,method.args=list(\"alternative\"=\"g\")) + ylim(0,0.5) + ylab(\"AUCell score\")\n",
    "p\n",
    "ggsave(\"Fig2b.svg\",p,width=5.5,height=2)"
   ]
  },
  {
   "cell_type": "markdown",
   "metadata": {},
   "source": [
    "## Figure 2D"
   ]
  },
  {
   "cell_type": "markdown",
   "metadata": {},
   "source": [
    "Below, we first compute an N x 3 matrix, where N = number of genes, and the columns represent the mean gene expression z-score of genes in acinar cells, normal ductal cells and malignant ductal cells. Note that the z-scoring is done after these three cell types are subsetted from the Seurat object. "
   ]
  },
  {
   "cell_type": "code",
   "execution_count": null,
   "metadata": {},
   "outputs": [],
   "source": [
    "subset_cells <- meta_data_dt %>% filter(cluster %in% c(\"Ductal cell type 1\",\n",
    "                                                       \"Ductal cell type 2\",\"Acinar cell\")) %>% pull(cell.name)\n",
    "subset_seurat_obj <- subset( seurat_obj, cells=subset_cells ) %>% ScaleData(.)\n",
    "\n",
    "subset_meta_data_dt <- meta_data_dt[cell.name %in% subset_cells,.(cluster,cell.name)]\n",
    "subset_meta_data_dt[,cell_ident:=\"Malignant\"]\n",
    "cluster_names <- list(\"edge Acinar cell\"=\"Edge Acinar\",\"center Acinar cell\"=\"Non-Edge Acinar\",\n",
    "                     \"edge Ductal cell type 1\"=\"Outlier Ductal\",\"center Ductal cell type 1\"=\"Non-Outlier Ductal\",\n",
    "                     \"Ductal cell type 2\"=\"Malignant\")\n",
    "for (cell_type in c(\"Acinar cell\",\"Ductal cell type 1\")) {\n",
    "    for (cell_category_ in c(\"edge\",\"center\")) {\n",
    "        cells <- edge_info_all$edge_center_dt[normal_cell_type == cell_type & cell_category == cell_category_,cell.name]\n",
    "        subset_meta_data_dt[cell.name %in% cells,cell_ident:=cluster_names[[paste(cell_category_,cell_type)]]]\n",
    "    }\n",
    "}\n",
    "to_add_df <- as.data.frame(subset_meta_data_dt[,!c(\"cell.name\")])\n",
    "rownames(to_add_df) <- subset_meta_data_dt$cell.name\n",
    "subset_seurat_obj <- AddMetaData(subset_seurat_obj,to_add_df) %>% SetIdent(.,value=\"cell_ident\")\n",
    "\n",
    "scaled_data <- subset_seurat_obj[[\"RNA\"]]@scale.data\n",
    "identities <- c(\"Edge Acinar\",\"Non-Edge Acinar\",\"Outlier Ductal\",\"Non-Outlier Ductal\",\"Malignant\")\n",
    "zscores_mat <- matrix(0,nrow=nrow(scaled_data),ncol=length(identities)+1,\n",
    "                     dimnames=list(rownames(scaled_data),c(identities,\"All Ductal\")))\n",
    "for (ident in identities) {\n",
    "    zscores_mat[,ident] <- scaled_data[,WhichCells(subset_seurat_obj,ident=ident)] %>% rowMeans(.)\n",
    "}\n",
    "zscores_mat[,\"All Ductal\"] <- scaled_data[,subset_meta_data_dt[cluster == \"Ductal cell type 1\",cell.name]] %>% rowMeans(.)\n",
    "rm(scaled_data)\n",
    "rm(subset_seurat_obj)"
   ]
  },
  {
   "cell_type": "code",
   "execution_count": null,
   "metadata": {},
   "outputs": [],
   "source": [
    "column_groups <- list(\"NEA-EA-M\"=c(\"Non-Edge Acinar\",\"Edge Acinar\",\"Malignant\"),\n",
    "                     \"NEA-EA-D1-M\"=c(\"Non-Edge Acinar\",\"Edge Acinar\",\"All Ductal\",\"Malignant\"),\n",
    "                     \"NEA-EA-OD-M\"=c(\"Non-Edge Acinar\",\"Edge Acinar\",\"Outlier Ductal\",\"Malignant\"),\n",
    "                     \"NEA-EA-NOD-M\"=c(\"Non-Edge Acinar\",\"Edge Acinar\",\"Non-Outlier Ductal\",\"Malignant\"),\n",
    "                     \"NOD-OD-M\"=c(\"Non-Outlier Ductal\",\"Outlier Ductal\",\"Malignant\"))\n",
    "\n",
    "path_mat_list <- list()\n",
    "for (column_group in names(column_groups)) {\n",
    "    path_mat <- zscores_mat[,column_groups[[column_group]]]\n",
    "    path_mat_list[[column_group]] <- path_mat\n",
    "}\n",
    "\n",
    "enrichment_dt <- data.table()\n",
    "threshold <- 0.2    #Threshold above which the difference in z-scores between two cell types is considered as significant.\n",
    "\n",
    "#        in cluster | not in cluster\n",
    "#   in set\n",
    "#   not in set\n",
    "for (column_group in names(path_mat_list)) {\n",
    "    path_mat <- path_mat_list[[column_group]]\n",
    "    differences <- t(apply(path_mat,1,diff))\n",
    "    changing_genes_mask <- rowSums(differences > threshold) == ncol(differences)\n",
    "    changing_genes <- rownames(path_mat)[changing_genes_mask]\n",
    "    group_enrichment_dt <- compute_enrichment(changing_genes,rownames(seurat_obj))\n",
    "\n",
    "    enrichment_dt <- rbind(enrichment_dt,group_enrichment_dt[,path:=column_group])\n",
    "}\n",
    "enrichment_dt[,p_adj:=p.adjust(p_value)]\n"
   ]
  },
  {
   "cell_type": "markdown",
   "metadata": {},
   "source": [
    "## Figure S3C"
   ]
  },
  {
   "cell_type": "code",
   "execution_count": null,
   "metadata": {},
   "outputs": [],
   "source": [
    "options(repr.plot.width=3,repr.plot.height=12)\n",
    "pathway_mat <- tidyr::pivot_wider( enrichment_dt[,!c(\"p_value\",\"q_value\",\"odds_ratio\")], names_from=\"path\", values_from=\"p_adj\" ) %>%\n",
    "tibble::column_to_rownames(\"pathway\") %>% as.matrix\n",
    "pathway_mat <- pathway_mat[rowSums(pathway_mat < 0.1) >= 1,]\n",
    "log_pathway_mat <- -log10(pathway_mat)\n",
    "log_pathway_mat[log_pathway_mat < 1] <- NA\n",
    "col_fun <- colorRamp2(c(0,40), c(\"blue\",\"red\"))\n",
    "p_heatmap <- Heatmap(log_pathway_mat,cluster_columns=F,cluster_rows=F,col=col_fun,na_col=\"white\",rect_gp = gpar(col=\"black\"),\n",
    "       column_names_gp=gpar(fontsize=8),row_names_gp=gpar(fontsize=8), width=unit(1,\"in\"), name=\"Log pvalue\") #%>% as.ggplot\n",
    "\n",
    "\n",
    "options(repr.plot.width=8,repr.plot.height=12)\n",
    "figS2 <- grid.arrange(\n",
    "    arrangeGrob(p_markers + labs(tag=\"A\") + theme(plot.margin=unit(c(0,1,0,0),\"cm\"),plot.tag.position=\"topleft\"),\n",
    "                p_umap + labs(tag=\"B\") + theme(plot.margin=unit(c(0,1,0,0),\"cm\"),plot.tag.position=\"topleft\")),\n",
    "    as.ggplot(p_heatmap) + labs(tag=\"C\") + \n",
    "            theme(plot.tag.position=\"topleft\",plot.margin=unit(c(0,0,0,-1.5),\"cm\")),\n",
    "    heights=c(2,1),\n",
    "    ncol=2\n",
    ")\n",
    "ggsave(\"Fig-S3-new.svg\",figS2,width=8,height=12)"
   ]
  },
  {
   "cell_type": "markdown",
   "metadata": {},
   "source": [
    "## Mechanisms of edge-ness"
   ]
  },
  {
   "cell_type": "markdown",
   "metadata": {},
   "source": [
    "### Motif analysis"
   ]
  },
  {
   "cell_type": "code",
   "execution_count": null,
   "metadata": {},
   "outputs": [],
   "source": [
    "atac_peaks_dt <- fread(file.path(base_path,\"acinar_atac_peaks.narrowPeak\"))[,.(chr=V1,start=V2,end=V3)]\n",
    "\n",
    "all_genes <- rownames(seurat_obj[[\"RNA\"]]@data)\n",
    "entrez_dt <- get_entrez_dt( all_genes )\n",
    "entrez_ids <- entrez_dt$final_entrez_id\n",
    "\n",
    "entrez_dt[,gene_type:=\"Expressed\"]\n",
    "cds_tx_dt <- select(TxDb.Hsapiens.UCSC.hg19.knownGene,columns=c(\"GENEID\",\"TXNAME\"),\n",
    "               keytype=c(\"GENEID\"), keys=entrez_ids ) %>% na.omit(.)\n",
    "cds_tx_dt <- merge( cds_tx_dt, entrez_dt[,.(SYMBOL,final_entrez_id,gene_type)],\n",
    "                   by.x=\"GENEID\", by.y=\"final_entrez_id\") %>% data.table(.)\n",
    "\n",
    "atac_peaks_dt <- gene_assign( atac_peaks_dt, assign_type=\"overlap\", dist_threshold = 10000 )\n",
    "           "
   ]
  },
  {
   "cell_type": "markdown",
   "metadata": {},
   "source": [
    "### Peak-wise motif search"
   ]
  },
  {
   "cell_type": "code",
   "execution_count": null,
   "metadata": {},
   "outputs": [],
   "source": [
    "source(\"../src/motif_analysis.R\")\n",
    "\n",
    "subset_motifs <- function(all_tfs,frac_threshold=0.1) {\n",
    "    tf_names <- c()\n",
    "    for (motif in all_tfs) {\n",
    "        if (str_detect(motif,\"::\")) {\n",
    "            motif <- str_split(motif,\"::\") %>% unlist\n",
    "        }\n",
    "\n",
    "        reformatted <- str_replace_all(motif,\"\\\\(..*\\\\)\",\"\") %>% str_trim %>% str_to_upper\n",
    "        tf_names <- c(tf_names,reformatted)\n",
    "    }\n",
    "    tf_names <- unique(tf_names)\n",
    "\n",
    "    seurat_obj <- SetIdent( seurat_obj, value=\"cluster\")\n",
    "    acinar_seurat_obj <- subset( seurat_obj, idents=\"Acinar cell\")\n",
    "    tfs_present <- tf_names[tf_names %in% rownames(acinar_seurat_obj)]\n",
    "    frac_expressed <- rowMeans(acinar_seurat_obj[[\"RNA\"]][tfs_present,] > 0)\n",
    "    tfs_present[frac_expressed >= frac_threshold]\n",
    "    rm(acinar_seurat_obj)\n",
    "    \n",
    "    motifs_to_use <- list()\n",
    "    for (tf in tfs_present) {\n",
    "        motifs <- str_detect(all_tfs,tf)    \n",
    "        motifs_to_use <- c(motifs_to_use,all_tfs[motifs])\n",
    "    }\n",
    "    motifs_to_use <- unique(motifs_to_use)\n",
    "    return(motifs_to_use)\n",
    "}"
   ]
  },
  {
   "cell_type": "code",
   "execution_count": null,
   "metadata": {},
   "outputs": [],
   "source": [
    "motifs_to_use <- subset_motifs(names(merged_pwm_list))\n",
    "promoter_atac_peaks_dt <- atac_peaks_dt[!is.na(SYMBOL),c(\"chr\",\"start\",\"end\",\"SYMBOL\",\"gene_type\")] %>% unique#gene_assign( atac_peaks_dt, assign_type=\"overlap\", dist_threshold = 10000 )\n",
    "peaks_not_near_promoter_dt <- atac_peaks_dt[is.na(SYMBOL),c(\"chr\",\"start\",\"end\",\"SYMBOL\",\"gene_type\")]\n",
    "peaks_not_near_promoter_dt[,SYMBOL:=paste(\"seq\",1:nrow(peaks_not_near_promoter_dt),sep=\"_\")]\n",
    "\n",
    "promoter_atac_granges <- makeGRangesFromDataFrame( promoter_atac_peaks_dt, keep.extra.columns=T ) %>% resize(.,width=100,fix=\"center\")\n",
    "atac_not_near_promoter_granges <- makeGRangesFromDataFrame( peaks_not_near_promoter_dt, keep.extra.columns=T ) %>% resize(.,width=100,fix=\"center\")\n",
    "\n",
    "pwm_list <- list()\n",
    "for (motif in motifs_to_use) {\n",
    "    pwm_list[[motif]] <- merged_pwm_list[[motif]]\n",
    "}\n",
    "edge_with_non_edge_list <- pwm_scan( pwm_list, \n",
    "                               foreground_granges_obj = promoter_atac_granges, \n",
    "                               background_granges_obj = atac_not_near_promoter_granges,\n",
    "                               motif_p_value_thresh = 1e-5 )\n",
    "\n",
    "enrichment_dt <- edge_with_non_edge_list$enrichment_dt %>% na.omit\n",
    "tfs <- unique(enrichment_dt$tf)\n",
    "foreground_dt <- edge_with_non_edge_list$fg_matches_dt\n",
    "foreground_dt[,`:=`(gene_type=promoter_atac_peaks_dt$gene_type,SYMBOL=promoter_atac_peaks_dt$SYMBOL)]\n",
    "\n",
    "idx <- 1\n",
    "\n",
    "motif_gene_sets <- list()\n",
    "for (tf_ in tfs) {\n",
    "    print(idx)\n",
    "    flush.console()\n",
    "    tf_dt <- foreground_dt[get(tf_) == 1,c(tf_,\"gene_type\",\"SYMBOL\"),with=F] %>% unique(.)\n",
    "    motif_gene_sets[[tf_]] <- unique(tf_dt$SYMBOL)\n",
    "\n",
    "   idx <- idx+1\n",
    "}\n",
    "enr_tfs <- enrichment_dt[q_value < 0.1,][order(num_fg),tf]"
   ]
  },
  {
   "cell_type": "code",
   "execution_count": null,
   "metadata": {},
   "outputs": [],
   "source": [
    "saveRDS(motif_gene_sets,\"Acinar_TF_Targets.rds\")"
   ]
  },
  {
   "cell_type": "code",
   "execution_count": null,
   "metadata": {},
   "outputs": [],
   "source": [
    "seurat_obj <- SetIdent(seurat_obj,value=\"cluster\")\n",
    "acinar_gene_exp_mat <- seurat_obj[[\"RNA\"]]@counts[,WhichCells(seurat_obj,ident=\"Acinar cell\")]\n",
    "rankings <- AUCell_buildRankings( acinar_gene_exp_mat, nCores=6 )\n",
    "rm(acinar_gene_exp_mat)\n",
    "auc_obj <- AUCell_calcAUC( motif_gene_sets, rankings )\n",
    "auc_mat <- getAUC(auc_obj)\n",
    "auc_thresholds <- AUCell_exploreThresholds( auc_obj, plotHist=F, nCores=3 )\n",
    "tfs <- names(auc_obj)\n",
    "threshold_vec <- sapply(tfs,function(x){return(auc_thresholds[[x]]$aucThr$thresholds[\"Global_k1\",\"threshold\"]);})\n",
    "binarized_auc_mat <- sapply(1:length(tfs),function(x){return(auc_mat[x,] > threshold_vec[x]);}) %>% t\n",
    "rownames(binarized_auc_mat) <- tfs\n",
    "\n",
    "num_bins <- 3\n",
    "bin_column_names <- paste(\"Bin\",1:num_bins)\n",
    "\n",
    "acinar_edge_center_dt <- edge_info_all$edge_center_dt[normal_cell_type == \"Acinar cell\",]\n",
    "acinar_edge_cells <- acinar_edge_center_dt[cell_category == \"edge\",cell.name]\n",
    "\n",
    "distance_quantiles <- quantile(acinar_edge_center_dt$dist_from_normal_medoid, seq(0,1,by=1/num_bins))\n",
    "num_quantiles <- length(distance_quantiles)\n",
    "bin_cells_list <- list()\n",
    "\n",
    "\n",
    "for (q_idx in 1:(num_quantiles-1)) {\n",
    "    lower <- distance_quantiles[q_idx]\n",
    "    upper <- distance_quantiles[q_idx+1]\n",
    "    bin_cells_list[[q_idx]] <- acinar_edge_center_dt[dist_from_normal_medoid >= lower & \n",
    "                                                     dist_from_normal_medoid < upper,cell.name]\n",
    "}\n",
    "\n",
    "binned_auc_mat <- matrix(0,nrow=nrow(binarized_auc_mat),ncol=num_bins)\n",
    "for (bin in 1:num_bins) {\n",
    "    binned_auc_mat[,bin] <- rowMeans(binarized_auc_mat[,bin_cells_list[[bin]]])\n",
    "}\n",
    "rownames(binned_auc_mat) <- rownames(binarized_auc_mat)\n",
    "colnames(binned_auc_mat) <- paste(\"Bin\",1:num_bins)\n",
    "\n",
    "gene_set_cv <- apply(binned_auc_mat,1,sd)/rowMeans(binned_auc_mat)\n",
    "most_var_gene_sets <- names(sort(gene_set_cv,decreasing=T))[1:50]\n",
    "options(repr.plot.width=6,repr.plot.height=12)\n",
    "pheatmap(binned_auc_mat[c(most_var_gene_sets),],cluster_cols=F,fontsize=15,cutree_rows=2)\n",
    "\n",
    "saveRDS(binned_auc_mat[c(most_var_gene_sets),],\"binned_auc_mat_most_var_new.rds\")\n",
    "saveRDS(binned_auc_mat,\"binned_auc_mat_new.rds\")\n",
    "\n",
    "writexl::write_xlsx( data.table( binned_auc_mat, keep.rownames=T) %>% setnames(\"rn\",\"gene_name\"),\n",
    "                    \"Table_S2.xlsx\" )"
   ]
  },
  {
   "cell_type": "markdown",
   "metadata": {},
   "source": [
    "## Figure 2C\n",
    "\n",
    "Gene set activity changes from non-edge to edge cells"
   ]
  },
  {
   "cell_type": "code",
   "execution_count": null,
   "metadata": {
    "scrolled": true
   },
   "outputs": [],
   "source": [
    "acinar_seurat_obj <- subset( seurat_obj, subset = cluster == \"Acinar cell\") %>% ScaleData(.,features=rownames(seurat_obj))\n",
    "num_bins <- 3\n",
    "bin_column_names <- paste(\"Bin\",1:num_bins)\n",
    "\n",
    "acinar_edge_center_dt <- edge_info_all$edge_center_dt[normal_cell_type == \"Acinar cell\",]\n",
    "\n",
    "distance_quantiles <- quantile(acinar_edge_center_dt$dist_from_normal_medoid, seq(0,1,by=1/num_bins))\n",
    "num_quantiles <- length(distance_quantiles)\n",
    "gene_exp_mat <- matrix(0,nrow=length(rownames(acinar_seurat_obj)),ncol=num_bins,\n",
    "                      dimnames=list(rownames(acinar_seurat_obj),1:num_bins))\n",
    "\n",
    "for (q_idx in 1:(num_quantiles-1)) {\n",
    "    lower <- distance_quantiles[q_idx]\n",
    "    upper <- distance_quantiles[q_idx+1]\n",
    "    cells <- acinar_edge_center_dt[dist_from_normal_medoid >= lower & \n",
    "                                                     dist_from_normal_medoid < upper,cell.name]\n",
    "    gene_exp_mat[,q_idx] <- rowMeans(acinar_seurat_obj[[\"RNA\"]]@scale.data[,cells])\n",
    "}\n",
    "inter_bin_diff_mat <- apply(gene_exp_mat,1,diff) %>% t\n",
    "z_score_thresh <- 0.1\n",
    "\n",
    "top_num <- ceiling( 0.2 * length(rownames(seurat_obj )))\n",
    "foreground_genes <- names(which(inter_bin_diff_mat[,1] > z_score_thresh & inter_bin_diff_mat[,2] > z_score_thresh))\n",
    "\n",
    "#Ordinarily, we would select genes which are expressed in at least 1% of cells. However, there is such a \n",
    "#large change in gene expression from the non-edge to edge state that this filter effectively removes most of the\n",
    "#genes expressed in Bin 1.\n",
    "background_genes <- names(which(rowSums(acinar_seurat_obj[[\"RNA\"]]@counts) > 0))\n",
    "\n",
    "enrichment_dt <- compute_enrichment(foreground_genes,background_genes)\n",
    "\n",
    "mascaux_gene_sets <- c(\"MYC_TARGETS_V2\",\"MYC_TARGETS_V1\",\"MTORC1_SIGNALING\",\"PI3K_AKT_MTOR_SIGNALING\",\n",
    "                      \"E2F_TARGETS\",\"MITOTIC_SPINDLE\",\"INTERFERON_GAMMA_RESPONSE\",\"ALLOGRAFT_REJECTION\",\n",
    "                      \"G2M_CHECKPOINT\",\"IL6_JAK_STAT_SIGNALING\",\"TNFA_SIGNALING_VIA_NFKB\",\"INFLAMMATORY_RESPONSE\",\n",
    "                      \"IL2_STAT5_SIGNALING\",\"ADIPOGENESIS\",\"EPITHELIAL_MESENCHYMAL_TRANSITION\",\"UV_RESPONSE_UP\",\"UV_RESPONSE_DOWN\",\n",
    "                      \"OXIDATIVE_PHOSPHORYLATION\",\"FATTY_ACID_METABOLISM\",\"HYPOXIA\")\n",
    "enrichment_dt[q_value < 0.1 & pathway %in% paste(\"HALLMARK\",mascaux_gene_sets,sep=\"_\"),]\n",
    "rm(acinar_seurat_obj)\n",
    "\n",
    "writexl::write_xlsx( enrichment_dt[q_value < 0.1,.(pathway,odds_ratio,p_value,q_value)], \n",
    "                    \"TableS1.xlsx\" )"
   ]
  },
  {
   "cell_type": "markdown",
   "metadata": {},
   "source": [
    "## Regression to find genes increasing/decreasing in expression with age in acinar cells in source PDAC data"
   ]
  },
  {
   "cell_type": "code",
   "execution_count": null,
   "metadata": {},
   "outputs": [],
   "source": [
    "original_age_dt <- data.table( sample=c(paste0(\"T\",1:24),paste0(\"N\",1:11)),\n",
    "                              age=c(64,52,58,72,65,64,70,66,36,61,51,54,58,67,54,56,71,\n",
    "                                    68,59,59,59,67,54,44,64,55,50,53,52,31,42,41,34,65,30),\n",
    "                             gender=c(\"M\",\"M\",\"F\",\"F\",\"F\",\"M\",\"M\",\"F\",\"M\",\"M\",\"M\",\"M\",\"F\",\"F\",\"F\",\"F\",\n",
    "                                      \"F\",\"F\",\"F\",\"M\",\"M\",\"F\",\"M\",\"F\", \n",
    "                                      \"F\",\"M\",\"M\",\"M\",\"F\",\"F\",\"F\",\"M\",\"M\",\"F\",\"F\"))\n",
    "\n",
    "original_age_dt <- merge( edge_info_all$edge_center_dt[normal_cell_type == \"Acinar cell\",.(cell.name,cell_type=cell_category)],\n",
    "                 meta_data_dt[,.(cell.name,sample)], by=\"cell.name\" ) %>% merge(.,original_age_dt,by=\"sample\")\n",
    "\n",
    "original_acinar_obj <- subset( seurat_obj, subset=cluster == \"Acinar cell\") %>%\n",
    " ScaleData %>% CellCycleScoring(.,s.features = s.genes,g2m.features=g2m.genes)\n",
    "original_age_dt <- merge( original_age_dt, \n",
    "                         tibble::rownames_to_column(original_acinar_obj@meta.data,\"cell.name\" ),\n",
    "                         by=\"cell.name\" )\n",
    "output_df <- gene_exp_regression( original_acinar_obj[[\"RNA\"]]@scale.data,\n",
    "                                 original_age_dt %>% tibble::column_to_rownames(\"cell.name\"),\n",
    "                                 c(\"nFeature_RNA\",\"S.Score\",\"G2M.Score\",\"age\",\"gender\"),c(\"age\"))\n",
    "\n",
    "age_increasing_genes <- output_df[age_q_value < 0.1 & age_coef > 0,gene]\n",
    "num_cells_thresh <- ceiling(0.01 * length(Cells(original_acinar_obj)))\n",
    "non_zero_expressed_genes <- names(which(rowSums(original_acinar_obj[[\"RNA\"]]@counts > 0) > num_cells_thresh))\n",
    "\n",
    "lr_markers_df_list <- readRDS(\"all_outlier_markers.rds\")\n",
    "all_edge_acinar_genes <- lr_markers_df_list[[\"Acinar cell\"]] %>% dplyr::filter(avg_logFC > 0 & p_val_adj < 0.1) %>% pull(gene)\n",
    "dt <- compute_enrichment( age_increasing_genes, non_zero_expressed_genes, \n",
    "                         pathways = list(\"Edge\"=all_edge_acinar_genes))\n",
    "                                        #\"Multipotent\"=multipotent_genes,\n",
    "                                        #\"Bipotent\"=bipotent_genes))\n",
    "print(dt)\n",
    "\n",
    "all_edge_acinar_genes <- setdiff(all_edge_acinar_genes,age_increasing_genes)\n",
    "\n",
    "fwrite(output_df[age_q_value < 0.1 & age_coef > 0,],\"acinar_increasing_with_age_sex_regressed.tsv\",sep=\"\\t\")\n",
    "fwrite(output_df[age_q_value < 0.1 & age_coef < 0,],\"acinar_decreasing_with_age_sex_regressed.tsv\",sep=\"\\t\")\n",
    "fwrite( lr_markers_df_list[[\"Acinar cell\"]] %>% dplyr::filter(p_val_adj < 0.1) %>% \n",
    "mutate(gene_type=ifelse(avg_logFC > 0,\"Upregulated\",\"Downregulated\")) %>% arrange(-avg_logFC),\n",
    "      \"acinar_edge_markers.tsv\", sep=\"\\t\")"
   ]
  },
  {
   "cell_type": "markdown",
   "metadata": {},
   "source": [
    "## Edge cells in other datasets"
   ]
  },
  {
   "cell_type": "markdown",
   "metadata": {},
   "source": [
    "### GSE81547"
   ]
  },
  {
   "cell_type": "code",
   "execution_count": null,
   "metadata": {},
   "outputs": [],
   "source": [
    "# detach(\"package:monocle3\") #Monocle3 breaks the pData call from GEOquery. This hack circumvents the issue.\n",
    "aging_obj <- process_GSE81547()\n",
    "aging_meta_data_dt <- data.table( aging_obj@meta.data, keep.rownames=T ) %>% setnames(.,\"rn\",\"cell.name\")\n",
    "# library(monocle3)"
   ]
  },
  {
   "cell_type": "code",
   "execution_count": null,
   "metadata": {},
   "outputs": [],
   "source": [
    "cel_seq_obj <- AddMetaData( cel_seq_obj, tibble::rownames_to_column(cel_seq_obj@meta.data,\"cell.name\") %>% \n",
    "                          merge(.,cel_seq_meta_data_dt[,.(cell.name,age)]) %>% tibble::column_to_rownames(\"cell.name\"))\n",
    "cel_seq_obj$sample_col <- paste(\"GSE85241\",cel_seq_obj$age,sep=\"_\")\n",
    "aging_obj$sample_col <- paste(\"GSE81547\",aging_obj$age,sep=\"_\")\n",
    "merged_obj <- merge( aging_obj[,aging_acinar_cells], cel_seq_obj[,vano_acinar_cells] )"
   ]
  },
  {
   "cell_type": "code",
   "execution_count": null,
   "metadata": {},
   "outputs": [],
   "source": [
    "source(\"../src/process_pdac.R\")\n",
    "# aging_obj <- SetIdent(aging_obj,value=\"cell_type\")\n",
    "# aging_acinar_cells <- WhichCells(aging_obj,idents=\"acinar\")\n",
    "auc_info <- compute_AUCell_scores(merged_obj,gene_set)\n",
    "shuffled_auc_info <- compute_shuffled_gene_set_AUCell_scores(merged_obj,gene_set,\n",
    "                                          sample_info_column=\"sample_col\")"
   ]
  },
  {
   "cell_type": "code",
   "execution_count": null,
   "metadata": {},
   "outputs": [],
   "source": [
    "final_auc_df$log_nCount_RNA <- log10(final_auc_df$nCount_RNA)\n",
    "temp <- glm( edge ~ 1 + log_nCount_RNA , data=final_auc_df )\n",
    "final_auc_df$edge_residual <- temp$residuals"
   ]
  },
  {
   "cell_type": "code",
   "execution_count": null,
   "metadata": {},
   "outputs": [],
   "source": [
    "fitted <- normalmixEM(temp$residuals,lambda=0.8)\n",
    "final_auc_df$posterior_ratio <- log(fitted$posterior[,\"comp.1\"]) - log(fitted$posterior[,\"comp.2\"])\n",
    "final_auc_df <- final_auc_df %>% mutate(is_edge=ifelse(posterior_ratio > 1,1,0))"
   ]
  },
  {
   "cell_type": "code",
   "execution_count": null,
   "metadata": {},
   "outputs": [],
   "source": [
    "cel_seq_meta_data_dt$age %>% unique"
   ]
  },
  {
   "cell_type": "code",
   "execution_count": null,
   "metadata": {},
   "outputs": [],
   "source": [
    "aging_obj$age %>% unique"
   ]
  },
  {
   "cell_type": "code",
   "execution_count": null,
   "metadata": {},
   "outputs": [],
   "source": [
    "ggplot( final_auc_df ) + geom_point(aes(x=age,y=thresh,color=as.factor(age))) + facet_wrap(~age)"
   ]
  },
  {
   "cell_type": "code",
   "execution_count": null,
   "metadata": {},
   "outputs": [],
   "source": [
    "thresholds_df <- shuffled_auc_info %>% group_by(sample) %>% summarize(thresh=max(mean))\n",
    "final_auc_df <- tibble::rownames_to_column( as.data.frame(auc_info$auc_mat),\n",
    "                            \"cell.name\" ) %>% merge(.,\n",
    "                                                    tibble::rownames_to_column(merged_obj@meta.data,\"cell.name\")) %>%\n",
    "merge(.,thresholds_df,by.x=\"sample_col\",by.y=\"sample\") %>% mutate(is_edge=ifelse(edge/thresh >= 1.5,1,0))"
   ]
  },
  {
   "cell_type": "code",
   "execution_count": null,
   "metadata": {},
   "outputs": [],
   "source": [
    "fitted <- normalmixEM(final_auc_df$edge/final_auc_df$thresh,lambda=0.5)\n",
    "final_auc_df$posterior_ratio <- log(fitted$posterior[,\"comp.2\"]) - log(fitted$posterior[,\"comp.1\"])\n",
    "final_auc_df <- final_auc_df %>% mutate(is_edge=ifelse(posterior_ratio > 0.75,1,0))"
   ]
  },
  {
   "cell_type": "code",
   "execution_count": null,
   "metadata": {},
   "outputs": [],
   "source": [
    "ggplot( final_auc_df %>% mutate(dataset=str_match(sample_col,\"GSE[0-9][0-9]*\") %>% unlist %>% as.character) ) + \n",
    "geom_density(aes(x=edge/thresh,color=dataset))"
   ]
  },
  {
   "cell_type": "code",
   "execution_count": null,
   "metadata": {},
   "outputs": [],
   "source": [
    "ggplot( final_auc_df %>% group_by(age) %>% summarize(edge_frac=mean(is_edge)) ) +\n",
    "geom_point(aes(x=age,y=edge_frac))"
   ]
  },
  {
   "cell_type": "code",
   "execution_count": null,
   "metadata": {},
   "outputs": [],
   "source": [
    "final_auc_df"
   ]
  },
  {
   "cell_type": "code",
   "execution_count": null,
   "metadata": {},
   "outputs": [],
   "source": []
  },
  {
   "cell_type": "markdown",
   "metadata": {},
   "source": [
    "#### Computing the edge cell fraction"
   ]
  },
  {
   "cell_type": "code",
   "execution_count": null,
   "metadata": {},
   "outputs": [],
   "source": [
    "aging_obj <- SetIdent(aging_obj,value=\"cell_type\")\n",
    "aging_acinar_cells <- WhichCells(aging_obj,idents=\"acinar\")\n",
    "aging_acinar_count_mat <- aging_obj[[\"RNA\"]]@counts[,aging_acinar_cells]\n",
    "gene_set <- list(\"edge\"=all_edge_acinar_genes)\n",
    "source(\"../src/process_pdac.R\")\n",
    "aucell_info <- compute_gene_set_AUCell_scores(aging_acinar_count_mat,gene_set,aging_meta_data_dt)\n",
    "efsun_aucell_dt <- aucell_info$aucell_dt\n",
    "efsun_info_tbl <- compute_edge_frac( efsun_aucell_dt )"
   ]
  },
  {
   "cell_type": "markdown",
   "metadata": {},
   "source": [
    "#### Figure 4A : Prepare ADM/dedifferentiation marker plot"
   ]
  },
  {
   "cell_type": "code",
   "execution_count": null,
   "metadata": {},
   "outputs": [],
   "source": [
    "sub_meta_data_dt <- aging_meta_data_dt[cell_type == \"acinar\",.(cell.name,cluster=cell_type,nFeature_RNA)]\n",
    "sub_meta_data_dt <- merge( sub_meta_data_dt, \n",
    "                          efsun_aucell_dt, by=\"cell.name\")\n",
    "\n",
    "subset_seurat_obj <- subset( aging_obj,\n",
    "                            cells=sub_meta_data_dt$cell.name ) %>%\n",
    "CellCycleScoring(.,s.features=s.genes,g2m.features=g2m.genes) \n",
    "\n",
    "subset_seurat_obj <- AddMetaData( subset_seurat_obj, sub_meta_data_dt %>%dplyr::select(cell.name,age,nFeature_RNA,cell_type) %>%\n",
    "                                tibble::column_to_rownames(\"cell.name\")) %>% SetIdent( ., value=\"cell_type\")\n",
    "options(repr.plot.height=6,repr.plot.width=3)\n",
    "efsun_markers_df <- FindMarkers(subset_seurat_obj,test.use=\"LR\",ident.1=\"edge\",\n",
    "                                    latent.vars=c(\"S.Score\",\"G2M.Score\",\"nFeature_RNA\"))\n",
    " \n",
    "subset_seurat_obj <- subset_seurat_obj %>% subset(.,features=marker_genes)\n",
    "prog_markers_df <- FindMarkers( subset_seurat_obj, ident.1=\"edge\", min.pct = 0, logfc.threshold=-Inf) %>% \n",
    "tibble::rownames_to_column(\"gene\") %>%  \n",
    "mutate(significant=ifelse(p_val < 0.01,TRUE,FALSE),\n",
    "                                               regulation_type=ifelse(avg_logFC < 0,\"Down\",\"Up\")) %>%\n",
    "mutate(display_gene=ifelse(significant,paste0(\"*\",gene),gene)) %>% merge( marker_table[,.(Marker,`Acinar -> Progenitor`)], by.x=\"gene\", by.y=\"Marker\",all.x=T)\n",
    "prog_markers_df$gene <- factor(prog_markers_df$gene, marker_genes )\n",
    "\n",
    "p_efsun_markers <- ggplot( prog_markers_df ) + geom_bar(aes(x=gene,y=abs(avg_logFC),fill=regulation_type),\n",
    "                                     stat=\"identity\") + coord_flip() +\n",
    " geom_text(data = prog_markers_df %>% dplyr::filter(significant), aes(x=gene,y=abs(avg_logFC)),label=\"*\", \n",
    "           hjust=0.0, vjust=0.75, size=8) +\n",
    "theme_pubr(base_size=13.33) + theme(legend.position=\"none\") + \n",
    "scale_fill_manual(values=c(\"Down\"=\"blue\",\"Up\"=\"red\")) + xlab(NULL) + ylab(\"|Log-FC|\") + ylim(0,0.75)\n",
    "rm(subset_seurat_obj)"
   ]
  },
  {
   "cell_type": "markdown",
   "metadata": {},
   "source": [
    "### GSE85241"
   ]
  },
  {
   "cell_type": "markdown",
   "metadata": {},
   "source": [
    "#### Computing the edge cell fraction"
   ]
  },
  {
   "cell_type": "code",
   "execution_count": null,
   "metadata": {},
   "outputs": [],
   "source": [
    "out <- process_GSE85241()\n",
    "cel_seq_obj <- out$seurat_obj\n",
    "cel_seq_meta_data_dt <- out$meta_data\n",
    "vano_acinar_cells <- out$acinar_cells\n",
    "rm(out)\n",
    "\n",
    "source(\"../src/process_pdac.R\")\n",
    "acinar_count_mat <- cel_seq_obj[[\"RNA\"]]@counts[,vano_acinar_cells]\n",
    "gene_set <- list(\"edge\"=all_edge_acinar_genes)\n",
    "aucell_info <- compute_gene_set_AUCell_scores( cel_seq_obj[[\"RNA\"]]@counts[,vano_acinar_cells],gene_set,\n",
    "                                             cel_seq_meta_data_dt )\n",
    "vano_aucell_dt <- aucell_info$aucell_dt\n",
    "vano_info_tbl <- compute_edge_frac( vano_aucell_dt )"
   ]
  },
  {
   "cell_type": "markdown",
   "metadata": {},
   "source": [
    "#### Figure 4A : Prepare ADM/dedifferentiation marker plot"
   ]
  },
  {
   "cell_type": "code",
   "execution_count": null,
   "metadata": {},
   "outputs": [],
   "source": [
    "sub_meta_data_dt <- cel_seq_meta_data_dt[cell.name %in% vano_acinar_cells,]#.(cell.name,cluster=cell_type)]\n",
    "sub_meta_data_dt <- merge( sub_meta_data_dt, \n",
    "                          vano_aucell_dt[,.(cell.name,cell_type)], by=\"cell.name\")\n",
    "\n",
    "sub_meta_data <- as.data.frame(sub_meta_data_dt[,list(cell_type)])\n",
    "rownames(sub_meta_data) <- sub_meta_data_dt$cell.name\n",
    "subset_seurat_obj <- subset( cel_seq_obj,\n",
    "                            cells=sub_meta_data_dt$cell.name ) %>% CellCycleScoring(.,\n",
    "                                                                                   s.features=s.genes,\n",
    "                                                                                   g2m.features=g2m.genes)\n",
    "subset_seurat_obj <- AddMetaData( subset_seurat_obj, sub_meta_data ) %>% SetIdent( ., value=\"cell_type\")\n",
    "subset_seurat_obj <- subset( subset_seurat_obj, features=marker_genes)\n",
    "\n",
    "prog_markers_df <- FindMarkers( subset_seurat_obj, ident.1=\"edge\", min.pct = 0, logfc.threshold=-Inf) %>% \n",
    "tibble::rownames_to_column(\"gene\") %>%  \n",
    "mutate(significant=ifelse(p_val < 0.1,TRUE,FALSE),regulation_type=ifelse(avg_logFC < 0,\"Down\",\"Up\")) %>%\n",
    "mutate(display_gene=ifelse(significant,paste0(\"*\",gene),gene)) %>% merge( marker_table[,.(Marker,`Acinar -> Progenitor`)], by.x=\"gene\", by.y=\"Marker\",all.x=T)\n",
    "prog_markers_df$gene <- factor(prog_markers_df$gene, marker_genes )\n",
    "p_vano_markers <- ggplot( prog_markers_df ) + geom_bar(aes(x=gene,y=abs(avg_logFC),fill=regulation_type),\n",
    "                                     stat=\"identity\") + coord_flip() +\n",
    " geom_text(data = prog_markers_df %>% dplyr::filter(significant), aes(x=gene,y=abs(avg_logFC)),label=\"*\", \n",
    "           hjust=0.0, vjust=0.75, size=8) +\n",
    "theme_pubr(base_size=13.33) + theme(legend.position=\"none\") + \n",
    "scale_fill_manual(values=c(\"Down\"=\"blue\",\"Up\"=\"red\")) + xlab(NULL) + ylab(\"|Log-FC|\") + ylim(0,2)"
   ]
  },
  {
   "cell_type": "markdown",
   "metadata": {},
   "source": [
    "### Figure 4F"
   ]
  },
  {
   "cell_type": "code",
   "execution_count": null,
   "metadata": {},
   "outputs": [],
   "source": [
    "gse81547_acinar_obj <- subset( aging_obj, subset=cell_type == \"acinar\") \n",
    "gse81547_acinar_obj <- AddMetaData( gse81547_acinar_obj, \n",
    "                                  efsun_aucell_dt[,.(cell.name,cell_type=paste0(\"GSE81547_\",cell_type),\n",
    "                                                    orig.ident=\"GSE81547\")] %>%\n",
    "                                  tibble::column_to_rownames(\"cell.name\") ) %>% SetIdent(value=\"cell_type\")\n",
    "\n",
    "gse85241_acinar_obj <- subset( cel_seq_obj, cells=vano_acinar_cells)\n",
    "gse85241_acinar_obj <- AddMetaData( gse85241_acinar_obj, \n",
    "                                  vano_aucell_dt[,.(cell.name,cell_type=paste0(\"GSE85241_\",cell_type),\n",
    "                                                   orig.ident=\"GSE85241\")] %>%\n",
    "                                  tibble::column_to_rownames(\"cell.name\") ) %>% SetIdent(value=\"cell_type\")\n",
    "\n",
    "original_acinar_labelled_obj <- AddMetaData( original_acinar_obj, \n",
    "                                  edge_info_all$edge_center_dt[,.(cell.name,cell_type=fifelse(cell_category==\"center\",\"Reference_non_edge\",\"Reference_edge\"))] %>%\n",
    "                                  mutate(orig.ident=\"Reference\") %>% tibble::column_to_rownames(\"cell.name\"))\n",
    "\n",
    "obj_list <- list( gse81547_acinar_obj, gse85241_acinar_obj, original_acinar_labelled_obj )\n",
    "for (i in 1:length(obj_list)) {\n",
    "    obj_list[[i]] <- NormalizeData(obj_list[[i]], verbose = FALSE)\n",
    "    obj_list[[i]] <- FindVariableFeatures(obj_list[[i]], selection.method = \"vst\", \n",
    "        nfeatures = 1000, verbose = FALSE)\n",
    "}\n",
    "\n",
    "anchors <- FindIntegrationAnchors(object.list = obj_list, dims = 1:30, anchor.features=1000)\n",
    "integrated_acinar_obj <- IntegrateData(anchorset = anchors, dims = 1:30)\n",
    "integrated_acinar_obj <- ScaleData( integrated_acinar_obj ) %>% RunPCA( .,npcs=30, verbose=F ) %>% \n",
    "RunUMAP(.,verbose=F,dims=1:30)\n",
    "\n",
    "integrated_acinar_obj <- AddMetaData( integrated_acinar_obj,\n",
    "                                    tibble::rownames_to_column(integrated_acinar_obj@meta.data,\"cell.name\") %>%\n",
    "                                    mutate(merged_cell_type=ifelse(grepl(\"non_edge\",cell_type),\"merged_non_edge\",\"merged_edge\")) %>%\n",
    "                                    tibble::column_to_rownames(\"cell.name\"))\n",
    "\n",
    "p_edge_merged_umap <- DimPlot( integrated_acinar_obj, group.by=\"orig.ident\", \n",
    "        split.by=\"merged_cell_type\",pt.size=1.5 ) + theme_pubr(base_size=13.33) + theme(legend.position=\"right\")\n",
    "rm(obj_list)\n",
    "\n",
    "p_edge_merged_umap <- DimPlot( integrated_acinar_obj, group.by=\"orig.ident\", \n",
    "        split.by=\"merged_cell_type\",pt.size=1.5 ) + theme_pubr(base_size=13.33) + theme(legend.position=\"right\")\n"
   ]
  },
  {
   "cell_type": "markdown",
   "metadata": {},
   "source": [
    "### Figure 4G"
   ]
  },
  {
   "cell_type": "code",
   "execution_count": null,
   "metadata": {},
   "outputs": [],
   "source": [
    "gse85241_acinar_obj <- NormalizeData( gse85241_acinar_obj ) %>% FindVariableFeatures(nfeatures=1000) %>% ScaleData(verbose=F) %>%\n",
    "RunPCA(.,npcs=50,verbose=F)\n",
    "pca_dist_info <- self_pca_distances( Cells(gse85241_acinar_obj), Embeddings(gse85241_acinar_obj,\"pca\") )\n",
    "vano_pca_dist_df <- tibble::enframe( pca_dist_info$dist_from_medoid, name=\"cell.name\", value=\"distance\" ) %>%\n",
    "merge(.,vano_aucell_dt[,.(cell.name,cell_type,display_cell_type=paste0(\"GSE85241\\n\",cell_type))])\n",
    "\n",
    "gse81547_acinar_obj <- NormalizeData( gse81547_acinar_obj ) %>% FindVariableFeatures(nfeatures=1000) %>% ScaleData(verbose=F) %>%\n",
    "RunPCA(.,npcs=50,verbose=F)\n",
    "pca_dist_info <- self_pca_distances( Cells(gse81547_acinar_obj), Embeddings(gse81547_acinar_obj,\"pca\") )\n",
    "efsun_pca_dist_df <- tibble::enframe( pca_dist_info$dist_from_medoid, name=\"cell.name\", value=\"distance\" ) %>%\n",
    "merge(.,efsun_aucell_dt[,.(cell.name,cell_type,display_cell_type=paste0(\"GSE81547\\n\",cell_type))])\n",
    "\n",
    "pca_dist_df <- rbind(vano_pca_dist_df,efsun_pca_dist_dfdist_df)\n",
    "\n",
    "p_merged_edge_pca <- ggplot(pca_dist_df, aes(x=display_cell_type,y=distance) ) + geom_boxplot(aes(color=cell_type)) +\n",
    "stat_compare_means(comparisons=list(c(\"GSE81547\\nedge\",\"GSE81547\\nnon_edge\"),\n",
    "                                   c(\"GSE85241\\nedge\",\"GSE85241\\nnon_edge\"))) + theme_pubr(base_size=13.33) +\n",
    "theme(legend.position=\"none\")  + xlab(NULL) + ylab(\"Distance from medoid\")"
   ]
  },
  {
   "cell_type": "markdown",
   "metadata": {},
   "source": [
    "### Figure 4B"
   ]
  },
  {
   "cell_type": "code",
   "execution_count": null,
   "metadata": {},
   "outputs": [],
   "source": [
    "combined_info_tbl <- rbind( efsun_info_tbl %>% mutate(data=\"GSE81547\"), vano_info_tbl %>% mutate(data=\"GSE85241\") )\n",
    "edge_age_plot <- ggplot( combined_info_tbl,aes(x=age,y=frac_edge,color=data) ) + geom_point() + \n",
    "theme_pubr(base_size=13.33) +\n",
    "theme(panel.grid.major=element_line(color=\"gray\",linetype=\"dotted\")) + \n",
    "xlab(\"Age\") + ylab(\"Fraction of edge cells\") + theme(legend.direction=\"vertical\",\n",
    "                                legend.position=c(0,1),legend.justification=c(0,1)) + labs(color=NULL)\n",
    "cor_info <- cor.test(combined_info_tbl$frac_edge,combined_info_tbl$age)\n",
    "cor_text <- paste0(\"R = \",round(cor_info$estimate,2),\"\\np = \",round(cor_info$p.value,2))\n",
    "edge_age_plot <- edge_age_plot + annotation_custom( grobTree(textGrob(cor_text, x=0.4,  y=0.9, hjust=0,\n",
    "   gp=gpar(col=\"black\", fontsize=10, fontface=\"italic\"))) )"
   ]
  },
  {
   "cell_type": "markdown",
   "metadata": {},
   "source": [
    "## Checking distribution of mutations between edge and non-edge cells"
   ]
  },
  {
   "cell_type": "code",
   "execution_count": null,
   "metadata": {},
   "outputs": [],
   "source": [
    "gse81547_mutations_per_cell_df <- load_GSE81547_mutations(efsun_aucell_dt)\n",
    "detach(\"package:monocle3\")\n",
    "gse85241_mutations_per_cell_df <- process_GSE85241_mutations(vano_aucell_dt)\n",
    "library(monocle3)"
   ]
  },
  {
   "cell_type": "code",
   "execution_count": null,
   "metadata": {},
   "outputs": [],
   "source": [
    "#GSE85241\n",
    "gse85241_box_plot <- ggplot( gse85241_mutations_per_cell_df %>% dplyr::group_by(cell.name,.keep=cell_type) %>% dplyr::count(name=\"n_total\")) + \n",
    "geom_boxplot(aes(x=.keep,y=n_total)) + theme_pubr(base_size=10) +\n",
    "stat_compare_means(aes(x=.keep,y=n_total),label=\"..p.signif..\",size=4,label.x=1.5) + ylab(\"# mutations\") + \n",
    "scale_x_discrete(labels=c(\"non_edge\"=\"Non-Edge\",\"edge\"=\"Edge\")) + xlab(NULL)\n",
    "\n",
    "p_values <- c()\n",
    "for (sub_samp in 1:100) {\n",
    "    cells_to_retain <- subsample_edge_non_edge_cells( vano_aucell_dt )\n",
    "    set.seed(sub_samp)\n",
    "    cell_type_wise_num_mutations_dt <- vano_aucell_dt[cell.name %in% cells_to_retain,.N,by=list(age,cell_type)] %>% setnames(.,\"N\",\"n_total\")\n",
    "\n",
    "    mut_freq_dt <- gse85241_mutations_per_cell_df %>% \n",
    "    dplyr::group_by(age,mutation,cell_type,.drop=F) %>% \n",
    "    dplyr::count(name=\"n_mut\") %>% merge(.,cell_type_wise_num_mutations_dt,by=c(\"age\",\"cell_type\")) %>%\n",
    "    mutate(mut_freq=n_mut/n_total) %>% data.table\n",
    "    \n",
    "    p_values <- c(p_values,wilcox.test(mut_freq_dt[cell_type == \"non_edge\",mut_freq],\n",
    "        mut_freq_dt[cell_type == \"edge\",mut_freq],alternative=\"l\" )$p.value)\n",
    "}\n",
    "\n",
    "cell_type_wise_num_mutations_dt <- vano_aucell_dt[,.N,by=list(age,cell_type)] %>% setnames(.,\"N\",\"n_total\")\n",
    "mut_freq_dt <- gse85241_mutations_per_cell_df %>% \n",
    "dplyr::group_by(age,mutation,cell_type,.drop=F) %>% \n",
    "dplyr::count(name=\"n_mut\") %>% merge(.,cell_type_wise_num_mutations_dt,by=c(\"age\",\"cell_type\")) %>%\n",
    "mutate(mut_freq=n_mut/n_total,cell_type=paste(\"GSE85241\",cell_type)) %>%\n",
    "arrange(-mut_freq) %>% data.table# merge(edge_info_dt[cell_type ==\"edge\",!c(\"cell_type\")],by=\"age\") %>% \n",
    "\n",
    "options(repr.plot.height=4,repr.plot.width=6)\n",
    "gse85241_hist_plot <- ggplot( mut_freq_dt, aes(x=mut_freq)) + \n",
    "geom_histogram(aes(y=..count../sum(..count..)),bins=20) + facet_wrap(~cell_type) +\n",
    "ylab(\"Frequency\") + theme_pubr(base_size=13.33) + xlab(\"Fraction of cells with somatic mutation\")"
   ]
  },
  {
   "cell_type": "code",
   "execution_count": null,
   "metadata": {},
   "outputs": [],
   "source": [
    "mut_freq_dt %>% group_by(cell_type) %>% summarize(m=mean(mut_freq))"
   ]
  },
  {
   "cell_type": "code",
   "execution_count": null,
   "metadata": {},
   "outputs": [],
   "source": [
    "#GSE81547\n",
    "combined_df <- gse85241_mutations_per_cell_df %>% \n",
    "dplyr::group_by(cell.name,.keep=cell_type) %>% dplyr::count(name=\"n_total\") %>%\n",
    "mutate(cell_type=paste(\"GSE85241\\n\",.keep)) %>%\n",
    "rbind(.,gse81547_mutations_per_cell_df %>% dplyr::rename(cell.name=cellIDxmutID) %>%\n",
    "       dplyr::group_by(cell.name,.keep=cell_type) %>% \n",
    "       dplyr::count(name=\"n_total\") %>% mutate(cell_type=paste(\"GSE81547\\n\",.keep)))\n",
    "\n",
    "combined_box_plot <- ggplot(combined_df,aes(x=cell_type,y=n_total)) + \n",
    "geom_boxplot(aes(color=.keep)) + theme_pubr(base_size=13.33) +\n",
    "stat_compare_means(comparisons=list(c(\"GSE81547\\n edge\",\"GSE81547\\n non_edge\"),\n",
    "                                    c(\"GSE85241\\n edge\",\"GSE85241\\n non_edge\")),\n",
    "                                    label=\"p.signif\",size=4,label.x=1.5) + ylab(\"# mutations\") + \n",
    "# scale_x_discrete(labels=c(\"GSE81547\\n non_edge\"=\"GSE81547\",\"GSE81547\\n edge\"=\"GSE81547\",\n",
    "#                          \"GSE85241\\n non_edge\"=\"GSE85241\",\"GSE85241\\n edge\"=\"GSE85241\")) + \n",
    "xlab(NULL) + theme(legend.position=\"none\")\n",
    "cell_type_wise_num_mutations_dt <- efsun_aucell_dt[,.N,by=list(age,cell_type)] %>% setnames(.,\"N\",\"n_total\")\n",
    "\n",
    "p_values <- c()\n",
    "for (sub_samp in 1:100) {\n",
    "    cells_to_retain <- subsample_edge_non_edge_cells( efsun_aucell_dt )\n",
    "    set.seed(sub_samp)\n",
    "    cell_type_wise_num_mutations_dt <- efsun_aucell_dt[cell.name %in% cells_to_retain,.N,by=list(age,cell_type)] %>% setnames(.,\"N\",\"n_total\")\n",
    "\n",
    "     mut_freq_dt <- gse81547_mutations_per_cell_df %>% dplyr::group_by(age,name,cell_type,.drop=F) %>% \n",
    "    dplyr::count(name=\"n_mut\") %>% merge(.,cell_type_wise_num_mutations_dt,\n",
    "                                         by=c(\"age\",\"cell_type\")) %>%\n",
    "    mutate(mut_freq=n_mut/n_total) %>% arrange(-mut_freq) %>% data.table\n",
    "\n",
    "    p_values <- c(p_values,wilcox.test(mut_freq_dt[cell_type == \"non_edge\",mut_freq],\n",
    "        mut_freq_dt[cell_type == \"edge\",mut_freq],alternative=\"l\" )$p.value)\n",
    "}\n",
    "\n",
    "\n",
    "mut_freq_dt <- gse81547_mutations_per_cell_df %>% dplyr::group_by(age,name,cell_type,.drop=F) %>% \n",
    "dplyr::count(name=\"n_mut\") %>% merge(.,cell_type_wise_num_mutations_dt,\n",
    "                                     by=c(\"age\",\"cell_type\")) %>% dplyr::filter(n_total >= 10) %>%\n",
    "mutate(mut_freq=n_mut/n_total,cell_type=paste(\"GSE81547\",cell_type)) %>% arrange(-mut_freq) %>% data.table \n",
    "\n",
    "gse81547_hist_plot <- ggplot( mut_freq_dt, aes(x=mut_freq)) + \n",
    "geom_histogram(aes(y=..count../sum(..count..)),bins=20) + facet_wrap(~cell_type) +\n",
    "ylab(\"Frequency\") + theme_pubr(base_size=13.33) + xlab(\"Fraction of cells with somatic mutation\")"
   ]
  },
  {
   "cell_type": "code",
   "execution_count": null,
   "metadata": {},
   "outputs": [],
   "source": [
    "mut_freq_dt %>% group_by(cell_type) %>% summarize(m=mean(mut_freq))"
   ]
  },
  {
   "cell_type": "markdown",
   "metadata": {},
   "source": [
    "### Check classification of mutations in COSMIC Cancer Gene Census"
   ]
  },
  {
   "cell_type": "code",
   "execution_count": null,
   "metadata": {},
   "outputs": [],
   "source": [
    "results_list <- list()\n",
    "accession_ids <- c(\"GSE81547\",\"GSE85241\")\n",
    "cosmic_dt <- fread(file.path(base_path,\"CosmicCodingMuts.hg19_ucsc.v92.vcf.gz\"))\n",
    "cosmic_census_dt <- fread(file.path(base_path,\"cmc_export.v92.tsv.gz\"))\n",
    "source(\"../src/process_pdac.R\")\n",
    "idx <- 1\n",
    "for (df in list(gse81547_mutations_per_cell_df,gse85241_mutations_per_cell_df)) {\n",
    "    print(accession_ids[idx])\n",
    "    if (\"name\" %in% colnames(df)) {\n",
    "        mutations <- df$name %>% unique\n",
    "    } else {\n",
    "        mutations <- df$mutation %>% unique\n",
    "    }\n",
    "    results_list[[accession_ids[idx]]] <- search_cosmic_database( cosmic_dt, cosmic_census_dt, mutations )\n",
    "    idx <- idx + 1\n",
    "}"
   ]
  },
  {
   "cell_type": "markdown",
   "metadata": {},
   "source": [
    "### Create Figure 4"
   ]
  },
  {
   "cell_type": "code",
   "execution_count": null,
   "metadata": {},
   "outputs": [],
   "source": [
    "options(repr.plot.width=10,repr.plot.height=6.5)\n",
    "Fig4_complete <- grid.arrange( arrangeGrob(grobs=\n",
    "                          list(p_efsun_markers + theme(axis.text.x=element_text(angle=90,hjust=1,vjust=0.5)\n",
    "                                                                    ) + ggtitle(\"GSE81457\"), \n",
    "                                     p_vano_markers + theme(axis.text.x=element_text(angle=90,hjust=1,vjust=0.5),\n",
    "                                                           axis.text.y=element_blank()) + ggtitle(\"GSE85241\"),\n",
    "          edge_age_plot,combined_box_plot,\n",
    "                                     gse81547_hist_plot + theme(axis.text.x=element_text(angle=90,hjust=1,vjust=0.5)),\n",
    "          gse85241_hist_plot + theme(axis.text.x=element_text(angle=90,hjust=1,vjust=0.5)),\n",
    "                                           p_edge_merged_umap + theme(legend.position=\"none\"),\n",
    "                                           p_merged_edge_pca),\n",
    "                         nrow=3,ncol=4,\n",
    "                           widths=c(0.75,0.5,1,1),\n",
    "                           layout_matrix = rbind(c(1, 2, 3, 4),\n",
    "                                                 c(1, 2, 5, 6),\n",
    "                                          c(7,7,7,8)) ))\n",
    "ggsave(\"Fig4_complete_new.svg\",Fig4_complete,width=12,height=7.5)"
   ]
  },
  {
   "cell_type": "markdown",
   "metadata": {},
   "source": [
    "## Lung data"
   ]
  },
  {
   "cell_type": "code",
   "execution_count": null,
   "metadata": {},
   "outputs": [],
   "source": [
    "source(\"../src/process_pdac.R\")\n",
    "lung_data <- load_lung_data()\n",
    "for (normal_cell_type in c(\"Ciliated\",\"Club\",\"AT1\",\"AT2\")) {\n",
    "    lung_edge_info <- run_edge_pipeline(lung_data$seurat_obj,normal_cell_types=normal_cell_type,\n",
    "                  malignant_cell_types=\"tS2\",pipeline_variant = \"feature-selection\",ident_to_use=\"cluster\",\n",
    "                                   sample_info_column=\"Sample\", num_pcs=5)\n",
    "}\n",
    "\n",
    "lung_edge_info_list <- run_pc_wise_edge_analysis( lung_data$seurat_obj, normal_cell_types=c(\"Ciliated\",\"Club\",\"AT1\",\"AT2\"),\n",
    "                                                 malignant_cell_type=\"tS2\",ident_to_use=\"cluster\",\n",
    "                                                 sample_info_column=\"Sample\")\n",
    "mascaux_gene_sets <- c(\"MYC_TARGETS_V2\",\"MYC_TARGETS_V1\",\"MTORC1_SIGNALING\",\"PI3K_AKT_MTOR_SIGNALING\",\n",
    "                      \"E2F_TARGETS\",\"MITOTIC_SPINDLE\",\"INTERFERON_GAMMA_RESPONSE\",\"ALLOGRAFT_REJECTION\",\n",
    "                      \"G2M_CHECKPOINT\",\"IL6_JAK_STAT3_SIGNALING\",\"TNFA_SIGNALING_VIA_NFKB\",\"INFLAMMATORY_RESPONSE\",\n",
    "                      \"IL2_STAT5_SIGNALING\",\"ADIPOGENESIS\",\"EPITHELIAL_MESENCHYMAL_TRANSITION\",\"UV_RESPONSE_UP\",\"UV_RESPONSE_DN\",\n",
    "                      \"OXIDATIVE_PHOSPHORYLATION\",\"FATTY_ACID_METABOLISM\",\"HYPOXIA\")\n"
   ]
  },
  {
   "cell_type": "markdown",
   "metadata": {},
   "source": [
    "## Liver data"
   ]
  },
  {
   "cell_type": "code",
   "execution_count": null,
   "metadata": {},
   "outputs": [],
   "source": [
    "liver_data <- load_liver_data()\n",
    "for (normal_cell_type in paste0(\"Hep\",1:6)) {\n",
    "    liver_edge_info <- run_edge_pipeline(liver_data$seurat_obj,normal_cell_types=normal_cell_type,\n",
    "                   malignant_cell_types=\"Malignant cell\",pipeline_variant = \"feature-selection\",\n",
    "                                      num_pcs=5, ident_to_use=\"Type\",edge_cell_fraction=0.1,\n",
    "                                    sample_info_column=\"Sample\")\n",
    "}\n",
    "liver_edge_info_list <- run_pc_wise_edge_analysis( liver_data$seurat_obj, normal_cell_types=paste0(\"Hep\",1:6),\n",
    "                                                 malignant_cell_type=\"Malignant cell\",ident_to_use=\"Type\",\n",
    "                                                 sample_info_column=\"Sample\")"
   ]
  },
  {
   "cell_type": "markdown",
   "metadata": {},
   "source": [
    "p-values of enrichment of Mascaux et. al gene sets amongst each of the edge-like populations"
   ]
  },
  {
   "cell_type": "markdown",
   "metadata": {},
   "source": [
    "## Breast"
   ]
  },
  {
   "cell_type": "markdown",
   "metadata": {},
   "source": [
    "### Mouse"
   ]
  },
  {
   "cell_type": "code",
   "execution_count": null,
   "metadata": {},
   "outputs": [],
   "source": [
    "mouse_obj <- readRDS(file.path(base_path,\"BRCA1_SCE.rds\"))"
   ]
  },
  {
   "cell_type": "code",
   "execution_count": null,
   "metadata": {},
   "outputs": [],
   "source": [
    "tumor_df <- temp_df %>% mutate(idx=1:nrow(temp_df)) %>% dplyr::filter(Groups %in% c(\"Luminal\",\"TumorEpithel\") &\n",
    "                                                                   Experiment == \"Tumorigenesis\")\n",
    "count_mat <- counts(mouse_obj)[,tumor_df$idx]\n",
    "colnames(count_mat) <- tumor_df$barcode"
   ]
  },
  {
   "cell_type": "code",
   "execution_count": null,
   "metadata": {},
   "outputs": [],
   "source": [
    "mouse_seurat_obj <- CreateSeuratObject( count_mat,\n",
    "                                       meta.data=temp_df %>% tibble::column_to_rownames(\"barcode\") %>% \n",
    "                                       dplyr::filter(Groups %in% c(\"Luminal\",\"TumorEpithel\") &\n",
    "                                                                   Experiment == \"Tumorigenesis\") )"
   ]
  },
  {
   "cell_type": "code",
   "execution_count": null,
   "metadata": {},
   "outputs": [],
   "source": [
    "tumor_df$Groups %>% unique"
   ]
  },
  {
   "cell_type": "code",
   "execution_count": null,
   "metadata": {},
   "outputs": [],
   "source": [
    "source(\"../src/process_pdac.R\")\n",
    "mouse_seurat_obj <- NormalizeData(mouse_seurat_obj)\n",
    "mouse_luminal_info <- run_edge_pipeline( mouse_seurat_obj, malignant_cell_types = c(\"Tm\"),\n",
    "                              normal_cell_types=c(\"Hsp\",\"Hs\",\"LpBsl\",\"Avd\",\"Lp\"), num_pcs=5, num_control_shuffles=100,\n",
    "                                                            pipeline_variant=\"classic\",\n",
    "                              perform_control=T, no_tumour_adjacent=F, sample_info_column=\"SampleID\",\n",
    "                                               ident_to_use=\"CellTypesFinal\")\n"
   ]
  },
  {
   "cell_type": "code",
   "execution_count": null,
   "metadata": {},
   "outputs": [],
   "source": [
    "options(repr.plot.width=12)\n",
    "plot_skewness(mouse_luminal_info$control_dist_dt,plot_facets = T)$plot_obj\n",
    "plot_edge_distance_ratio(mouse_luminal_info$edge_malignant_dist_dt,plot_facets = T)$plot_obj\n",
    "options(repr.plot.width=7)"
   ]
  },
  {
   "cell_type": "code",
   "execution_count": null,
   "metadata": {},
   "outputs": [],
   "source": [
    "plot_df <- merge(mouse_luminal_info$edge_center_dt, tumor_df,by.x=\"cell.name\",by.y=\"barcode\")"
   ]
  },
  {
   "cell_type": "code",
   "execution_count": null,
   "metadata": {},
   "outputs": [],
   "source": [
    "colnames(plot_df)"
   ]
  },
  {
   "cell_type": "code",
   "execution_count": null,
   "metadata": {},
   "outputs": [],
   "source": [
    "ggplot( plot_df %>% dplyr::filter(CellTypesFinal == \"Hsp\")) + \n",
    "geom_boxplot(aes(x=Condition,y=dist_from_malignant_medoid)) + theme_pubr(base_size=15)"
   ]
  },
  {
   "cell_type": "code",
   "execution_count": null,
   "metadata": {},
   "outputs": [],
   "source": [
    "ggplot( mouse_luminal_info$edge_center_dt ) + geom_point(aes(x=dist_from_normal_medoid,\n",
    "                                                            y=dist_from_malignant_medoid,\n",
    "                                                            color=cell_category)) + theme_pubr(base_size=15)"
   ]
  },
  {
   "cell_type": "code",
   "execution_count": null,
   "metadata": {},
   "outputs": [],
   "source": [
    "ggplot( temp_df ) + geom_point(aes(x=UMAP1,y=UMAP2,color=Groups))"
   ]
  },
  {
   "cell_type": "markdown",
   "metadata": {},
   "source": [
    "### Human"
   ]
  },
  {
   "cell_type": "code",
   "execution_count": null,
   "metadata": {},
   "outputs": [],
   "source": [
    "source(\"../src/process_pdac.R\")\n",
    "bc_obj <- load_breast_cancer_data()# %>% subset(.,subset = CellType == \"Cancer\") #%>% subset(.,subset=nFeature_RNA >= 1500)\n",
    "# normal_breast_obj <- load_normal_breast_data()\n",
    "\n",
    "bc_tumor_counts_df <- c(\"BC_1\"=3921,\"BC_2\"=4876,\"BC_3\"=4251,\"BC_4\"=3558,\n",
    "                   \"BC_5\"=4472,\"BC_6\"=201,\"BC_7\"=1719,\"BC_8\"=2427,\n",
    "                   \"BC_9\"=4616,\"BC_10\"=902,\"BC_11\"=4862,\"BC_12_1\"=362,\n",
    "                   \"BC_12_2\"=64,\"BC_12_3\"=1372,\"BC_13\"=3641,\"BC_14\"=4216,\n",
    "                   \"BC_15_1\"=4143,\"BC_15_2\"=347,\"BC_16\"=269) %>% \n",
    "tibble::enframe(.,name=\"Tumor_Label\",value=\"n\")\n",
    "\n",
    "bc_tumor_types_df <- c(\"BC_1\"=\"HER2+\",\"BC_2\"=\"TN\",\"BC_3\"=\"TN\",\"BC_4\"=\"TN\",\n",
    "                   \"BC_5\"=\"TN\",\"BC_6\"=\"HER2+\",\"BC_7\"=\"TN\",\"BC_8\"=\"HER2+\",\n",
    "                   \"BC_9\"=\"Luminal-HER2+\",\"BC_10\"=\"TN\",\"BC_11\"=\"TN\",\"BC_12_1\"=\"TN\",\n",
    "                   \"BC_12_2\"=\"TN\",\"BC_12_3\"=\"TN\",\"BC_13\"=\"Luminal-B-like\",\"BC_14\"=\"Luminal-A-like\",\n",
    "                   \"BC_15_1\"=\"TN\",\"BC_15_2\"=\"TN\",\"BC_16\"=\"Luminal-B-like\") %>%\n",
    "tibble::enframe(.,name=\"Tumor_Label\",value=\"Cancer_Type\")\n",
    "cancer_types <- unique(bc_tumor_types_df$Cancer_Type)\n",
    "\n",
    "seurat_tumor_counts_df <- bc_obj@meta.data %>% group_by(PatientNumber) %>% dplyr::count() %>%\n",
    "merge(.,bc_tumor_counts_df,by=\"n\") %>% merge(.,bc_tumor_types_df,by=\"Tumor_Label\") %>% dplyr::select(-n)\n",
    "\n",
    "meta_data_df <- merge( tibble::rownames_to_column(bc_obj@meta.data,\"cell.name\"), \n",
    "      seurat_tumor_counts_df, by=\"PatientNumber\" ) %>%\n",
    "mutate(CellType=ifelse(CellType == \"Cancer\",Cancer_Type,CellType)) %>%\n",
    "tibble::column_to_rownames(\"cell.name\")\n",
    "bc_obj <- AddMetaData( bc_obj, meta_data_df )\n",
    "\n",
    "bc_obj <- subset(bc_obj,subset=CellType %in% unique(bc_tumor_types_df$Cancer_Type) &\n",
    "                nFeature_RNA >= 1000)"
   ]
  },
  {
   "cell_type": "code",
   "execution_count": null,
   "metadata": {},
   "outputs": [],
   "source": [
    "source(\"../src/process_pdac.R\")\n",
    "normal_breast_fl_obj <- load_normal_breast_fluidigm_data() %>% subset(.,subset=nFeature_RNA >= 900)\n",
    "normal_breast_10x_obj <- load_normal_breast_10X_data() %>% subset(cluster %in% c(\"Basal\",\"Luminal1.1\",\"Luminal1.2\",\n",
    "                                                             \"Luminal2\",\"Myoepithelial\")) %>% subset(.,subset=nFeature_RNA >= 1000)\n",
    "\n",
    "normal_breast_10x_obj$CellType <- normal_breast_10x_obj$cluster\n",
    "normal_breast_10x_obj$PatientNumber <- normal_breast_10x_obj$orig.ident\n",
    "merged_obj <- merge(bc_obj,normal_breast_10x_obj)"
   ]
  },
  {
   "cell_type": "code",
   "execution_count": null,
   "metadata": {},
   "outputs": [],
   "source": [
    "source(\"../src/process_pdac.R\")\n",
    "feature_counts_to_subsample <- merged_obj@meta.data %>% dplyr::filter(!CellType %in% cancer_types) %>% \n",
    "dplyr::select(nCount_RNA) %>% tibble::rownames_to_column(\"cell.name\") %>% tibble::deframe(.)\n",
    "feature_counts_reference <- merged_obj@meta.data %>% dplyr::filter(CellType %in% cancer_types) %>% \n",
    "dplyr::select(nCount_RNA) %>% tibble::rownames_to_column(\"cell.name\") %>% tibble::deframe(.)\n",
    "set.seed(1)\n",
    "subsampled_obj <- create_fast_resampled_seurat_obj(merged_obj[[\"RNA\"]]@counts,\n",
    "                                                  feature_counts_to_subsample,\n",
    "                                                  feature_counts_reference,\n",
    "                                                  feature_to_subsample=\"reads\" )\n",
    "merge(tibble::rownames_to_column(subsampled_obj@meta.data,\"cell.name\"),\n",
    "tibble::rownames_to_column(merged_obj@meta.data,\"cell.name\") %>% \n",
    "      dplyr::select(-c(nCount_RNA,nFeature_RNA,orig.ident)),\n",
    "by=\"cell.name\") %>% tibble::column_to_rownames(\"cell.name\") -> meta_data_df\n",
    "subsampled_obj <- AddMetaData(subsampled_obj,meta_data_df)"
   ]
  },
  {
   "cell_type": "code",
   "execution_count": null,
   "metadata": {},
   "outputs": [],
   "source": [
    "source(\"../src/process_pdac.R\")\n",
    "malignant_cell_types <- cancer_types\n",
    "normal_cell_types <- setdiff( unique(normal_breast_10x_obj$CellType), malignant_cell_types)\n",
    "breast_edge_info_list <- list()\n",
    "for (malignant_cell_type in malignant_cell_types) {\n",
    "    for (cell_type in normal_cell_types){\n",
    "        breast_edge_info_list[[paste(cell_type,malignant_cell_type,sep=\"_\")]] <- run_edge_pipeline( subsampled_obj %>%\n",
    "                                                            subset(.,subset = CellType %in% c(cell_type,malignant_cell_types)), malignant_cell_types=malignant_cell_types, \n",
    "                              normal_cell_types=c(cell_type), num_pcs=5, num_control_shuffles=100,\n",
    "                                                            pipeline_variant=\"feature-selection\",\n",
    "                              perform_control=T, no_tumour_adjacent=F, sample_info_column=\"PatientNumber\",\n",
    "                                               ident_to_use=\"CellType\")\n",
    "#     4 + \"\"\n",
    "    }\n",
    "}\n"
   ]
  },
  {
   "cell_type": "code",
   "execution_count": null,
   "metadata": {},
   "outputs": [],
   "source": [
    "breast_edge_info_list[['Myoepithelial_TN']]$pca_cor_df %>% head"
   ]
  },
  {
   "cell_type": "code",
   "execution_count": null,
   "metadata": {},
   "outputs": [],
   "source": [
    "names(breast_edge_info_list)"
   ]
  },
  {
   "cell_type": "code",
   "execution_count": null,
   "metadata": {},
   "outputs": [],
   "source": [
    "temp <- readRDS(\"sample_aware_Luminal2_Luminal-B-like_RNA_analysis.rds\")"
   ]
  },
  {
   "cell_type": "code",
   "execution_count": null,
   "metadata": {},
   "outputs": [],
   "source": [
    "temp"
   ]
  },
  {
   "cell_type": "code",
   "execution_count": null,
   "metadata": {},
   "outputs": [],
   "source": [
    "normal_breast_10x_obj <- SetIdent(normal_breast_10x_obj,value=\"cluster\")"
   ]
  },
  {
   "cell_type": "markdown",
   "metadata": {},
   "source": [
    "## Colon"
   ]
  },
  {
   "cell_type": "markdown",
   "metadata": {},
   "source": [
    "### Load normal colon data"
   ]
  },
  {
   "cell_type": "code",
   "execution_count": null,
   "metadata": {},
   "outputs": [],
   "source": [
    "source(\"../src/process_pdac.R\")\n",
    "colon_obj <- load_colon_data()#readRDS(file.path(base_path,\"Colon_Seurat_Object.rds\"))\n",
    "colon_obj <- subset(colon_obj,subset=nFeature_RNA >= 1000)"
   ]
  },
  {
   "cell_type": "markdown",
   "metadata": {},
   "source": [
    "### Load colon cancer data"
   ]
  },
  {
   "cell_type": "code",
   "execution_count": null,
   "metadata": {},
   "outputs": [],
   "source": [
    "crc_obj <- load_generic_cancer_data(cancer_type = \"CRC\") %>% subset(.,subset=nFeature_RNA>=1000 & CellType == \"Cancer\" )\n",
    "colon_obj$CellType <- colon_obj$Cluster\n",
    "merged_obj <- merge(colon_obj,crc_obj)\n",
    "genes_to_keep <- names(which(rowMeans(merged_obj[[\"RNA\"]]@counts) >= 0.01))\n",
    "merged_obj <- subset(merged_obj,features=genes_to_keep)"
   ]
  },
  {
   "cell_type": "markdown",
   "metadata": {},
   "source": [
    "### Sub-sample normal colon data to match library size of colon cancer data"
   ]
  },
  {
   "cell_type": "code",
   "execution_count": null,
   "metadata": {},
   "outputs": [],
   "source": [
    "source(\"../src/process_pdac.R\")\n",
    "feature_counts_to_subsample <- merged_obj@meta.data %>% dplyr::filter(CellType != \"Cancer\") %>% \n",
    "dplyr::select(nCount_RNA) %>% tibble::rownames_to_column(\"cell.name\") %>% tibble::deframe(.)\n",
    "feature_counts_reference <- merged_obj@meta.data %>% dplyr::filter(CellType == \"Cancer\") %>% \n",
    "dplyr::select(nCount_RNA) %>% tibble::rownames_to_column(\"cell.name\") %>% tibble::deframe(.)\n",
    "set.seed(1)\n",
    "subsampled_obj <- create_fast_resampled_seurat_obj(merged_obj[[\"RNA\"]]@counts,\n",
    "                                                  feature_counts_to_subsample,\n",
    "                                                  feature_counts_reference,\n",
    "                                                  feature_to_subsample=\"reads\" )\n",
    "merge(tibble::rownames_to_column(subsampled_obj@meta.data,\"cell.name\"),\n",
    "tibble::rownames_to_column(merged_obj@meta.data,\"cell.name\") %>% \n",
    "      dplyr::select(-c(nCount_RNA,nFeature_RNA,orig.ident)),\n",
    "by=\"cell.name\") %>% tibble::column_to_rownames(\"cell.name\") -> meta_data_df\n",
    "subsampled_obj <- AddMetaData(subsampled_obj,meta_data_df)"
   ]
  },
  {
   "cell_type": "code",
   "execution_count": null,
   "metadata": {},
   "outputs": [],
   "source": [
    "source(\"../src/process_pdac.R\")\n",
    "malignant_cell_types <- c(\"Cancer\")\n",
    "normal_cell_types <- setdiff( unique(subsampled_obj$CellType), malignant_cell_types)\n",
    "colon_edge_info_list <- list()\n",
    "for (cell_type in normal_cell_types){\n",
    "    colon_edge_info_list[[cell_type]] <- run_edge_pipeline( subsampled_obj,\n",
    "                                                           malignant_cell_type=\"Cancer\",\n",
    "                                              normal_cell_types=cell_type, \n",
    "                                                           num_pcs=5, num_control_shuffles=100,\n",
    "                                                            pipeline_variant=\"feature-selection\",\n",
    "                              perform_control=T, no_tumour_adjacent=F, sample_info_column=\"Subject\",\n",
    "                                               ident_to_use=\"CellType\")\n",
    "}\n",
    "edge_cell_types <- names(colon_edge_info_list)\n",
    "colon_edge_info_list <-  run_pc_wise_edge_analysis( subsampled_obj, \n",
    "                                                   normal_cell_types=edge_cell_types,\n",
    "                                                 malignant_cell_type=\"Cancer\",ident_to_use=\"CellType\",\n",
    "                                                 sample_info_column=\"Subject\")"
   ]
  },
  {
   "cell_type": "markdown",
   "metadata": {},
   "source": [
    "## Figure 5A display"
   ]
  },
  {
   "cell_type": "code",
   "execution_count": null,
   "metadata": {},
   "outputs": [],
   "source": [
    "lung_edge_features <- readRDS(\"sample_aware_AT2_tS2_RNA_analysis.rds\")\n",
    "\n",
    "skewness_dt <- lung_edge_features$skewness_p_value[order(-p_value),] %>% \n",
    "mutate(Var1=gsub(\"normal_\",\"\",Var1) %>% gsub(\"_\",\"\",.)) %>% tail(10)     \n",
    "skewness_dt$Var1 <- factor(skewness_dt$Var1,levels=skewness_dt$Var1)\n",
    "p_skew <- ggplot( skewness_dt[,significant:=fifelse(q_value < 0.1,TRUE,FALSE)] ) + \n",
    "geom_bar(aes(x=Var1,y=value,fill=significant),stat=\"identity\") + coord_flip() +\n",
    "theme_pubr(base_size=10) + xlab(\"Normal PC\") + ylab(\"Skewness\")\n",
    "\n",
    "edge_distance_dt <- lung_edge_features$edge_center_p_value[normal_pc == \"normal_PC_1\",][order(-p_value),] %>% \n",
    "mutate(pc=gsub(\"combined_\",\"\",pc) %>% gsub(\"_\",\"\",.)) %>% tail(10)     \n",
    "edge_distance_dt$pc <- factor(edge_distance_dt$pc,levels=edge_distance_dt$pc)\n",
    "p_ratio <- ggplot( edge_distance_dt[,significant:=fifelse(q_value < 0.1,TRUE,FALSE)] ) + \n",
    "geom_bar(aes(x=pc,y=edge_center_dist_ratio,fill=significant),stat=\"identity\") + coord_flip() +\n",
    "theme_pubr(base_size=10) + xlab(\"Pooled PC\") + ylab(\"Proximity Ratio\\n(Outliers defined using Normal PC5)\")\n",
    "\n",
    "main_pca_cor_df <- get_pca_correlations( lung_edge_info$normal_pca, lung_edge_info$combined_pca ) %>% \n",
    "dplyr::select(Var1,Var2,cor,q_value) %>% dplyr::filter(Var1==\"normal_PC_5\") %>%\n",
    "mutate(Var1=gsub(\"normal_\",\"\",Var1) %>% gsub(\"_\",\"\",.),\n",
    "       Var2=gsub(\"combined_\",\"\",Var2) %>% gsub(\"_\",\"\",.) ) %>%\n",
    "mutate(significant=ifelse(q_value < 0.1,TRUE,FALSE)) %>% dplyr::filter(Var2 %in% paste0(\"PC\",1:10))\n",
    "\n",
    "p_pca_cor <- ggplot( main_pca_cor_df %>% mutate(significant=ifelse(q_value < 0.1,TRUE,FALSE) )) + \n",
    "geom_bar(aes(x=Var2,y=cor,fill=significant),stat=\"identity\") + coord_flip() +\n",
    "theme_pubr(base_size=10) + xlab(\"Normal PC\") + ylab(\"Corr. with Normal PC5\")\n",
    "\n",
    "fig5a <- ggarrange( p_skew + theme(legend.position=\"none\"), \n",
    "          p_ratio + theme(legend.position=\"none\"), \n",
    "          p_pca_cor + theme(legend.position=\"none\"), nrow=3, ncol=1 )\n",
    "ggsave(\"Fig5a.svg\",fig5a,width=3,height=6.5)"
   ]
  },
  {
   "cell_type": "markdown",
   "metadata": {},
   "source": [
    "## Tosti et. al 2020 pancreas data"
   ]
  },
  {
   "cell_type": "markdown",
   "metadata": {},
   "source": [
    "### Spatial transcriptomic data"
   ]
  },
  {
   "cell_type": "code",
   "execution_count": null,
   "metadata": {},
   "outputs": [],
   "source": [
    "spatial_files <- c(\"AFES448-FF2_reads.csv\",\n",
    "                   \"AFHES365-H1_reads.csv\",\n",
    "                   \"AGBR024-B2_reads.csv\",\n",
    "                   \"AGBRO24-H1_reads.csv\",\n",
    "                   \"TUM-CP-2_reads.csv\")\n",
    "lr_markers_df_list <- readRDS(\"all_outlier_markers.rds\")\n",
    "edge_acinar_markers_df <- lr_markers_df_list[[\"Acinar cell\"]] %>% dplyr::filter(p_val_adj < 0.1 & avg_logFC > 0)\n",
    "plot_list <- list()\n",
    "p_value_list <- list()\n",
    "\n",
    "num_subsamples <- 100\n",
    "sample_size <- 5000\n",
    "num_edge_assignments <- 100\n",
    "\n",
    "for (spatial_file in spatial_files) {\n",
    "    reads_dt <- fread(file.path(base_path,spatial_file))\n",
    "\n",
    "    spatial_genes <- unique(reads_dt$gene)\n",
    "    spatial_edge_genes <- c(spatial_genes[spatial_genes %in% edge_acinar_markers_df$gene],\"MUC5B\")\n",
    "\n",
    "\n",
    "    distances_df <- data.frame()\n",
    "    idx <- 1\n",
    "    for (random.seed in 1:num_subsamples) {\n",
    "        print(idx)\n",
    "        flush.console()\n",
    "        set.seed(idx)\n",
    "        for (gene_ in spatial_genes) {\n",
    "            coords_mat <- reads_dt %>% dplyr::filter(gene == gene_) %>% dplyr::select(-gene) %>% as.matrix\n",
    "            if (nrow(coords_mat) > sample_size) {\n",
    "                idxes <- sample(nrow(coords_mat),size=sample_size)\n",
    "            } else {\n",
    "                idxes <- 1:nrow(coords_mat)\n",
    "            }\n",
    "            distances <- as.vector( parDist(coords_mat[idxes,], threads=6 ))\n",
    "            distances_df <- rbind(distances_df,data.frame(gene=gene_,distance=median(distances),\n",
    "                                                         sample_idx=idx))\n",
    "        }\n",
    "        idx <- idx + 1\n",
    "    }\n",
    "    distances_df <- distances_df %>% mutate(gene_type=ifelse(gene %in% spatial_edge_genes,\"Edge\",\"Non-Edge\"))\n",
    "\n",
    "    median_diff_df <- data.frame()\n",
    "    for (edge_assignment in 1:num_edge_assignments) {\n",
    "        random_distances <- distances_df %>% \n",
    "        mutate(gene_type=ifelse(gene %in% sample(spatial_genes,10),\"Edge\",\"Non-Edge\")) %>%\n",
    "        group_by(gene_type) %>% summarize(m=median(distance)) %>% ungroup %>% tibble::deframe(.)\n",
    "        median_diff_df <- rbind(median_diff_df,data.frame(diff=random_distances[\"Edge\"] - random_distances[\"Non-Edge\"],\n",
    "                                                         shuffle_type=\"Control\"))\n",
    "    }\n",
    "    actual_distances <- distances_df %>% group_by(gene_type) %>% summarize(m=median(distance)) %>% ungroup %>% tibble::deframe(.)\n",
    "    actual_diff <- actual_distances[\"Edge\"] - actual_distances[\"Non-Edge\"]\n",
    "\n",
    "    m <- mean(median_diff_df$diff)\n",
    "    s <- sd(median_diff_df$diff)\n",
    "    p_value <- pnorm(actual_diff,m=m,s=s)\n",
    "    p_value_list[[spatial_file]] <- p_value\n",
    "\n",
    "    plot_list[[spatial_file]] <- ggplot( median_diff_df ) + geom_density(aes(x=diff),color=\"gray\") + \n",
    "    geom_vline(data=data.frame(m=m), xintercept=m, color=\"black\") + theme_pubr(base_size=13.33)\n",
    "}"
   ]
  },
  {
   "cell_type": "markdown",
   "metadata": {},
   "source": [
    "### Figure 6D"
   ]
  },
  {
   "cell_type": "code",
   "execution_count": null,
   "metadata": {},
   "outputs": [],
   "source": [
    "options(repr.plot.width=10)\n",
    "plot_idx <- 1\n",
    "for (plot_name in names(plot_list)) {\n",
    "    print(plot_name)\n",
    "    plot_list[[plot_name]] <- plot_list[[plot_name]] + ylab(NULL) + ylim(0,0.003) + xlab(NULL) + theme_pubr(base_size=13.33)\n",
    "    if (plot_idx > 1) {\n",
    "        plot_list[[plot_name]] <- plot_list[[plot_name]] + theme(axis.text.y=element_blank())\n",
    "    }\n",
    "    plot_idx <- plot_idx + 1\n",
    "}\n",
    "spatial_plots <- ggarrange(plotlist=plot_list,ncol=5)\n",
    "# options(repr.plot.width=7)\n",
    "ggsave(\"Fig6D.svg\",spatial_plots,width=12,height=2.8)"
   ]
  },
  {
   "cell_type": "markdown",
   "metadata": {},
   "source": [
    "### Single-nucleus data"
   ]
  },
  {
   "cell_type": "code",
   "execution_count": null,
   "metadata": {},
   "outputs": [],
   "source": [
    "source(\"../src/process_pdac.R\")\n",
    "tosti_combined_seurat_obj <- load_tosti2020_combined_data() \n",
    "\n",
    "lr_markers_df_list <- readRDS(\"all_outlier_markers.rds\")\n",
    "edge_acinar_markers_df <- lr_markers_df_list[[\"Acinar cell\"]] %>% dplyr::filter(p_val_adj < 0.1)\n",
    "\n",
    "edge_gene_set <- list(\"edge\"=edge_acinar_markers_df %>% dplyr::filter(avg_logFC > 0) %>% pull(gene))    \n",
    "\n",
    "epithelial_obj <- subset(tosti_combined_seurat_obj,subset = Cluster %in% \n",
    "                           c(\"Acinar-s\",\"Acinar-i\",\"Acinar-REG+\",\"MUC5B+ Ductal\"))\n",
    "rm(tosti_combined_seurat_obj)\n",
    "\n",
    "genes_to_keep <- names(which(rowMeans(epithelial_obj[[\"RNA\"]]@counts > 0) > 0.01))"
   ]
  },
  {
   "cell_type": "markdown",
   "metadata": {},
   "source": [
    "### Figure 6A"
   ]
  },
  {
   "cell_type": "code",
   "execution_count": null,
   "metadata": {},
   "outputs": [],
   "source": [
    "markers <- c(\"AMBP\",\"CFTR\",\"MMP7\",\"ANXA4\", \"SLC4A4\", \"PRSS1\", \"CTRB1\", \"CTRB2\", \"REG1B\")\n",
    "# tosti_combined_seurat_obj <- NormalizeData(tosti_combined_seurat_obj)\n",
    "p_dot_plot <- DotPlot( subset( epithelial_obj, \n",
    "                subset = Cluster %in% c(\"Acinar-s\",\"Acinar-i\",\"Acinar-REG+\",\"MUC5B+ Ductal\",\"Ductal\")),\n",
    "        features=markers ) + theme(axis.text.x=element_text(angle=90,hjust=1,vjust=0.5))\n",
    "muc_ductal_cells <- WhichCells(epithelial_obj,expression = Cluster == \"MUC5B+ Ductal\")\n",
    "for (marker in c(\"PRSS1\",\"CTRB1\",\"CTRB2\",\"REG1B\")) {\n",
    "    pct_expressed <- mean( epithelial_obj[[\"RNA\"]]@counts[marker,muc_ductal_cells] > 0)\n",
    "    print(paste(marker,pct_expressed))\n",
    "}"
   ]
  },
  {
   "cell_type": "markdown",
   "metadata": {},
   "source": [
    "### Figure 6B, 6C"
   ]
  },
  {
   "cell_type": "code",
   "execution_count": null,
   "metadata": {},
   "outputs": [],
   "source": [
    "samples_to_use <- c('AFES448-head','AFES448-body','AFES448-tail','AFES365-body','AFES365-head','AFES365-tail','AGBR024-body',\n",
    "'AGBR024-head','AGBR024-tail','TUM_13-tail','TUM_25-body','TUM_C1-body','TUM_CP1-head','TUM_CP2-head')\n",
    "ret_auc <- compute_AUCell_scores(subset( epithelial_obj, subset = orig.ident %in% samples_to_use,\n",
    "                                       features=genes_to_keep )\n",
    ",edge_gene_set,compute_thresholds=F,nCores=3)\n",
    "merge( tibble::rownames_to_column(as.data.frame(ret_auc$auc_mat),\"cell.name\"),\n",
    "      tibble::rownames_to_column(epithelial_obj@meta.data,\"cell.name\") %>% dplyr::select(cell.name,Cluster,sample=orig.ident), \n",
    "      by=\"cell.name\" ) -> merged_df\n",
    "\n",
    "control_sd_df <- compute_shuffled_gene_set_AUCell_scores(subset( epithelial_obj, \n",
    "                                                                subset = orig.ident %in% samples_to_use,\n",
    "                                       features=genes_to_keep ), edge_gene_set, q_thresh=0.95)\n",
    "threshold_df <- control_sd_df %>% group_by(sample) %>% summarize(thresh=max(mean))\n",
    "merged_df <- merge( merged_df, threshold_df, by=\"sample\" ) %>% mutate(is_edge=ifelse(edge > thresh,1,0)) %>%\n",
    "mutate(sample_type=ifelse(grepl(\"^A\",sample) | !grepl(\"CP\",sample),\"Healthy\",\"CP\"))\n",
    "fwrite(merged_df,\"Tosti_Edge_AUC.tsv\",sep=\"\\t\")"
   ]
  },
  {
   "cell_type": "code",
   "execution_count": null,
   "metadata": {},
   "outputs": [],
   "source": [
    "merged_df <- fread(\"Tosti_Edge_AUC.tsv\")\n",
    "cell_types <- unique(epithelial_obj$Cluster)\n",
    "merged_pca_dist_df <- data.frame()\n",
    "for (cell_type in cell_types) {\n",
    "    for (sample_type_ in c(\"Healthy\",\"CP\") ) {\n",
    "        cells <- merged_df %>% dplyr::filter(sample_type == sample_type_ & Cluster == cell_type) %>% pull(cell.name)\n",
    "        flush.console()\n",
    "        if (length(cells) < 20)\n",
    "            next\n",
    "\n",
    "        print(cell_type)\n",
    "        print(sample_type_)\n",
    "\n",
    "        subset_obj <- subset(epithelial_obj, cells=cells) %>% FindVariableFeatures %>%\n",
    "        ScaleData(.,verbose=F) %>% RunPCA(.,npcs=20,verbose=F)\n",
    "        pca_dist_info <- self_pca_distances( Cells(subset_obj), Embeddings(subset_obj,\"pca\") )\n",
    "        pca_dist_df <- tibble::enframe( pca_dist_info$dist_from_medoid, name=\"cell.name\", value=\"distance\" ) %>%\n",
    "    merge( ., merged_df ) %>% mutate(is_edge=factor(is_edge,levels=c(1,0)),\n",
    "                                     sample_type=factor(sample_type,levels=c(\"Healthy\",\"CP\")))\n",
    "        merged_pca_dist_df <- rbind(merged_pca_dist_df,pca_dist_df)\n",
    "        wilcox.test(pca_dist_df %>% dplyr::filter(is_edge == 1) %>% pull(distance),\n",
    "                   pca_dist_df %>% dplyr::filter(is_edge == 0) %>% pull(distance),alternative=\"g\")\n",
    "    }\n",
    "}\n",
    "fwrite(merged_pca_dist_df,\"Tosti_Edge_AUC_PCA_Distances.tsv\")"
   ]
  },
  {
   "cell_type": "code",
   "execution_count": null,
   "metadata": {},
   "outputs": [],
   "source": [
    "merged_pca_dist_df <- fread(\"Tosti_Edge_AUC_PCA_Distances.tsv\")#,sep=\"\\t\")\n",
    "merged_df <- fread(\"Tosti_Edge_AUC.tsv\")\n",
    "\n",
    "for (sample_type_ in c(\"Healthy\",\"CP\")) {\n",
    "    for (cell_type in unique(merged_df$Cluster)) {\n",
    "        pca_dist_df <- merged_pca_dist_df %>% dplyr::filter(Cluster == cell_type & sample_type == sample_type_)\n",
    "        if (nrow(pca_dist_df) == 0)\n",
    "            next\n",
    "        print(sample_type_)\n",
    "        print(cell_type)\n",
    "\n",
    "        print(wilcox.test(pca_dist_df %>% dplyr::filter(is_edge == 1) %>% pull(distance),\n",
    "                   pca_dist_df %>% dplyr::filter(is_edge == 0) %>% pull(distance),alternative=\"g\"))\n",
    "        flush.console()\n",
    "    }\n",
    "}\n",
    "merged_pca_dist_df$is_edge <- factor(merged_pca_dist_df$is_edge,levels=c(1,0))\n",
    "merged_pca_dist_df$sample_type <- factor(merged_pca_dist_df$sample_type,levels=c(\"Healthy\",\"CP\"))\n",
    "p_pca_dist_plot <- ggplot( merged_pca_dist_df ) + geom_boxplot(aes(x=Cluster,y=distance,color=is_edge),\n",
    "                                           outlier.shape=NA) + facet_wrap(~sample_type) +\n",
    "theme_pubr(base_size=13.33) + ylim(0,65)\n",
    "\n",
    "p_cp_boxplot <- ggplot( merged_df ) + \n",
    "geom_boxplot(aes(x=Cluster,y=edge,color=sample_type),outlier.shape=NA,\n",
    "            position=position_dodge(preserve=\"single\")) + labs(color=NULL) + theme_pubr(base_size=12) + \n",
    "xlab(\"AUCell\")"
   ]
  },
  {
   "cell_type": "code",
   "execution_count": null,
   "metadata": {},
   "outputs": [],
   "source": [
    "cell_counts_dt <- merged_df %>% mutate(sample_type=ifelse(grepl(\"^A\",sample) | !grepl(\"CP\",sample),\"Healthy\",\n",
    "                                     \"CP\")) %>% mutate(Cluster=sample_type) %>% \n",
    "group_by(Cluster,is_edge) %>% dplyr::count() %>% \n",
    "mutate(is_edge=ifelse(is_edge==1,\"edge\",\"non-edge\")) %>% dplyr::rename(cell_type=is_edge,N=n) %>% data.table\n",
    "for (cluster in unique(cell_counts_dt$Cluster)) {\n",
    "    cell_type_dt <- cell_counts_dt[Cluster == cluster,]\n",
    "    num_cells <- sum(cell_type_dt$N)\n",
    "    num_is_type_is_edge <- cell_type_dt[cell_type == \"edge\",N]\n",
    "    num_is_type_is_non_edge <- cell_type_dt[cell_type != \"edge\",N]\n",
    "    num_is_not_type_is_edge <- sum(cell_counts_dt[cell_type == \"edge\" & Cluster != cluster,N])\n",
    "    num_is_not_type_is_non_edge <- sum(cell_counts_dt[cell_type != \"edge\" & Cluster != cluster,N])\n",
    "    fisher_mat <- matrix(c(num_is_type_is_edge,num_is_type_is_non_edge,\n",
    "                          num_is_not_type_is_edge,num_is_not_type_is_non_edge),\n",
    "                        nrow=2,ncol=2,byrow=T)\n",
    "\n",
    "    fisher_res <- fisher.test(fisher_mat,alternative=\"g\")\n",
    "    print(cluster)\n",
    "#     print(fisher_mat)\n",
    "    print(fisher_res$p.value)\n",
    "    print(fisher_res$estimate)\n",
    "    flush.console()\n",
    "}"
   ]
  },
  {
   "cell_type": "markdown",
   "metadata": {},
   "source": [
    "### Figure 6 merging"
   ]
  },
  {
   "cell_type": "code",
   "execution_count": null,
   "metadata": {},
   "outputs": [],
   "source": [
    "options(repr.plot.height=5,repr.plot.width=15)\n",
    "fig6 <- grid.arrange(\n",
    "    arrangeGrob(p_dot_plot + labs(tag=\"A\") + theme(axis.text.x=element_text(angle=0)) + xlab(NULL),\n",
    "    p_cp_boxplot + theme(legend.position=\"none\") + xlab(NULL) + ylab(\"AUCell\") + labs(tag=\"B\") +\n",
    "                scale_color_manual(values=c(\"Healthy\"=\"black\",\"CP\"=\"gray\")),\n",
    "                                                       p_pca_dist_plot + labs(tag=\"C\") + xlab(NULL) +\n",
    "                ylab(\"Distance from medoid\") + theme(legend.position=\"none\"),\n",
    "     widths=c(1.75,1,1),\n",
    "    ncol=3,nrow=1\n",
    "))\n",
    "saveRDS(fig6,\"Fig6.rds\")\n",
    "ggsave(\"Fig6_shortened.svg\",fig6,width=12,height=2.5)"
   ]
  },
  {
   "cell_type": "markdown",
   "metadata": {},
   "source": [
    "## Human prostate"
   ]
  },
  {
   "cell_type": "code",
   "execution_count": null,
   "metadata": {},
   "outputs": [],
   "source": [
    "source(\"../src/process_pdac.R\")\n",
    "prostate_obj <- load_prostate_data()"
   ]
  },
  {
   "cell_type": "code",
   "execution_count": null,
   "metadata": {},
   "outputs": [],
   "source": [
    "source(\"../src/process_pdac.R\")\n",
    "malignant_cell_types <- c(\"Epi_Luminal_1_Malignant\")\n",
    "normal_cell_types <- c(\"Epi_Basal_1\",\"Epi_Basal_hillock\",\"Epi_Luminal_1\",\"Epi_Luminal_2\")\n",
    "prostate_edge_info_list <- list()\n",
    "for (cell_type in normal_cell_types){\n",
    "    prostate_edge_info_list[[cell_type]] <- run_edge_pipeline( prostate_obj,\n",
    "                                                           malignant_cell_type=\"Epi_Luminal_1_Malignant\",\n",
    "                                              normal_cell_types=cell_type, \n",
    "                                                           num_pcs=20, num_control_shuffles=100,\n",
    "                                                            pipeline_variant=\"feature-selection\",\n",
    "                              perform_control=T, no_tumour_adjacent=F, sample_info_column=\"orig.ident\",\n",
    "                                               ident_to_use=\"fullTypeTumorPred\")\n",
    "\n",
    "}\n",
    "edge_cell_types <- names(prostate_edge_info_list)\n",
    "prostate_edge_info_list <-  run_pc_wise_edge_analysis( prostate_obj, \n",
    "                                                   normal_cell_types=edge_cell_types,\n",
    "                                                 malignant_cell_type=\"Epi_Luminal_1_Malignant\",\n",
    "                                                      ident_to_use=\"fullTypeTumorPred\",\n",
    "                                                 sample_info_column=\"orig.ident\")"
   ]
  },
  {
   "cell_type": "code",
   "execution_count": null,
   "metadata": {
    "scrolled": true
   },
   "outputs": [],
   "source": [
    "edge_info_list <- c(lung_edge_info_list,liver_edge_info_list,colon_edge_info_list,prostate_edge_info_list)\n",
    "combined_fgsea_dt <- data.table()\n",
    "pathways <- load_pathways()\n",
    "hallmark_pathways <- names(pathways)[grepl(\"HALLMARK_\",names(pathways))] %>% gsub(\"HALLMARK_\",\"\",.)\n",
    "num_hallmark <- sum(grepl(\"HALLMARK\",names(pathways)))\n",
    "p_values <- c()\n",
    "for (cell_type in names(edge_info_list)) {\n",
    "    edge_info <- edge_info_list[[cell_type]]\n",
    "    for (normal_pc in names(edge_info)) {\n",
    "        combined_pc <- paste(\"combined\",edge_info[[normal_pc]]$combined_PCs_used,sep=\"_\")\n",
    "        combined_pc_label <- combined_pc %>% gsub(\"_\",\"\",.)\n",
    "        normal_pc_label <- gsub(\"normal_\",\"\",normal_pc) %>% gsub(\"_\",\"\",.)\n",
    "\n",
    "        dt <- edge_info[[normal_pc]]$fgsea_dt \n",
    "        c <- edge_info[[normal_pc]]$pca_cor_df %>% dplyr::filter(Var1 == normal_pc & Var2 == combined_pc) %>% pull(cor)\n",
    "        combined_fgsea_dt <- rbind(combined_fgsea_dt,\n",
    "                                   edge_info[[normal_pc]]$fgsea_dt %>% \n",
    "                                   mutate(cell_type=paste(paste(cell_type,\n",
    "                                                          paste(normal_pc_label,\n",
    "                                                                gsub(\"combined\",\"\",combined_pc_label),sep=\"-\")),\n",
    "                                         paste(\"C=\",round(c,2)),sep=\"\\n\")))\n",
    "        \n",
    "        dt <- dt[grepl(\"HALLMARK\",pathway),]\n",
    "        enriched_pathways <- dt[padj < 0.1,pathway] %>% gsub(\"HALLMARK_\",\"\",.)\n",
    "        not_enriched_pathways <- dt[padj >= 0.1,pathway] %>% gsub(\"HALLMARK_\",\"\",.)\n",
    "        num_in_pc_in_mascaux <- length(intersect(enriched_pathways,mascaux_gene_sets))\n",
    "        num_in_pc_not_in_mascaux <- length(intersect(enriched_pathways,setdiff(hallmark_pathways,mascaux_gene_sets)))\n",
    "        num_not_in_pc_in_mascaux <- length(intersect(not_enriched_pathways,mascaux_gene_sets))\n",
    "        num_not_in_pc_not_in_mascaux <- length(intersect(not_enriched_pathways,setdiff(hallmark_pathways,mascaux_gene_sets)))\n",
    "        fisher_res <- fisher.test(matrix(c(num_in_pc_in_mascaux,num_in_pc_not_in_mascaux,\n",
    "                                          num_not_in_pc_in_mascaux,num_not_in_pc_not_in_mascaux),\n",
    "                                 nrow=2,ncol=2,byrow=T),alternative=\"g\")\n",
    "        print(cell_type)\n",
    "        print(normal_pc)\n",
    "        print(fisher_res$p.value)\n",
    "        p_values <- c(p_values,fisher_res$p.value)\n",
    "        flush.console()\n",
    "    }\n",
    "}\n",
    "\n",
    "disp_fgsea_mat <- combined_fgsea_dt[,.(pathway,padj,NES,cell_type)] %>% mutate(NES=ifelse(padj < 0.05,NES,NA)) %>%\n",
    "dplyr::select(-padj) %>% tidyr::pivot_wider(names_from=\"cell_type\",values_from=\"NES\") %>%\n",
    "tibble::column_to_rownames(\"pathway\") %>% as.matrix"
   ]
  },
  {
   "cell_type": "markdown",
   "metadata": {},
   "source": [
    "## Figure 5B, S3D"
   ]
  },
  {
   "cell_type": "code",
   "execution_count": null,
   "metadata": {},
   "outputs": [],
   "source": [
    "disp_fgsea_mat <- combined_fgsea_dt[,.(pathway,padj,NES,cell_type)] %>% mutate(NES=ifelse(padj < 0.05,NES,0)) %>%\n",
    "dplyr::select(-padj) %>% tidyr::pivot_wider(names_from=\"cell_type\",values_from=\"NES\") %>%\n",
    "tibble::column_to_rownames(\"pathway\") %>% as.matrix\n",
    "cols_to_plot <- c('Club PC1-PC1\\nC= 0.95','AT1 PC1-PC1\\nC= 0.96','AT2 PC5-PC1\\nC= 0.26','Hep2 PC2-PC1\\nC= -0.22',\n",
    "                  'Hep3 PC2-PC2\\nC= -0.07','TA 2 PC2-PC5\\nC= 0.14','Enterocytes PC5-PC1\\nC= -0.17',\n",
    "                  'Stem PC1-PC3\\nC= -0.81','TA 1 PC2-PC3\\nC= 0.39','Enterocyte Progenitors PC1-PC3\\nC= 0.58',\n",
    "                  'Tuft PC1-PC3\\nC= 0.9','Epi_Basal_hillock PC1-PC1\\nC= -0.48','Epi_Luminal_1 PC5-PC4\\nC= 0.23')\n",
    "mascaux_mat <- disp_fgsea_mat[paste(\"HALLMARK\",mascaux_gene_sets,sep=\"_\"),cols_to_plot]\n",
    "vec <- na.omit(as.vector(mascaux_mat))\n",
    "colors <- colorRamp2(c(min(vec),0,max(vec)),c(\"#ffa500\",\"white\",\"#ff0000\"))\n",
    "values <- c(1.2,1.4,1.6,1.8,2)\n",
    "p_heatmap <- Heatmap(mascaux_mat,cluster_rows=T,cluster_columns=F,\n",
    "        name=\"Norm. Enrichment\\nScore\",\n",
    "                     na_col=\"white\", \n",
    "       rect_gp = gpar(col = \"black\", lwd = 2))\n",
    "ggsave( \"Fig5b.svg\", grid.grabExpr(draw(p_heatmap)), width=10, height=7 )\n",
    "\n",
    "p_heatmap_full <- Heatmap(disp_fgsea_mat[rowSums(disp_fgsea_mat == 0) < ncol(disp_fgsea_mat),],cluster_rows=T,cluster_columns=F,\n",
    "        name=\"Norm. Enrichment\\nScore\",\n",
    "                     na_col=\"white\", \n",
    "       rect_gp = gpar(col = \"black\", lwd = 1), column_names_gp=gpar(fontsize=8),\n",
    "                         row_names_gp=gpar(fontsize=8))\n",
    "ggsave( \"Fig-S3D.svg\", grid.grabExpr(draw(p_heatmap_full)), width=10, height=8 )"
   ]
  },
  {
   "cell_type": "markdown",
   "metadata": {},
   "source": [
    "## Mouse PDAC models"
   ]
  },
  {
   "cell_type": "markdown",
   "metadata": {},
   "source": [
    "### GSE129455 (KPC mouse)\n"
   ]
  },
  {
   "cell_type": "markdown",
   "metadata": {},
   "source": [
    "Hardly any acinar cells in this data!"
   ]
  },
  {
   "cell_type": "code",
   "execution_count": null,
   "metadata": {},
   "outputs": [],
   "source": [
    "gene_exp_dt <- fread(file.path(base_path,\"GSE129455_All_Viable_expression.csv.gz\"))\n",
    "mart <- useMart(biomart=\"ENSEMBL_MART_ENSEMBL\",#\"ENSEMBL_MART_FUNCGEN\", \n",
    "                     host=\"ensembl.org\", dataset=\"mmusculus_gene_ensembl\")\n",
    "gene_ids <- gene_exp_dt$V1\n",
    "gene_name_dt <- getBM( attributes=c(\"external_gene_name\",\"ensembl_gene_id\"),#,\"go_id\"),\n",
    "                 filters=\"ensembl_gene_id\", values=gene_ids, mart=mart, verbose=F ) %>% data.table(.)\n",
    "gene_exp_mat <- merge(gene_exp_dt,gene_name_dt,by.x=\"V1\",by.y=\"ensembl_gene_id\") %>% dplyr::select(-V1) %>%\n",
    "tibble::column_to_rownames(\"external_gene_name\") %>% as.matrix\n",
    "gse129455_obj <- CreateSeuratObject( gene_exp_mat, project=\"GSE129455\" )\n",
    "meta_data_df <- gse129455_obj@meta.data %>% tibble::rownames_to_column(\"cell.name\") %>%\n",
    "mutate(sample_ID=gsub(\"..*?-\",\"\",cell.name)) %>% tibble::column_to_rownames(\"cell.name\")\n",
    "gse129455_obj <- AddMetaData(gse129455_obj,meta_data_df)\n",
    "gse129455_obj[[\"RNA\"]]@data <- gse129455_obj[[\"RNA\"]]@counts"
   ]
  },
  {
   "cell_type": "code",
   "execution_count": null,
   "metadata": {},
   "outputs": [],
   "source": [
    "gse129455_obj <- FindVariableFeatures(gse129455_obj) %>% ScaleData %>% RunPCA(.,npcs=20) %>%\n",
    "FindNeighbors %>% RunUMAP(.,dims=1:20) %>% FindClusters(res=0.5)\n",
    "\n",
    "marker_genes <- c(\"Apoe\",\"Saa3\",\"C1qc\",\"Ear2\",\"Lyz1\",\"Cd79a\",\"Ly6d\", \n",
    "                                  \"Ms4a1\",\"S100a8\",\"S100a9\",\"G0s2\",\"Dcn\",\"Col1a1\",\"Col3a1\", \n",
    "                                  \"Ccl5\",\"Cd3g\",\"Gzma\",\"Nkg7\",\"Clu\",\"Tff1\",\"Krt18\",\"Krt8\",\n",
    "                                  \"Krt19\",\"Krt7\",\"Epcam\",\"Igfbp7\",\"Plvap\",\"Cd34\",\"Ccr7\", \n",
    "                                  \"Ccl22\",\"Ctrb1\",\"Prss2\",\"Try5\",\"Rgs5\",\"Acta2\", \"Cdkn2a\",\n",
    "                                  \"S100a6\",\"Igfbp4\",\"Sparc\",\"Vim\",\"Spp1\")\n",
    "\n",
    "mat <- FetchData( gse129455_obj, vars=c(\"seurat_clusters\",marker_genes )) %>%\n",
    "group_by(seurat_clusters) %>% summarize_at(marker_genes,mean) %>% tibble::column_to_rownames(\"seurat_clusters\") %>%\n",
    "as.matrix %>% scale \n",
    "pheatmap( mat )"
   ]
  },
  {
   "cell_type": "markdown",
   "metadata": {},
   "source": [
    "### GSE141017"
   ]
  },
  {
   "cell_type": "code",
   "execution_count": null,
   "metadata": {},
   "outputs": [],
   "source": [
    "source(\"../src/process_pdac.R\")"
   ]
  },
  {
   "cell_type": "code",
   "execution_count": null,
   "metadata": {
    "scrolled": true
   },
   "outputs": [],
   "source": [
    "gse141017_obj <- load_gse141017_data() %>% subset(idents=\"Acinar\")\n",
    "gse141017_obj$orig.ident <- paste(\"GSE141017\",gse141017_obj$orig.ident,sep=\"-\")\n",
    "gse141017_obj <- NormalizeData( gse141017_obj )"
   ]
  },
  {
   "cell_type": "code",
   "execution_count": null,
   "metadata": {},
   "outputs": [],
   "source": [
    "options(repr.plot.height=10,repr.plot.width=10)\n",
    "DotPlot( gse141017_obj, features=c(\"tdTomato\",\"Krt19\",\"Sox9\",\"Muc5ac\",\"Gkn1\",\"Gkn2\",\n",
    "                                   \"Tlf1\",\"Muc6\",\"Pga5\",\"Pgc\",\"Try4\",\"Cpa1\",\"Cpa2\",\"Cela2a\",\n",
    "                                   \"Amy2a2\",\"Reg3b\",\"Krt19\",\"Mmp7\",\"Amy1\") %>% unique) +\n",
    "theme(axis.text.x=element_text(angle=90,hjust=1,vjust=0.5))"
   ]
  },
  {
   "cell_type": "markdown",
   "metadata": {},
   "source": [
    "### GSE125588"
   ]
  },
  {
   "cell_type": "code",
   "execution_count": null,
   "metadata": {},
   "outputs": [],
   "source": [
    "source(\"../src/process_pdac.R\")\n",
    "gse125588_obj_list <- load_gse125588_data()"
   ]
  },
  {
   "cell_type": "markdown",
   "metadata": {},
   "source": [
    "### Tabula muris + Tabula muris senis"
   ]
  },
  {
   "cell_type": "code",
   "execution_count": null,
   "metadata": {},
   "outputs": [],
   "source": [
    "muris_obj@meta.data$mouse.id %>% unique"
   ]
  },
  {
   "cell_type": "code",
   "execution_count": null,
   "metadata": {},
   "outputs": [],
   "source": [
    "source(\"../src/process_pdac.R\")\n",
    "muris_obj <- load_muris_data()\n",
    "muris_senis_obj <- load_muris_senis_data()"
   ]
  },
  {
   "cell_type": "markdown",
   "metadata": {},
   "source": [
    "### Merging all mouse data"
   ]
  },
  {
   "cell_type": "code",
   "execution_count": null,
   "metadata": {},
   "outputs": [],
   "source": [
    "obj_list <- c(SplitObject(muris_senis_obj,split.by=\"orig.ident\"),\n",
    "              SplitObject(muris_obj,split.by=\"orig.ident\"),\n",
    "              SplitObject(gse141017_obj,split.by=\"orig.ident\"),\n",
    "              gse125588_obj_list)\n",
    "merged_obj <- NULL\n",
    "idx <- 1\n",
    "for (obj_name in names(obj_list)) {\n",
    "    if (is.null(merged_obj)) {\n",
    "        merged_obj <- obj_list[[obj_name]]\n",
    "    } else {\n",
    "        merged_obj <- merge( merged_obj, obj_list[[obj_name]] )\n",
    "    }\n",
    "    obj_list[[obj_name]] <- NormalizeData(obj_list[[obj_name]]) %>% FindVariableFeatures\n",
    "}\n",
    "\n",
    "anchors <- FindIntegrationAnchors( obj_list, k.filter=30 )\n",
    "mouse_integrated_obj <- IntegrateData( anchors, k.weight=30 )\n",
    "mouse_integrated_obj <- ScaleData(mouse_integrated_obj) %>% RunPCA(.,npcs=30) %>%\n",
    "RunUMAP(.,dims=1:30)"
   ]
  },
  {
   "cell_type": "code",
   "execution_count": null,
   "metadata": {},
   "outputs": [],
   "source": [
    "mouse_integrated_obj <- readRDS(file.path(base_path,\"Mouse_Integrated_Obj.rds\"))\n",
    "df <- FetchData(mouse_integrated_obj,vars=c(\"Kras_status\",\"is_edge\",\"orig.ident\")) %>%\n",
    "group_by(orig.ident,Kras_status) %>% summarize(frac=mean(is_edge))\n",
    "\n",
    "p_mouse <- ggdotplot( df, x=\"Kras_status\",y=\"frac\", fill=\"black\", add=\"boxplot\") +\n",
    "theme_pubr(base_size=15) + ylab(\"Edge cell fraction\") + labs(fill=\"Kras status\")\n",
    "\n",
    "wilcox.test( df %>% dplyr::filter(Kras_status == \"Kras-mut\") %>% pull(frac),\n",
    "            df %>% dplyr::filter(Kras_status == \"WT\") %>% pull(frac) )\n",
    "wilcox.test( df %>% dplyr::filter(Kras_status == \"Kras-mut\" & \n",
    "                                  orig.ident %in% c(\"GSE125588_early_KIC\",\"GSE141017-PRT17\")) %>% pull(frac),\n",
    "            df %>% dplyr::filter(Kras_status == \"WT\") %>% pull(frac) )"
   ]
  },
  {
   "cell_type": "code",
   "execution_count": null,
   "metadata": {},
   "outputs": [],
   "source": [
    "options(repr.plot.height=7,repr.plot.width=7)\n",
    "p1 <- DimPlot( mouse_integrated_obj, group.by=\"orig.ident\" ) + theme_pubr(base_size=13.33) + \n",
    "theme(legend.position=\"none\") + ggtitle(NULL)\n",
    "p2 <- DimPlot( mouse_integrated_obj, group.by=\"Kras_status\", cols=c(\"black\",\"gray\")) + theme_pubr(base_size=13.33) +\n",
    "ggtitle(NULL) + theme(legend.position=\"none\")\n",
    "mouse_integrated_obj$is_edge <- factor(mouse_integrated_obj$is_edge,levels=c(1,0)) \n",
    "p3 <- DimPlot( mouse_integrated_obj, group.by=\"is_edge\" ) + theme_pubr(base_size=13.33) + ggtitle(NULL) +\n",
    "theme(legend.position=\"none\")"
   ]
  },
  {
   "cell_type": "code",
   "execution_count": null,
   "metadata": {},
   "outputs": [],
   "source": [
    "mouse_integrated_obj <- SetIdent(mouse_integrated_obj,value=\"is_edge\")\n",
    "# wt_integrated_obj <- subset(mouse_integrated_obj,subset = Kras_status==\"WT\")\n",
    "# kras_integrated_obj <- subset(mouse_integrated_obj,subset = Kras_status!=\"WT\")\n",
    "# wt_de_df <- FindMarkers(mouse_integrated_obj,ident.1=\"1\",test.use=\"MAST\",\n",
    "#                         latent.vars=c(\"orig.ident\"),logfc.threshold=0) %>% tibble::rownames_to_column(\"gene\")\n",
    "mouse_integrated_obj <- SetIdent(mouse_integrated_obj,value=\"Kras_status\")\n",
    "kras_wt_de_df <- FindMarkers(mouse_integrated_obj,\n",
    "                            ident.1=\"Kras-mut\", logfc.threshold=0.0, test.use=\"MAST\",\n",
    "                            latent.vars=c(\"orig.ident\")) %>% tibble::rownames_to_column(\"gene\")\n",
    "merged_de_df <- merge(kras_wt_de_df,wt_de_df,by=\"gene\",all.x=T,all.y=T,\n",
    "                     suffixes=c(\"_Kras_vs_WT\",\"_Edge\"))\n",
    "fwrite(merged_de_df,\"Edge_Non_Edge_Kras_DE.tsv\",sep=\"\\t\")\n",
    "p_edge_kras_logFC <- ggplot( merged_de_df ) + geom_point(aes(x=avg_log2FC_Kras_vs_WT,y=avg_log2FC_Edge)) +\n",
    "theme_pubr(base_size=13.33)"
   ]
  },
  {
   "cell_type": "code",
   "execution_count": null,
   "metadata": {
    "scrolled": true
   },
   "outputs": [],
   "source": [
    "lr_markers_df_list <- readRDS(\"all_outlier_markers.rds\")\n",
    "edge_acinar_markers_df <- lr_markers_df_list[[\"Acinar cell\"]] %>% dplyr::filter(p_val_adj < 0.1)\n",
    "\n",
    "edge_gene_set <- list(\"edge\"=edge_acinar_markers_df %>% dplyr::filter(avg_logFC > 0) %>% pull(gene) %>%\n",
    "                     get_orthologs(.,from_species=\"human\",to_species=\"mouse\") %>% pull(mouse_gene_name))    \n",
    "\n",
    "combined_auc_df <- data.frame()\n",
    "for (sample_name in unique(mouse_integrated_obj$orig.ident)) {\n",
    "    subset_obj <- subset( mouse_integrated_obj, subset = orig.ident == sample_name)\n",
    "    output <- compute_AUCell_scores(subset_obj,edge_gene_set,compute_thresholds=F)\n",
    "    auc_df <- reshape2::melt(output$auc_mat) %>% dplyr::select(-`gene sets`) %>% mutate(sample=sample_name)\n",
    "    combined_auc_df <- rbind(combined_auc_df,auc_df)\n",
    "    print(sample_name)\n",
    "    flush.console()\n",
    "}\n",
    "\n",
    "control_sd_df <- compute_shuffled_gene_set_AUCell_scores(mouse_integrated_obj, edge_gene_set)\n",
    "merged_df <- merge( combined_auc_df,\n",
    "    control_sd_df %>% group_by(sample) %>% summarize(m=quantile(mean,1.0)) %>% dplyr::rename(thresh=m),\n",
    "                   by=\"sample\" ) %>% mutate(is_edge=ifelse(value > thresh,1,0))\n",
    "\n",
    "mouse_integrated_obj <- \n",
    "AddMetaData( mouse_integrated_obj,\n",
    "            merged_df %>% dplyr::select(cells,is_edge,edge_AUC=value) %>% tibble::column_to_rownames(\"cells\") )\n",
    "\n",
    "mouse_integrated_obj <- AddMetaData( mouse_integrated_obj, mouse_integrated_obj@meta.data %>% \n",
    "                                    mutate(Kras_status=ifelse(!grepl(\"CTRL|normal\",orig.ident) & !grepl(\"Muris\",orig.ident),\n",
    "                                                              \"Kras-mut\",\"WT\")))\n",
    "\n",
    "saveRDS(mouse_integrated_obj,file.path(base_path,\"Mouse_Integrated_Obj.rds\"))"
   ]
  },
  {
   "cell_type": "markdown",
   "metadata": {},
   "source": [
    "### Mouse pancreatitis bulk RNA-seq data"
   ]
  },
  {
   "cell_type": "code",
   "execution_count": null,
   "metadata": {},
   "outputs": [],
   "source": [
    "source(\"../src/process_pdac.R\")\n",
    "library(DESeq2)\n",
    "library(tximport)\n",
    "library(readxl)\n",
    "library(TxDb.Mmusculus.UCSC.mm10.ensGene) \n",
    "txdb <- TxDb.Mmusculus.UCSC.mm10.ensGene\n",
    "\n",
    "k <- keys(txdb, keytype = \"GENEID\")\n",
    "df <- select(txdb, keys = k,  columns = \"TXNAME\", keytype = \"GENEID\") %>% dplyr::select(TXNAME,GENEID)\n",
    "lr_markers_df_list <- readRDS(\"all_outlier_markers.rds\")\n",
    "edge_acinar_markers_df <- lr_markers_df_list[[\"Acinar cell\"]] %>% dplyr::filter(p_val_adj < 0.1)\n",
    "\n",
    "mouse_edge_gene_set <- list(\"edge\"=edge_acinar_markers_df %>% dplyr::filter(avg_logFC > 0) %>% pull(gene) %>%\n",
    "                     get_orthologs(.,from_species=\"human\",to_species=\"mouse\") %>% pull(mouse_gene_name)) \n",
    "\n",
    "source(\"../src/process_pdac.R\")\n",
    "gse106550_df <- process_GSE106550(mouse_edge_gene_set)\n",
    "gse102675_df <- process_GSE102675(mouse_edge_gene_set)\n",
    "gse143748_df <- process_GSE143749(mouse_edge_gene_set)\n",
    "gse84659_df <- process_GSE84659(mouse_edge_gene_set)\n",
    "gse132330_df <- process_GSE132330(mouse_edge_gene_set)\n",
    "mouse_de_seq_res_df <- rbind(gse106550_df,gse102675_df,gse143748_df,gse84659_df,gse132330_df)\n",
    "p_bulk_pancreatitis <- ggplot( mouse_de_seq_res_df %>% \n",
    "       mutate(accession=ifelse(accession %in% c(\"GSE84659\",\"GSE132330\"),\n",
    "                               paste(comparison,accession,sep=\"_\"),accession))) + \n",
    "geom_boxplot(aes(x=accession,y=log2FoldChange,fill=gene_type),\n",
    "                                            outlier.shape=NA) + ylim(-7.5,7.5) + theme_pubr(base_size=13.33)+\n",
    "theme(legend.position=\"none\")"
   ]
  },
  {
   "cell_type": "code",
   "execution_count": null,
   "metadata": {},
   "outputs": [],
   "source": [
    "wilcox.test( df %>% dplyr::filter(Kras_status == \"WT\") %>% pull(frac),\n",
    "            df %>% dplyr::filter(Kras_status == \"Kras-mut\") %>% pull(frac) )"
   ]
  },
  {
   "cell_type": "code",
   "execution_count": null,
   "metadata": {},
   "outputs": [],
   "source": [
    "wilcox.test(gse106550_df %>% dplyr::filter(gene_type==\"Edge\") %>% pull(log2FoldChange),\n",
    "           gse106550_df %>% dplyr::filter(gene_type != \"Edge\") %>% pull(log2FoldChange),\n",
    "           alternative=\"g\")\n",
    "wilcox.test(gse102675_df %>% dplyr::filter(gene_type==\"Edge\") %>% pull(log2FoldChange),\n",
    "           gse102675_df %>% dplyr::filter(gene_type != \"Edge\") %>% pull(log2FoldChange),\n",
    "           alternative=\"g\")\n",
    "wilcox.test(gse143748_df %>% dplyr::filter(gene_type==\"Edge\") %>% pull(log2FoldChange),\n",
    "           gse143748_df %>% dplyr::filter(gene_type != \"Edge\") %>% pull(log2FoldChange),\n",
    "           alternative=\"g\")\n",
    "wilcox.test(gse84659_df %>% dplyr::filter(comparison == \"8h-Control\" & gene_type==\"Edge\") %>% pull(log2FoldChange),\n",
    "           gse84659_df %>% dplyr::filter(comparison == \"8h-Control\" & gene_type != \"Edge\") %>% pull(log2FoldChange),\n",
    "           alternative=\"g\")\n",
    "wilcox.test(gse84659_df %>% dplyr::filter(comparison == \"24h-Control\" & gene_type==\"Edge\") %>% pull(log2FoldChange),\n",
    "           gse84659_df %>% dplyr::filter(comparison == \"24h-Control\" & gene_type != \"Edge\") %>% pull(log2FoldChange),\n",
    "           alternative=\"g\")\n",
    "wilcox.test(gse84659_df %>% dplyr::filter(comparison == \"48h-Control\" & gene_type==\"Edge\") %>% pull(log2FoldChange),\n",
    "           gse84659_df %>% dplyr::filter(comparison == \"48h-Control\" & gene_type != \"Edge\") %>% pull(log2FoldChange),\n",
    "           alternative=\"g\")\n",
    "wilcox.test(gse132330_df %>% dplyr::filter(comparison == \"Injury_vs_Normal\" & gene_type==\"Edge\") %>% pull(log2FoldChange),\n",
    "           gse132330_df %>% dplyr::filter(comparison == \"Injury_vs_Normal\" & gene_type != \"Edge\") %>% pull(log2FoldChange),\n",
    "           alternative=\"g\")\n",
    "wilcox.test(gse132330_df %>% dplyr::filter(comparison == \"KrasG12D_vs_Normal\" & gene_type==\"Edge\") %>% pull(log2FoldChange),\n",
    "           gse132330_df %>% dplyr::filter(comparison == \"KrasG12D_vs_Normal\" & gene_type != \"Edge\") %>% pull(log2FoldChange),\n",
    "           alternative=\"g\")\n",
    "wilcox.test(gse132330_df %>% dplyr::filter(comparison == \"KrasG12DInjury_vs_Normal\" & gene_type==\"Edge\") %>% pull(log2FoldChange),\n",
    "           gse132330_df %>% dplyr::filter(comparison == \"KrasG12DInjury_vs_Normal\" & gene_type != \"Edge\") %>% pull(log2FoldChange),\n",
    "           alternative=\"g\")"
   ]
  },
  {
   "cell_type": "code",
   "execution_count": null,
   "metadata": {},
   "outputs": [],
   "source": [
    "gse132330_df %>% dplyr::filter(gene_type == \"Edge\") %>%\n",
    "dplyr::select(gene_name,comparison,log2FoldChange) %>% tidyr::pivot_wider(names_from=\"comparison\",\n",
    "                                                                         values_from=\"log2FoldChange\",\n",
    "                                                                         values_fn=mean) -> gse132330_wide_logfc_df\n",
    "wilcox.test(gse132330_wide_logfc_df$KrasG12DInjury_vs_Normal,\n",
    "           gse132330_wide_logfc_df$Injury_vs_Normal,alternative=\"g\")\n",
    "wilcox.test(gse132330_wide_logfc_df$KrasG12DInjury_vs_Normal,\n",
    "           gse132330_wide_logfc_df$KrasG12D_vs_Normal,alternative=\"g\")"
   ]
  },
  {
   "cell_type": "markdown",
   "metadata": {},
   "source": [
    "### Figure 7"
   ]
  },
  {
   "cell_type": "code",
   "execution_count": null,
   "metadata": {},
   "outputs": [],
   "source": [
    "options(repr.plot.width=12)\n",
    "p_fig7 <- grid.arrange(\n",
    "    arrangeGrob(p1,p2,#p3,\n",
    "                p_mouse, \n",
    "                p_edge_kras_logFC + xlab(\"Log2-FC (Kras vs WT)\") + ylab(\"Log2-FC (Edge vs Non-Edge)\"),\n",
    "                p_bulk_pancreatitis + ylab(\"Log2-FC\"),\n",
    "    layout_matrix=rbind(c(1,2,3),c(4,5,5)),\n",
    "    ncol=3\n",
    "))\n",
    "# p_fig7 <- ggarrange(p1,p2,#p3,\n",
    "#                     p_mouse,\n",
    "#                     p_edge_kras_logFC,\n",
    "#                     p_bulk_pancreatitis,\n",
    "#          nrow=2,ncol=3)\n",
    "ggsave(\"Fig7.svg\",p_fig7,width=9,height=5)"
   ]
  }
 ],
 "metadata": {
  "kernelspec": {
   "display_name": "R/4.0",
   "language": "R",
   "name": "ir40"
  },
  "language_info": {
   "codemirror_mode": "r",
   "file_extension": ".r",
   "mimetype": "text/x-r-source",
   "name": "R",
   "pygments_lexer": "r",
   "version": "4.0.3"
  },
  "toc": {
   "base_numbering": 1,
   "nav_menu": {},
   "number_sections": true,
   "sideBar": true,
   "skip_h1_title": false,
   "title_cell": "Table of Contents",
   "title_sidebar": "Contents",
   "toc_cell": false,
   "toc_position": {
    "height": "calc(100% - 180px)",
    "left": "10px",
    "top": "150px",
    "width": "324.2px"
   },
   "toc_section_display": true,
   "toc_window_display": true
  }
 },
 "nbformat": 4,
 "nbformat_minor": 2
}
